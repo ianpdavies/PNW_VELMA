{
 "cells": [
  {
   "cell_type": "markdown",
   "metadata": {},
   "source": [
    "# Comparing the Naselle USGS rainfall gauge with PRISM gridded rainfall"
   ]
  },
  {
   "cell_type": "code",
   "execution_count": 1,
   "metadata": {},
   "outputs": [],
   "source": [
    "%matplotlib widget\n",
    "\n",
    "import __init__\n",
    "import scripts.config as config\n",
    "import pandas as pd\n",
    "import matplotlib.pyplot as plt\n",
    "import mpld3\n",
    "import numpy as np"
   ]
  },
  {
   "cell_type": "code",
   "execution_count": 2,
   "metadata": {},
   "outputs": [],
   "source": [
    "XSMALL_SIZE = 6\n",
    "SMALL_SIZE = 7\n",
    "MEDIUM_SIZE = 9\n",
    "BIGGER_SIZE = 12\n",
    "\n",
    "plt.rc('font', size=SMALL_SIZE)          # controls default text sizes\n",
    "plt.rc('axes', titlesize=SMALL_SIZE)     # fontsize of the axes title\n",
    "plt.rc('axes', labelsize=SMALL_SIZE)    # fontsize of the x and y labels\n",
    "plt.rc('xtick', labelsize=SMALL_SIZE)    # fontsize of the tick labels\n",
    "plt.rc('ytick', labelsize=SMALL_SIZE)    # fontsize of the tick labels\n",
    "plt.rc('legend', fontsize=SMALL_SIZE)    # legend fontsize\n",
    "plt.rc('axes', titlesize=MEDIUM_SIZE)  # fontsize of the figure title\n",
    "plt.rcParams['figure.dpi'] = 140"
   ]
  },
  {
   "cell_type": "code",
   "execution_count": 3,
   "metadata": {},
   "outputs": [
    {
     "name": "stderr",
     "output_type": "stream",
     "text": [
      "C:\\Users\\ipdavies\\AppData\\Local\\Continuum\\anaconda3\\envs\\tnc_velma\\lib\\site-packages\\IPython\\core\\interactiveshell.py:3147: DtypeWarning: Columns (9,13,37,43,45) have mixed types.Specify dtype option on import or set low_memory=False.\n",
      "  interactivity=interactivity, compiler=compiler, result=result)\n"
     ]
    }
   ],
   "source": [
    "gauge = pd.read_csv(config.daily_ppt.parents[0] / 'GHCND_USC00455774_1929_2020.csv', parse_dates=True, index_col=5)\n",
    "gauge['SNOW'].fillna(0, inplace=True)\n",
    "gauge['SNOW_SWE'] = gauge['SNOW'] / 13\n",
    "gauge['PRCP_TOT'] = gauge['PRCP'] + gauge['SNOW_SWE']\n",
    "gauge_precip = gauge[['PRCP_TOT']]\n",
    "\n",
    "prism_precip = pd.read_csv(str(config.daily_ppt), parse_dates=True, index_col=0)\n",
    "\n",
    "# Expand precip record to full date range in case some days are missing\n",
    "velma_start = pd.to_datetime('01-01-2003')\n",
    "velma_end = pd.to_datetime('12-31-2019')\n",
    "rng = pd.date_range(velma_start, velma_end)\n",
    "date_df = pd.DataFrame(index=rng)\n",
    "gauge_precip_velma = date_df.merge(gauge_precip, left_index=True, right_index=True, how='left')\n",
    "prism_precip_velma = date_df.merge(prism_precip, left_index=True, right_index=True, how='left')\n",
    "\n",
    "# Subset to simulation date range and add doy and year columns\n",
    "start = pd.to_datetime('2003-01-01')\n",
    "end = pd.to_datetime('2007-12-31')\n",
    "gauge_precip04_07 = gauge_precip[(gauge_precip.index >= start) & (gauge_precip.index <= end)].copy()\n",
    "prism_precip04_07 = prism_precip[(prism_precip.index >= start) & (prism_precip.index <= end)].copy()\n",
    "\n",
    "gauge_precip04_07['doy'], gauge_precip04_07['year'] = gauge_precip04_07.index.dayofyear, gauge_precip04_07.index.year\n",
    "prism_precip04_07['doy'], prism_precip04_07['year'] = prism_precip04_07.index.dayofyear, prism_precip04_07.index.year"
   ]
  },
  {
   "cell_type": "code",
   "execution_count": 4,
   "metadata": {},
   "outputs": [
    {
     "data": {
      "application/vnd.jupyter.widget-view+json": {
       "model_id": "7fc02c0a0d5a4ab98925c9b92cc2319e",
       "version_major": 2,
       "version_minor": 0
      },
      "text/plain": [
       "Canvas(toolbar=Toolbar(toolitems=[('Home', 'Reset original view', 'home', 'home'), ('Back', 'Back to previous …"
      ]
     },
     "metadata": {},
     "output_type": "display_data"
    }
   ],
   "source": [
    "# PRISM vs. nearby gauge precipitation\n",
    "gauge_yearly = pd.pivot_table(gauge_precip04_07, index=['doy'], columns=['year'], values=['PRCP_TOT'])\n",
    "prism_yearly = pd.pivot_table(prism_precip04_07, index=['doy'], columns=['year'], values=['mean_ppt_mm'])\n",
    "\n",
    "years = gauge_yearly.columns.get_level_values(1)\n",
    "fig, axes = plt.subplots(ncols=1, nrows=len(years), figsize=(6, 9))\n",
    "for col, year in enumerate(years):\n",
    "    gauge_yearly.iloc[:, col].plot(ax=axes[col], label='Gauge', linewidth=0.6)\n",
    "    prism_yearly.iloc[:, col].plot(ax=axes[col], label='PRISM', linewidth=0.6)\n",
    "    axes[col].set_title(year)\n",
    "    axes[col].set_ylim([0, 80])\n",
    "axes[0].legend(loc='upper left', bbox_to_anchor=(0, 1.3), fancybox=True, ncol=2)\n",
    "axes[0].set_ylabel('Precipitation (mm)')\n",
    "plt.tight_layout()"
   ]
  },
  {
   "cell_type": "code",
   "execution_count": 5,
   "metadata": {},
   "outputs": [
    {
     "data": {
      "application/vnd.jupyter.widget-view+json": {
       "model_id": "bd72d6ef6a1549cf9c9ffd9e5614fe6b",
       "version_major": 2,
       "version_minor": 0
      },
      "text/plain": [
       "Canvas(toolbar=Toolbar(toolitems=[('Home', 'Reset original view', 'home', 'home'), ('Back', 'Back to previous …"
      ]
     },
     "metadata": {},
     "output_type": "display_data"
    }
   ],
   "source": [
    "# Looks like the peaks are misaligned by a day - roll gauge values back by a day and compare with PRISM\n",
    "gauge_precip04_07['PRCP_TOT_tmin1'] = gauge_precip04_07['PRCP_TOT'].shift(-1)\n",
    "gauge_yearly_tmin1 = pd.pivot_table(gauge_precip04_07, index=['doy'], columns=['year'], values=['PRCP_TOT_tmin1'])\n",
    "\n",
    "years = gauge_yearly.columns.get_level_values(1)\n",
    "fig, axes = plt.subplots(ncols=1, nrows=len(years), figsize=(6, 9))\n",
    "for col, year in enumerate(years):\n",
    "    gauge_yearly_tmin1.iloc[:, col].plot(ax=axes[col], label='Gauge (t-1)', linewidth=0.6)\n",
    "    prism_yearly.iloc[:, col].plot(ax=axes[col], label='PRISM', linewidth=0.6)\n",
    "    axes[col].set_title(year)\n",
    "    axes[col].set_ylim([0, 80])\n",
    "axes[0].legend(loc='upper left', bbox_to_anchor=(0, 1.3), fancybox=True, ncol=2)\n",
    "axes[0].set_ylabel('Precipitation (mm)')\n",
    "plt.tight_layout()"
   ]
  },
  {
   "cell_type": "code",
   "execution_count": 6,
   "metadata": {},
   "outputs": [
    {
     "data": {
      "application/vnd.jupyter.widget-view+json": {
       "model_id": "7235feab653249b0b0c9f272a846a33c",
       "version_major": 2,
       "version_minor": 0
      },
      "text/plain": [
       "Canvas(toolbar=Toolbar(toolitems=[('Home', 'Reset original view', 'home', 'home'), ('Back', 'Back to previous …"
      ]
     },
     "metadata": {},
     "output_type": "display_data"
    }
   ],
   "source": [
    "# Comparing observed runoff with gauge precip and gauge precip(t-1)\n",
    "runoff_obs = pd.read_csv(config.velma_data / 'runoff' / 'ellsworth_Q_2003_2007_dummy.csv', names=['runoff_obs'])\n",
    "runoff_obs.index = pd.date_range('01-01-2003', '12-31-2007')\n",
    "runoff_obs['doy'], runoff_obs['year'] = runoff_obs.index.dayofyear, runoff_obs.index.year\n",
    "runoff_obs_yearly = pd.pivot_table(runoff_obs, index=['doy'], columns=['year'], values=['runoff_obs'])\n",
    "\n",
    "years = gauge_yearly.columns.get_level_values(1)\n",
    "fig, axes = plt.subplots(ncols=1, nrows=len(years), figsize=(6, 9))\n",
    "for col, year in enumerate(years):\n",
    "    gauge_yearly_tmin1.iloc[:, col].plot(ax=axes[col], label='Gauge (t-1)', linewidth=0.6)\n",
    "    gauge_yearly.iloc[:, col].plot(ax=axes[col], label='Gauge', linewidth=0.6)\n",
    "    runoff_obs_yearly.iloc[:, col].plot(ax=axes[col], label='Runoff', linewidth=0.6)\n",
    "    axes[col].set_title(year)\n",
    "    axes[col].set_ylim([0, 80])\n",
    "axes[0].legend(loc='upper left', bbox_to_anchor=(0, 1.5), fancybox=True, ncol=3)\n",
    "axes[0].set_ylabel('Precipitation (mm)')\n",
    "plt.tight_layout()"
   ]
  },
  {
   "cell_type": "code",
   "execution_count": 7,
   "metadata": {},
   "outputs": [],
   "source": [
    "# Fill missing gauge dates with PRISM data\n",
    "gauge_precip_velma['PRCP_TOT'] = gauge_precip_velma['PRCP_TOT'].combine_first(prism_precip_velma['mean_ppt_mm'])"
   ]
  },
  {
   "cell_type": "code",
   "execution_count": 8,
   "metadata": {},
   "outputs": [],
   "source": [
    "# # Export t-1 gauge data (shifted back a day)\n",
    "\n",
    "# gauge_precip_tmin1 = gauge_precip.copy()\n",
    "# gauge_precip_tmin1['PRCP_tmin1'] = gauge_precip_tmin1['PRCP_TOT'].shift(-1)\n",
    "\n",
    "# start = pd.to_datetime('2003-01-01')\n",
    "# end = pd.to_datetime('2007-12-31')\n",
    "# gauge_precip_tmin1_velma = gauge_precip_tmin1[(gauge_precip_tmin1.index >= start) & (gauge_precip_tmin1.index <= end)]['PRCP_tmin1'].copy()\n",
    "\n",
    "# outfile = str(config.velma_data / 'precip' / 'GHCND_USC00455774_ppt_tmin1_2003_2019.csv')\n",
    "# gauge_precip_tmin1_velma.to_csv(outfile, header=False, index=False)"
   ]
  },
  {
   "cell_type": "code",
   "execution_count": 9,
   "metadata": {},
   "outputs": [],
   "source": [
    "# # Export gauge data\n",
    "# outfile = str(config.velma_data / 'precip' / 'GHCND_USC00455774_ppt_2003_2019.csv')\n",
    "# if len(pd.date_range(velma_start, velma_end)) != len(gauge_precip_velma):\n",
    "#     print('STOP: Duplicates/missing values exist in output file: ', outfile)\n",
    "# gauge_precip_velma.to_csv(outfile, header=False, index=False)"
   ]
  },
  {
   "cell_type": "code",
   "execution_count": 9,
   "metadata": {},
   "outputs": [],
   "source": [
    "# # Export averaged PRISM and gauge data\n",
    "# avg = np.mean([gauge_precip_velma, prism_precip_velma], axis=0)\n",
    "# avg_precip_velma = pd.DataFrame(data=avg, columns=['avg_ppt'])\n",
    "# outfile = str(config.velma_data / 'precip' / 'PRISM_gauge_avg_ppt_2003_2019.csv')\n",
    "# if len(pd.date_range(velma_start, velma_end)) != len(avg_precip_velma):\n",
    "#     print('STOP: Duplicates/missing values exist in output file: ', outfile)\n",
    "# avg_precip_velma.to_csv(outfile, header=False, index=False)"
   ]
  },
  {
   "cell_type": "code",
   "execution_count": 9,
   "metadata": {
    "collapsed": true,
    "jupyter": {
     "outputs_hidden": true
    }
   },
   "outputs": [
    {
     "ename": "ValueError",
     "evalue": "Length mismatch: Expected axis has 1461 elements, new values have 5844 elements",
     "output_type": "error",
     "traceback": [
      "\u001b[1;31m---------------------------------------------------------------------------\u001b[0m",
      "\u001b[1;31mValueError\u001b[0m                                Traceback (most recent call last)",
      "\u001b[1;32m<ipython-input-9-a8bdc51ad0a7>\u001b[0m in \u001b[0;36m<module>\u001b[1;34m\u001b[0m\n\u001b[0;32m      8\u001b[0m \u001b[0mrng\u001b[0m \u001b[1;33m=\u001b[0m \u001b[0mpd\u001b[0m\u001b[1;33m.\u001b[0m\u001b[0mdate_range\u001b[0m\u001b[1;33m(\u001b[0m\u001b[0mvelma_start\u001b[0m\u001b[1;33m,\u001b[0m \u001b[0mvelma_end\u001b[0m\u001b[1;33m)\u001b[0m\u001b[1;33m\u001b[0m\u001b[1;33m\u001b[0m\u001b[0m\n\u001b[0;32m      9\u001b[0m \u001b[0mdate_df\u001b[0m \u001b[1;33m=\u001b[0m \u001b[0mpd\u001b[0m\u001b[1;33m.\u001b[0m\u001b[0mDataFrame\u001b[0m\u001b[1;33m(\u001b[0m\u001b[0mindex\u001b[0m\u001b[1;33m=\u001b[0m\u001b[0mrng\u001b[0m\u001b[1;33m)\u001b[0m\u001b[1;33m\u001b[0m\u001b[1;33m\u001b[0m\u001b[0m\n\u001b[1;32m---> 10\u001b[1;33m \u001b[0mppt1\u001b[0m\u001b[1;33m.\u001b[0m\u001b[0mindex\u001b[0m \u001b[1;33m=\u001b[0m \u001b[0mrng\u001b[0m\u001b[1;33m\u001b[0m\u001b[1;33m\u001b[0m\u001b[0m\n\u001b[0m\u001b[0;32m     11\u001b[0m \u001b[0mppt2\u001b[0m\u001b[1;33m.\u001b[0m\u001b[0mindex\u001b[0m \u001b[1;33m=\u001b[0m \u001b[0mrng\u001b[0m\u001b[1;33m\u001b[0m\u001b[1;33m\u001b[0m\u001b[0m\n\u001b[0;32m     12\u001b[0m \u001b[1;33m\u001b[0m\u001b[0m\n",
      "\u001b[1;32m~\\AppData\\Local\\Continuum\\anaconda3\\envs\\tnc_velma\\lib\\site-packages\\pandas\\core\\generic.py\u001b[0m in \u001b[0;36m__setattr__\u001b[1;34m(self, name, value)\u001b[0m\n\u001b[0;32m   5471\u001b[0m         \u001b[1;32mtry\u001b[0m\u001b[1;33m:\u001b[0m\u001b[1;33m\u001b[0m\u001b[1;33m\u001b[0m\u001b[0m\n\u001b[0;32m   5472\u001b[0m             \u001b[0mobject\u001b[0m\u001b[1;33m.\u001b[0m\u001b[0m__getattribute__\u001b[0m\u001b[1;33m(\u001b[0m\u001b[0mself\u001b[0m\u001b[1;33m,\u001b[0m \u001b[0mname\u001b[0m\u001b[1;33m)\u001b[0m\u001b[1;33m\u001b[0m\u001b[1;33m\u001b[0m\u001b[0m\n\u001b[1;32m-> 5473\u001b[1;33m             \u001b[1;32mreturn\u001b[0m \u001b[0mobject\u001b[0m\u001b[1;33m.\u001b[0m\u001b[0m__setattr__\u001b[0m\u001b[1;33m(\u001b[0m\u001b[0mself\u001b[0m\u001b[1;33m,\u001b[0m \u001b[0mname\u001b[0m\u001b[1;33m,\u001b[0m \u001b[0mvalue\u001b[0m\u001b[1;33m)\u001b[0m\u001b[1;33m\u001b[0m\u001b[1;33m\u001b[0m\u001b[0m\n\u001b[0m\u001b[0;32m   5474\u001b[0m         \u001b[1;32mexcept\u001b[0m \u001b[0mAttributeError\u001b[0m\u001b[1;33m:\u001b[0m\u001b[1;33m\u001b[0m\u001b[1;33m\u001b[0m\u001b[0m\n\u001b[0;32m   5475\u001b[0m             \u001b[1;32mpass\u001b[0m\u001b[1;33m\u001b[0m\u001b[1;33m\u001b[0m\u001b[0m\n",
      "\u001b[1;32mpandas\\_libs\\properties.pyx\u001b[0m in \u001b[0;36mpandas._libs.properties.AxisProperty.__set__\u001b[1;34m()\u001b[0m\n",
      "\u001b[1;32m~\\AppData\\Local\\Continuum\\anaconda3\\envs\\tnc_velma\\lib\\site-packages\\pandas\\core\\generic.py\u001b[0m in \u001b[0;36m_set_axis\u001b[1;34m(self, axis, labels)\u001b[0m\n\u001b[0;32m    665\u001b[0m     \u001b[1;32mdef\u001b[0m \u001b[0m_set_axis\u001b[0m\u001b[1;33m(\u001b[0m\u001b[0mself\u001b[0m\u001b[1;33m,\u001b[0m \u001b[0maxis\u001b[0m\u001b[1;33m:\u001b[0m \u001b[0mint\u001b[0m\u001b[1;33m,\u001b[0m \u001b[0mlabels\u001b[0m\u001b[1;33m:\u001b[0m \u001b[0mIndex\u001b[0m\u001b[1;33m)\u001b[0m \u001b[1;33m->\u001b[0m \u001b[1;32mNone\u001b[0m\u001b[1;33m:\u001b[0m\u001b[1;33m\u001b[0m\u001b[1;33m\u001b[0m\u001b[0m\n\u001b[0;32m    666\u001b[0m         \u001b[0mlabels\u001b[0m \u001b[1;33m=\u001b[0m \u001b[0mensure_index\u001b[0m\u001b[1;33m(\u001b[0m\u001b[0mlabels\u001b[0m\u001b[1;33m)\u001b[0m\u001b[1;33m\u001b[0m\u001b[1;33m\u001b[0m\u001b[0m\n\u001b[1;32m--> 667\u001b[1;33m         \u001b[0mself\u001b[0m\u001b[1;33m.\u001b[0m\u001b[0m_mgr\u001b[0m\u001b[1;33m.\u001b[0m\u001b[0mset_axis\u001b[0m\u001b[1;33m(\u001b[0m\u001b[0maxis\u001b[0m\u001b[1;33m,\u001b[0m \u001b[0mlabels\u001b[0m\u001b[1;33m)\u001b[0m\u001b[1;33m\u001b[0m\u001b[1;33m\u001b[0m\u001b[0m\n\u001b[0m\u001b[0;32m    668\u001b[0m         \u001b[0mself\u001b[0m\u001b[1;33m.\u001b[0m\u001b[0m_clear_item_cache\u001b[0m\u001b[1;33m(\u001b[0m\u001b[1;33m)\u001b[0m\u001b[1;33m\u001b[0m\u001b[1;33m\u001b[0m\u001b[0m\n\u001b[0;32m    669\u001b[0m \u001b[1;33m\u001b[0m\u001b[0m\n",
      "\u001b[1;32m~\\AppData\\Local\\Continuum\\anaconda3\\envs\\tnc_velma\\lib\\site-packages\\pandas\\core\\internals\\managers.py\u001b[0m in \u001b[0;36mset_axis\u001b[1;34m(self, axis, new_labels)\u001b[0m\n\u001b[0;32m    219\u001b[0m         \u001b[1;32mif\u001b[0m \u001b[0mnew_len\u001b[0m \u001b[1;33m!=\u001b[0m \u001b[0mold_len\u001b[0m\u001b[1;33m:\u001b[0m\u001b[1;33m\u001b[0m\u001b[1;33m\u001b[0m\u001b[0m\n\u001b[0;32m    220\u001b[0m             raise ValueError(\n\u001b[1;32m--> 221\u001b[1;33m                 \u001b[1;34mf\"Length mismatch: Expected axis has {old_len} elements, new \"\u001b[0m\u001b[1;33m\u001b[0m\u001b[1;33m\u001b[0m\u001b[0m\n\u001b[0m\u001b[0;32m    222\u001b[0m                 \u001b[1;34mf\"values have {new_len} elements\"\u001b[0m\u001b[1;33m\u001b[0m\u001b[1;33m\u001b[0m\u001b[0m\n\u001b[0;32m    223\u001b[0m             )\n",
      "\u001b[1;31mValueError\u001b[0m: Length mismatch: Expected axis has 1461 elements, new values have 5844 elements"
     ]
    }
   ],
   "source": [
    "# # Compare prism and exported naselle precip measurements to make sure they are different\n",
    "\n",
    "# ppt1 = pd.read_csv(outfile, names=['ppt1'])\n",
    "# ppt2 = pd.read_csv(str(config.velma_data / 'precip' / 'ellsworth_ppt_2003_2019.csv'), names=['ppt2'])\n",
    "\n",
    "# velma_start = pd.to_datetime('01-01-2003')\n",
    "# velma_end = pd.to_datetime('12-31-2019')\n",
    "# rng = pd.date_range(velma_start, velma_end)\n",
    "# date_df = pd.DataFrame(index=rng)\n",
    "# ppt1.index = rng\n",
    "# ppt2.index = rng\n",
    "\n",
    "# ppt1['doy'], ppt1['year'] = ppt1.index.dayofyear, ppt1.index.year\n",
    "# ppt2['doy'], ppt2['year'] = ppt2.index.dayofyear, ppt2.index.year\n",
    "\n",
    "# start = pd.to_datetime('2003-01-01')\n",
    "# end = pd.to_datetime('2007-12-31')\n",
    "# ppt1 = ppt1[(ppt1.index >= start) & (ppt1.index <= end)].copy()\n",
    "# ppt2 = ppt2[(ppt2.index >= start) & (ppt2.index <= end)].copy()\n",
    "\n",
    "# ppt1_yearly = pd.pivot_table(ppt1, index=['doy'], columns=['year'], values=['ppt1'])\n",
    "# ppt2_yearly = pd.pivot_table(ppt2, index=['doy'], columns=['year'], values=['ppt2'])\n",
    "\n",
    "\n",
    "# years = ppt1_yearly.columns.get_level_values(1)\n",
    "# fig, axes = plt.subplots(ncols=1, nrows=len(years), figsize=(6, 9))\n",
    "# for col, year in enumerate(years):\n",
    "#     ppt1_yearly.iloc[:, col].plot(ax=axes[col], label='Gauge', linewidth=0.6)\n",
    "#     ppt2_yearly.iloc[:, col].plot(ax=axes[col], label='PRISM', linewidth=0.6)\n",
    "#     axes[col].set_title(year)\n",
    "#     axes[col].set_ylim([0, 80])\n",
    "# axes[0].legend(loc='upper left', bbox_to_anchor=(0, 1.3), fancybox=True, ncol=2)\n",
    "# plt.tight_layout()"
   ]
  },
  {
   "cell_type": "markdown",
   "metadata": {},
   "source": [
    "Using precip/temp downloaded from PRISM data explorer page"
   ]
  }
 ],
 "metadata": {
  "kernelspec": {
   "display_name": "tnc_velma",
   "language": "python",
   "name": "tnc_velma"
  },
  "language_info": {
   "codemirror_mode": {
    "name": "ipython",
    "version": 3
   },
   "file_extension": ".py",
   "mimetype": "text/x-python",
   "name": "python",
   "nbconvert_exporter": "python",
   "pygments_lexer": "ipython3",
   "version": "3.7.8"
  }
 },
 "nbformat": 4,
 "nbformat_minor": 4
}
