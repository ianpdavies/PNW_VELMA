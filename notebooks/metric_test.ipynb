{
 "cells": [
  {
   "cell_type": "markdown",
   "metadata": {},
   "source": [
    "# Comparing efficiency metrics for model runoff calibration\n",
    "Study comparing different metrics, [Comparison of different efficiency criteria for hydrological model\n",
    "assessment (Krause et al. 2005)](https://adgeo.copernicus.org/articles/5/89/2005/adgeo-5-89-2005.pdf)"
   ]
  },
  {
   "cell_type": "code",
   "execution_count": 2,
   "metadata": {},
   "outputs": [],
   "source": [
    "%matplotlib widget\n",
    "\n",
    "import __init__\n",
    "import scripts.config as config\n",
    "import numpy as np\n",
    "import pandas as pd\n",
    "import tempfile\n",
    "import datetime\n",
    "from sklearn.svm import SVR\n",
    "import geopandas as gpd\n",
    "from sklearn.metrics import mean_squared_error, r2_score, mean_absolute_error\n",
    "from matplotlib.font_manager import FontProperties\n",
    "import seaborn as sns\n",
    "# import matplotlib as mpl\n",
    "import matplotlib.pyplot as plt\n",
    "import importlib\n",
    "import HydroErr as he"
   ]
  },
  {
   "cell_type": "code",
   "execution_count": 3,
   "metadata": {},
   "outputs": [],
   "source": [
    "# Plotting parameters\n",
    "\n",
    "XSMALL_SIZE = 6\n",
    "SMALL_SIZE = 7\n",
    "MEDIUM_SIZE = 9\n",
    "BIGGER_SIZE = 12\n",
    "\n",
    "plt.rc('font', size=SMALL_SIZE)          # controls default text sizes\n",
    "plt.rc('axes', titlesize=SMALL_SIZE)     # fontsize of the axes title\n",
    "plt.rc('axes', labelsize=SMALL_SIZE)    # fontsize of the x and y labels\n",
    "plt.rc('xtick', labelsize=SMALL_SIZE)    # fontsize of the tick labels\n",
    "plt.rc('ytick', labelsize=SMALL_SIZE)    # fontsize of the tick labels\n",
    "plt.rc('legend', fontsize=SMALL_SIZE)    # legend fontsize\n",
    "plt.rc('axes', titlesize=SMALL_SIZE)  # fontsize of the figure title\n",
    "plt.rcParams['figure.dpi'] = 140"
   ]
  },
  {
   "cell_type": "code",
   "execution_count": 4,
   "metadata": {},
   "outputs": [],
   "source": [
    "# Import and format observed data (2003-2007 runoff)\n",
    "\n",
    "input_dir = config.velma_data\n",
    "results_dir = config.data_path.parents[0] / 'results' / 'ellsworth_baseline_03_07_12'\n",
    "\n",
    "runoff_path = input_dir / 'runoff' / 'ellsworth_Q_2003_2007_dummy.csv'\n",
    "runoff_start = pd.to_datetime('01-01-2003')\n",
    "runoff_end = pd.to_datetime('12-31-2007')\n",
    "nse_start = pd.to_datetime('01-01-2004')\n",
    "nse_end = pd.to_datetime('12-31-2007')\n",
    "\n",
    "runoff_obs = pd.read_csv(runoff_path, names=['runoff_obs'])\n",
    "runoff_obs.index = pd.date_range(runoff_start, runoff_end)\n",
    "runoff_obs['doy'], runoff_obs['year'] = runoff_obs.index.dayofyear, runoff_obs.index.year\n",
    "runoff_obs = runoff_obs[(runoff_obs.index >= nse_start) & (runoff_obs.index <= nse_end)]\n",
    "\n",
    "flow_path = config.streamflow\n",
    "quality = pd.read_csv(flow_path, usecols=['Date', 'Quality'], parse_dates=True, index_col=0)\n",
    "quality = quality[(quality.index >= nse_start) & (quality.index <= nse_end)]\n",
    "\n",
    "precip_path = input_dir / 'precip' / 'PRISM_gauge_avg_ppt_2003_2019.csv'\n",
    "forcing_start = pd.to_datetime('01-01-2003')\n",
    "forcing_end = pd.to_datetime('12-31-2019')                     \n",
    "precip = pd.read_csv(precip_path, names=['precip'])\n",
    "precip.index = pd.date_range(forcing_start, forcing_end)\n",
    "precip['doy'], precip['year'] = precip.index.dayofyear, precip.index.year\n",
    "precip = precip[(precip.index >= nse_start) & (precip.index <= nse_end)]\n",
    "\n",
    "temp_path = input_dir / 'temp' / 'ellsworth_temp_2003_2019.csv'\n",
    "temp = pd.read_csv(temp_path, names=['temp'])\n",
    "temp.index = pd.date_range(forcing_start, forcing_end)\n",
    "temp['doy'], temp['year'] = temp.index.dayofyear, temp.index.year\n",
    "temp = temp[(temp.index >= nse_start) & (temp.index <= nse_end)]\n",
    "\n",
    "# Import VELMA outputs\n",
    "velma_results = pd.read_csv(results_dir / 'DailyResults.csv')\n",
    "\n",
    "# Format datetime of results\n",
    "jday_pad = velma_results['Day'].apply(lambda x: str(x).zfill(3))\n",
    "str_year = velma_results['Year'].apply(lambda x: str(x))\n",
    "velma_results['year_jday'] = str_year + jday_pad\n",
    "velma_results.index = pd.to_datetime(velma_results['year_jday'], format='%Y%j')\n",
    "velma_results = velma_results[(velma_results.index >= nse_start) & (velma_results.index <= nse_end)]"
   ]
  },
  {
   "cell_type": "markdown",
   "metadata": {},
   "source": [
    "## Plotting"
   ]
  },
  {
   "cell_type": "code",
   "execution_count": 21,
   "metadata": {},
   "outputs": [],
   "source": [
    "# Group measurements by year\n",
    "runoff_sim_yearly = pd.pivot_table(velma_results, index=['Day'], columns=['Year'],\n",
    "                                   values=['Runoff_All(mm/day)_Delineated_Average'])\n",
    "runoff_obs_yearly = pd.pivot_table(runoff_obs, index=['doy'], columns=['year'], values=['runoff_obs'])\n",
    "precip_yearly = pd.pivot_table(precip, index=['doy'], columns=['year'], values=['precip'])"
   ]
  },
  {
   "cell_type": "code",
   "execution_count": 22,
   "metadata": {},
   "outputs": [
    {
     "data": {
      "application/vnd.jupyter.widget-view+json": {
       "model_id": "6fe8521a29a64dd885ec91b875082e58",
       "version_major": 2,
       "version_minor": 0
      },
      "text/plain": [
       "Canvas(toolbar=Toolbar(toolitems=[('Home', 'Reset original view', 'home', 'home'), ('Back', 'Back to previous …"
      ]
     },
     "metadata": {},
     "output_type": "display_data"
    }
   ],
   "source": [
    "# Observed vs. simulated runoff\n",
    "years = runoff_obs_yearly.columns.get_level_values(1)\n",
    "fig, axes = plt.subplots(ncols=1, nrows=len(years), figsize=(6, 9))\n",
    "for col, year in enumerate(years):\n",
    "    runoff_obs_yearly.iloc[:, col].plot(ax=axes[col], label='Observed', linewidth=1)\n",
    "    runoff_sim_yearly.iloc[:, col].plot(ax=axes[col], label='Simulated', linewidth=1)\n",
    "    axes[col].set_title(year)\n",
    "    axes[col].set_ylim([0, 80])\n",
    "axes[0].legend(loc='upper left', bbox_to_anchor=(0, 1.3), fancybox=True, ncol=2)\n",
    "axes[0].set_ylabel('Runoff (mm/day)')\n",
    "plt.tight_layout()"
   ]
  },
  {
   "cell_type": "code",
   "execution_count": 23,
   "metadata": {},
   "outputs": [],
   "source": [
    "# Nash-Sutcliffe Efficiency (NSE) \n",
    "\n",
    "def NSE_individ(s, o):\n",
    "    # s,o = filter_nan(s,o)\n",
    "#     return 1 - (o - s)**2/(o - np.mean(o))**2\n",
    "    mean_obs = np.mean(o)\n",
    "    numerator = (o - s)**2\n",
    "    denominator = (o - mean_obs)**2\n",
    "    return 1 - (numerator/denominator)\n",
    "\n",
    "years = runoff_obs_yearly.columns.get_level_values(1)\n",
    "runoff_nse = pd.DataFrame(columns=years)\n",
    "for i, year in enumerate(years):\n",
    "    runoff_nse.iloc[:, i] = NSE_individ(runoff_sim_yearly.iloc[:, i], runoff_obs_yearly.iloc[:, i])\n",
    "\n",
    "def NSE_rel_individ(s, o):\n",
    "    # s,o = filter_nan(s,o)\n",
    "    return 1 - ((s-o)/o)**2/((o-np.mean(o))/np.mean(o))**2\n",
    "\n",
    "years = runoff_obs_yearly.columns.get_level_values(1)\n",
    "runoff_nse_rel = pd.DataFrame(columns=years)\n",
    "for i, year in enumerate(years):\n",
    "    runoff_nse_rel.iloc[:, i] = NSE_rel_individ(runoff_sim_yearly.iloc[:, i], runoff_obs_yearly.iloc[:, i])\n"
   ]
  },
  {
   "cell_type": "markdown",
   "metadata": {},
   "source": [
    "## Cumulative NSE"
   ]
  },
  {
   "cell_type": "code",
   "execution_count": 24,
   "metadata": {},
   "outputs": [],
   "source": [
    "def NSE(s, o):\n",
    "    obs_mean = np.nanmean(o)\n",
    "    numerator = np.nansum((o - s)**2)\n",
    "    denominator = np.nansum((o - obs_mean)**2)\n",
    "    return 1 - numerator/denominator"
   ]
  },
  {
   "cell_type": "code",
   "execution_count": 25,
   "metadata": {},
   "outputs": [
    {
     "data": {
      "text/plain": [
       "'NS (2004): '"
      ]
     },
     "metadata": {},
     "output_type": "display_data"
    },
    {
     "data": {
      "text/plain": [
       "0.6005535538604774"
      ]
     },
     "metadata": {},
     "output_type": "display_data"
    },
    {
     "data": {
      "text/plain": [
       "'NS (2005): '"
      ]
     },
     "metadata": {},
     "output_type": "display_data"
    },
    {
     "data": {
      "text/plain": [
       "0.7509217791510732"
      ]
     },
     "metadata": {},
     "output_type": "display_data"
    },
    {
     "data": {
      "text/plain": [
       "'NS (2006): '"
      ]
     },
     "metadata": {},
     "output_type": "display_data"
    },
    {
     "data": {
      "text/plain": [
       "0.054723354364196175"
      ]
     },
     "metadata": {},
     "output_type": "display_data"
    },
    {
     "data": {
      "text/plain": [
       "'NS (2007): '"
      ]
     },
     "metadata": {},
     "output_type": "display_data"
    },
    {
     "data": {
      "text/plain": [
       "0.579676568310854"
      ]
     },
     "metadata": {},
     "output_type": "display_data"
    }
   ],
   "source": [
    "# Actual NSE values for the entire years\n",
    "display('NS (2004): ', NSE(runoff_sim_yearly.iloc[:, 0], runoff_obs_yearly.iloc[:, 0]))\n",
    "display('NS (2005): ', NSE(runoff_sim_yearly.iloc[:, 1], runoff_obs_yearly.iloc[:, 1]))\n",
    "display('NS (2006): ', NSE(runoff_sim_yearly.iloc[:, 2], runoff_obs_yearly.iloc[:, 2]))\n",
    "display('NS (2007): ', NSE(runoff_sim_yearly.iloc[:, 3], runoff_obs_yearly.iloc[:, 3]))"
   ]
  },
  {
   "cell_type": "markdown",
   "metadata": {},
   "source": [
    "#### Calculate NSE each day using runoff values from the preceding days of the year so far"
   ]
  },
  {
   "cell_type": "code",
   "execution_count": 26,
   "metadata": {},
   "outputs": [
    {
     "name": "stderr",
     "output_type": "stream",
     "text": [
      "C:\\Users\\ipdavies\\AppData\\Local\\Continuum\\anaconda3\\envs\\tnc_velma\\lib\\site-packages\\ipykernel_launcher.py:5: RuntimeWarning: divide by zero encountered in double_scalars\n",
      "  \"\"\"\n"
     ]
    },
    {
     "data": {
      "text/html": [
       "<div>\n",
       "<style scoped>\n",
       "    .dataframe tbody tr th:only-of-type {\n",
       "        vertical-align: middle;\n",
       "    }\n",
       "\n",
       "    .dataframe tbody tr th {\n",
       "        vertical-align: top;\n",
       "    }\n",
       "\n",
       "    .dataframe thead th {\n",
       "        text-align: right;\n",
       "    }\n",
       "</style>\n",
       "<table border=\"1\" class=\"dataframe\">\n",
       "  <thead>\n",
       "    <tr style=\"text-align: right;\">\n",
       "      <th>year</th>\n",
       "      <th>2004</th>\n",
       "      <th>2005</th>\n",
       "      <th>2006</th>\n",
       "      <th>2007</th>\n",
       "    </tr>\n",
       "  </thead>\n",
       "  <tbody>\n",
       "    <tr>\n",
       "      <th>0</th>\n",
       "      <td>0.000000</td>\n",
       "      <td>0.000000</td>\n",
       "      <td>0.000000</td>\n",
       "      <td>0.000000</td>\n",
       "    </tr>\n",
       "    <tr>\n",
       "      <th>1</th>\n",
       "      <td>-518.215517</td>\n",
       "      <td>-26.284477</td>\n",
       "      <td>-4.380135</td>\n",
       "      <td>0.892003</td>\n",
       "    </tr>\n",
       "    <tr>\n",
       "      <th>2</th>\n",
       "      <td>-518.972265</td>\n",
       "      <td>-4.001358</td>\n",
       "      <td>-2.775024</td>\n",
       "      <td>0.946225</td>\n",
       "    </tr>\n",
       "    <tr>\n",
       "      <th>3</th>\n",
       "      <td>-291.075995</td>\n",
       "      <td>-1.084957</td>\n",
       "      <td>-3.249730</td>\n",
       "      <td>0.946194</td>\n",
       "    </tr>\n",
       "    <tr>\n",
       "      <th>4</th>\n",
       "      <td>-44.783340</td>\n",
       "      <td>0.110329</td>\n",
       "      <td>0.048978</td>\n",
       "      <td>-0.257139</td>\n",
       "    </tr>\n",
       "  </tbody>\n",
       "</table>\n",
       "</div>"
      ],
      "text/plain": [
       "year        2004       2005      2006      2007\n",
       "0       0.000000   0.000000  0.000000  0.000000\n",
       "1    -518.215517 -26.284477 -4.380135  0.892003\n",
       "2    -518.972265  -4.001358 -2.775024  0.946225\n",
       "3    -291.075995  -1.084957 -3.249730  0.946194\n",
       "4     -44.783340   0.110329  0.048978 -0.257139"
      ]
     },
     "execution_count": 26,
     "metadata": {},
     "output_type": "execute_result"
    }
   ],
   "source": [
    "years = runoff_obs_yearly.columns.get_level_values(1)\n",
    "all_nses = []\n",
    "for i, year in enumerate(years):\n",
    "    obs = []\n",
    "    sims = []\n",
    "    yearly_nses = []\n",
    "    for j in range(runoff_sim_yearly.shape[0]):\n",
    "        obs.append(runoff_obs_yearly.iloc[j, i])\n",
    "        sims.append(runoff_sim_yearly.iloc[j, i])\n",
    "        arr = np.column_stack([sims, obs])\n",
    "        result = NSE(arr[:, 0], arr[:, 1])\n",
    "        if np.isneginf(result):\n",
    "            result = 0\n",
    "        yearly_nses.append(result)\n",
    "    all_nses.append(yearly_nses)\n",
    "\n",
    "for x in all_nses:\n",
    "    if len(x) == 365:\n",
    "        x.append(0)\n",
    "df = pd.DataFrame(all_nses)\n",
    "cum_nses = df.transpose()\n",
    "cum_nses.columns = years\n",
    "cum_nses.head()"
   ]
  },
  {
   "cell_type": "code",
   "execution_count": 27,
   "metadata": {},
   "outputs": [
    {
     "data": {
      "application/vnd.jupyter.widget-view+json": {
       "model_id": "9dd593e9f0214ce69924be42b7e9eeb3",
       "version_major": 2,
       "version_minor": 0
      },
      "text/plain": [
       "Canvas(toolbar=Toolbar(toolitems=[('Home', 'Reset original view', 'home', 'home'), ('Back', 'Back to previous …"
      ]
     },
     "metadata": {},
     "output_type": "display_data"
    }
   ],
   "source": [
    "# Observed vs. simulated runoff\n",
    "years = runoff_obs_yearly.columns.get_level_values(1)\n",
    "fig, axes = plt.subplots(ncols=1, nrows=len(years), figsize=(6, 9))\n",
    "\n",
    "for col, year in enumerate(years):\n",
    "    ax2 = axes[col].twinx()\n",
    "    cum_nses.iloc[:, col].plot(ax=ax2, label='NSE', linewidth=0.5, color='tab:green')\n",
    "    if col == 0:\n",
    "        ax2.set_ylabel('NSE')\n",
    "        ax2.legend(loc='upper right', bbox_to_anchor=(1, 1.3), fancybox=True, ncol=1)\n",
    "    runoff_obs_yearly.iloc[:, col].plot(ax=axes[col], label='Observed', linewidth=1)\n",
    "    runoff_sim_yearly.iloc[:, col].plot(ax=axes[col], label='Simulated', linewidth=1)\n",
    "    ax2.invert_yaxis()\n",
    "    axes[col].set_ylim([0, 80])\n",
    "    ax2.set_ylim([0, 1])\n",
    "    axes[col].set_title(year)\n",
    "axes[0].legend(loc='upper left', bbox_to_anchor=(0, 1.3))\n",
    "axes[0].set_ylabel('Runoff (mm/day)')\n",
    "fig.suptitle('Fig. 2: Observed vs. VELMA simulated runoff (with cumulative NSEs)')\n",
    "plt.tight_layout()"
   ]
  },
  {
   "cell_type": "markdown",
   "metadata": {},
   "source": [
    "## Cumulative NSE after removing extreme values"
   ]
  },
  {
   "cell_type": "markdown",
   "metadata": {},
   "source": [
    "#### Remove less reliable values based on quality flags\n",
    "\"Exceeded rating table (>2x)\" (160), \"Below rating table (<1/2x)\" (161), \"Estimated - unreliable\" (179)."
   ]
  },
  {
   "cell_type": "code",
   "execution_count": 28,
   "metadata": {},
   "outputs": [],
   "source": [
    "runoff_sim = velma_results['Runoff_All(mm/day)_Delineated_Average']\n",
    "df = pd.concat([runoff_sim, runoff_obs, quality], axis=1)\n",
    "# df_edited = df.drop(df[(df['Quality'] == 50) | (df['Quality'] == 160) | (df['Quality'] == 161) | (df['Quality'] == 179)].index)\n",
    "df_edited = df.drop(df[(df['Quality'] == 160) | (df['Quality'] == 161) | (df['Quality'] == 179)].index)\n",
    "df_edited = df.drop(df[(df['Quality'] == 160) | (df['Quality'] == 161) | (df['Quality'] == 179) | (df['Quality'] == 254)].index)"
   ]
  },
  {
   "cell_type": "code",
   "execution_count": 29,
   "metadata": {},
   "outputs": [
    {
     "data": {
      "text/plain": [
       "'NSE after removing extreme flagged values'"
      ]
     },
     "metadata": {},
     "output_type": "display_data"
    },
    {
     "data": {
      "text/plain": [
       "'NS (2004): '"
      ]
     },
     "metadata": {},
     "output_type": "display_data"
    },
    {
     "data": {
      "text/plain": [
       "0.6606872992039245"
      ]
     },
     "metadata": {},
     "output_type": "display_data"
    },
    {
     "data": {
      "text/plain": [
       "'NS (2005): '"
      ]
     },
     "metadata": {},
     "output_type": "display_data"
    },
    {
     "data": {
      "text/plain": [
       "0.8046441136760274"
      ]
     },
     "metadata": {},
     "output_type": "display_data"
    },
    {
     "data": {
      "text/plain": [
       "'NS (2006): '"
      ]
     },
     "metadata": {},
     "output_type": "display_data"
    },
    {
     "data": {
      "text/plain": [
       "0.8233690971485395"
      ]
     },
     "metadata": {},
     "output_type": "display_data"
    },
    {
     "data": {
      "text/plain": [
       "'NS (2007): '"
      ]
     },
     "metadata": {},
     "output_type": "display_data"
    },
    {
     "data": {
      "text/plain": [
       "0.7219685776786358"
      ]
     },
     "metadata": {},
     "output_type": "display_data"
    },
    {
     "data": {
      "text/plain": [
       "'NS (2004-2007): '"
      ]
     },
     "metadata": {},
     "output_type": "display_data"
    },
    {
     "data": {
      "text/plain": [
       "0.7804890506708528"
      ]
     },
     "metadata": {},
     "output_type": "display_data"
    },
    {
     "data": {
      "text/plain": [
       "'RMSE (2004-2007): '"
      ]
     },
     "metadata": {},
     "output_type": "display_data"
    },
    {
     "data": {
      "text/plain": [
       "3.3870441646509186"
      ]
     },
     "metadata": {},
     "output_type": "display_data"
    },
    {
     "data": {
      "text/plain": [
       "'MAE (2004-2007): '"
      ]
     },
     "metadata": {},
     "output_type": "display_data"
    },
    {
     "data": {
      "text/plain": [
       "1.7899139932697459"
      ]
     },
     "metadata": {},
     "output_type": "display_data"
    }
   ],
   "source": [
    "# 2003-2007 runoff\n",
    "sim_yearly = pd.pivot_table(df_edited[['Runoff_All(mm/day)_Delineated_Average', 'doy', 'year']], \n",
    "                            index=['doy'], \n",
    "                            columns=['year'], \n",
    "                            values=['Runoff_All(mm/day)_Delineated_Average'])\n",
    "\n",
    "obs_yearly = pd.pivot_table(df_edited[['runoff_obs', 'doy', 'year']], \n",
    "                            index=['doy'], \n",
    "                            columns=['year'], \n",
    "                            values=['runoff_obs'])\n",
    "\n",
    "display('NSE after removing extreme flagged values')\n",
    "display('NS (2004): ', NSE(sim_yearly.iloc[:, 0], obs_yearly.iloc[:, 0]))\n",
    "display('NS (2005): ', NSE(sim_yearly.iloc[:, 1], obs_yearly.iloc[:, 1]))\n",
    "display('NS (2006): ', NSE(sim_yearly.iloc[:, 2], obs_yearly.iloc[:, 2]))\n",
    "display('NS (2007): ', NSE(sim_yearly.iloc[:, 3], obs_yearly.iloc[:, 3]))\n",
    "\n",
    "df_edited_04_07 = df_edited[(df_edited.index >= pd.to_datetime('2004-01-01'))]\n",
    "display('NS (2004-2007): ', NSE(df_edited_04_07['Runoff_All(mm/day)_Delineated_Average'], df_edited_04_07['runoff_obs']))\n",
    "display('RMSE (2004-2007): ', np.sqrt(mean_squared_error(df_edited_04_07['Runoff_All(mm/day)_Delineated_Average'], df_edited_04_07['runoff_obs'])))\n",
    "display('MAE (2004-2007): ', mean_absolute_error(df_edited_04_07['Runoff_All(mm/day)_Delineated_Average'], df_edited_04_07['runoff_obs']))\n"
   ]
  },
  {
   "cell_type": "markdown",
   "metadata": {},
   "source": [
    "#### Calculate NSE each day using runoff values from the preceding days of the year so far"
   ]
  },
  {
   "cell_type": "code",
   "execution_count": 252,
   "metadata": {},
   "outputs": [
    {
     "name": "stderr",
     "output_type": "stream",
     "text": [
      "C:\\Users\\ipdavies\\AppData\\Local\\Continuum\\anaconda3\\envs\\tnc_velma\\lib\\site-packages\\ipykernel_launcher.py:5: RuntimeWarning: divide by zero encountered in double_scalars\n",
      "  \"\"\"\n"
     ]
    },
    {
     "data": {
      "text/html": [
       "<div>\n",
       "<style scoped>\n",
       "    .dataframe tbody tr th:only-of-type {\n",
       "        vertical-align: middle;\n",
       "    }\n",
       "\n",
       "    .dataframe tbody tr th {\n",
       "        vertical-align: top;\n",
       "    }\n",
       "\n",
       "    .dataframe thead th {\n",
       "        text-align: right;\n",
       "    }\n",
       "</style>\n",
       "<table border=\"1\" class=\"dataframe\">\n",
       "  <thead>\n",
       "    <tr style=\"text-align: right;\">\n",
       "      <th>year</th>\n",
       "      <th>2004</th>\n",
       "      <th>2005</th>\n",
       "      <th>2006</th>\n",
       "      <th>2007</th>\n",
       "    </tr>\n",
       "  </thead>\n",
       "  <tbody>\n",
       "    <tr>\n",
       "      <th>361</th>\n",
       "      <td>0.660688</td>\n",
       "      <td>0.776317</td>\n",
       "      <td>0.823335</td>\n",
       "      <td>0.720251</td>\n",
       "    </tr>\n",
       "    <tr>\n",
       "      <th>362</th>\n",
       "      <td>0.660691</td>\n",
       "      <td>0.780557</td>\n",
       "      <td>0.823373</td>\n",
       "      <td>0.720865</td>\n",
       "    </tr>\n",
       "    <tr>\n",
       "      <th>363</th>\n",
       "      <td>0.660685</td>\n",
       "      <td>0.799005</td>\n",
       "      <td>0.823403</td>\n",
       "      <td>0.721692</td>\n",
       "    </tr>\n",
       "    <tr>\n",
       "      <th>364</th>\n",
       "      <td>0.660684</td>\n",
       "      <td>0.804644</td>\n",
       "      <td>0.823369</td>\n",
       "      <td>0.721969</td>\n",
       "    </tr>\n",
       "    <tr>\n",
       "      <th>365</th>\n",
       "      <td>0.660687</td>\n",
       "      <td>0.804644</td>\n",
       "      <td>0.823369</td>\n",
       "      <td>0.721969</td>\n",
       "    </tr>\n",
       "  </tbody>\n",
       "</table>\n",
       "</div>"
      ],
      "text/plain": [
       "year      2004      2005      2006      2007\n",
       "361   0.660688  0.776317  0.823335  0.720251\n",
       "362   0.660691  0.780557  0.823373  0.720865\n",
       "363   0.660685  0.799005  0.823403  0.721692\n",
       "364   0.660684  0.804644  0.823369  0.721969\n",
       "365   0.660687  0.804644  0.823369  0.721969"
      ]
     },
     "execution_count": 252,
     "metadata": {},
     "output_type": "execute_result"
    }
   ],
   "source": [
    "years = obs_yearly.columns.get_level_values(1)\n",
    "all_nses = []\n",
    "for i, year in enumerate(years):\n",
    "    obs = []\n",
    "    sims = []\n",
    "    yearly_nses = []\n",
    "    for j in range(obs_yearly.shape[0]):\n",
    "        obs.append(obs_yearly.iloc[j, i])\n",
    "        sims.append(sim_yearly.iloc[j, i])\n",
    "        arr = np.column_stack([sims, obs])\n",
    "        result = NSE(arr[:, 0], arr[:, 1])\n",
    "        if np.isneginf(result):\n",
    "            result = 0\n",
    "        yearly_nses.append(result)\n",
    "    all_nses.append(yearly_nses)\n",
    "\n",
    "for x in all_nses:\n",
    "    if len(x) == 365:\n",
    "        x.append(0)\n",
    "df = pd.DataFrame(all_nses)\n",
    "edited_cum_nses = df.transpose()\n",
    "edited_cum_nses.columns = years\n",
    "edited_cum_nses.tail()"
   ]
  },
  {
   "cell_type": "code",
   "execution_count": 253,
   "metadata": {},
   "outputs": [
    {
     "data": {
      "application/vnd.jupyter.widget-view+json": {
       "model_id": "005536dfcb3b4504a3dbbf1592351c08",
       "version_major": 2,
       "version_minor": 0
      },
      "text/plain": [
       "Canvas(toolbar=Toolbar(toolitems=[('Home', 'Reset original view', 'home', 'home'), ('Back', 'Back to previous …"
      ]
     },
     "metadata": {},
     "output_type": "display_data"
    }
   ],
   "source": [
    "years = runoff_obs_yearly.columns.get_level_values(1)\n",
    "fig, axes = plt.subplots(ncols=1, nrows=len(years), figsize=(6, 9))\n",
    "\n",
    "for col, year in enumerate(years):\n",
    "    ax2 = axes[col].twinx()\n",
    "    edited_cum_nses.iloc[:, col].plot(ax=ax2, label='NSE', linewidth=0.5, color='tab:green')\n",
    "    if col == 0:\n",
    "        ax2.set_ylabel('NSE')\n",
    "        ax2.legend(loc='upper right', bbox_to_anchor=(1, 1.3), fancybox=True, ncol=1)\n",
    "    obs_yearly.iloc[:, col].plot(ax=axes[col], label='Observed', linewidth=1)\n",
    "    sim_yearly.iloc[:, col].plot(ax=axes[col], label='Simulated', linewidth=1)\n",
    "    ax2.invert_yaxis()\n",
    "    axes[col].set_ylim([0, 80])\n",
    "    ax2.set_ylim([0, 1])\n",
    "    axes[col].set_title(year)\n",
    "axes[0].legend(loc='upper left', bbox_to_anchor=(0, 1.3))\n",
    "axes[0].set_ylabel('Runoff (mm/day)')\n",
    "fig.suptitle('Fig. 2: Observed vs. VELMA simulated runoff (unreliable values removed)')\n",
    "fig.tight_layout(rect=[0, 0.03, 1, 0.95])"
   ]
  },
  {
   "cell_type": "markdown",
   "metadata": {},
   "source": [
    "## Cumulative relative NSE"
   ]
  },
  {
   "cell_type": "code",
   "execution_count": 254,
   "metadata": {},
   "outputs": [],
   "source": [
    "def rel_NSE(s, o):\n",
    "    obs_mean = np.nanmean(o)\n",
    "    numerator = np.nansum(((o - s)**2) / o)\n",
    "    denominator = np.nansum(((o - obs_mean)**2) / o )\n",
    "    return 1 - numerator/denominator"
   ]
  },
  {
   "cell_type": "code",
   "execution_count": 255,
   "metadata": {},
   "outputs": [
    {
     "name": "stderr",
     "output_type": "stream",
     "text": [
      "C:\\Users\\ipdavies\\AppData\\Local\\Continuum\\anaconda3\\envs\\tnc_velma\\lib\\site-packages\\ipykernel_launcher.py:5: RuntimeWarning: divide by zero encountered in double_scalars\n",
      "  \"\"\"\n"
     ]
    },
    {
     "data": {
      "text/html": [
       "<div>\n",
       "<style scoped>\n",
       "    .dataframe tbody tr th:only-of-type {\n",
       "        vertical-align: middle;\n",
       "    }\n",
       "\n",
       "    .dataframe tbody tr th {\n",
       "        vertical-align: top;\n",
       "    }\n",
       "\n",
       "    .dataframe thead th {\n",
       "        text-align: right;\n",
       "    }\n",
       "</style>\n",
       "<table border=\"1\" class=\"dataframe\">\n",
       "  <thead>\n",
       "    <tr style=\"text-align: right;\">\n",
       "      <th>year</th>\n",
       "      <th>2004</th>\n",
       "      <th>2005</th>\n",
       "      <th>2006</th>\n",
       "      <th>2007</th>\n",
       "    </tr>\n",
       "  </thead>\n",
       "  <tbody>\n",
       "    <tr>\n",
       "      <th>361</th>\n",
       "      <td>0.905108</td>\n",
       "      <td>0.893028</td>\n",
       "      <td>0.914585</td>\n",
       "      <td>0.923533</td>\n",
       "    </tr>\n",
       "    <tr>\n",
       "      <th>362</th>\n",
       "      <td>0.905172</td>\n",
       "      <td>0.895942</td>\n",
       "      <td>0.915080</td>\n",
       "      <td>0.924172</td>\n",
       "    </tr>\n",
       "    <tr>\n",
       "      <th>363</th>\n",
       "      <td>0.905193</td>\n",
       "      <td>0.901955</td>\n",
       "      <td>0.915282</td>\n",
       "      <td>0.924778</td>\n",
       "    </tr>\n",
       "    <tr>\n",
       "      <th>364</th>\n",
       "      <td>0.905162</td>\n",
       "      <td>0.905177</td>\n",
       "      <td>0.915285</td>\n",
       "      <td>0.925145</td>\n",
       "    </tr>\n",
       "    <tr>\n",
       "      <th>365</th>\n",
       "      <td>0.905119</td>\n",
       "      <td>0.905177</td>\n",
       "      <td>0.915285</td>\n",
       "      <td>0.925145</td>\n",
       "    </tr>\n",
       "  </tbody>\n",
       "</table>\n",
       "</div>"
      ],
      "text/plain": [
       "year      2004      2005      2006      2007\n",
       "361   0.905108  0.893028  0.914585  0.923533\n",
       "362   0.905172  0.895942  0.915080  0.924172\n",
       "363   0.905193  0.901955  0.915282  0.924778\n",
       "364   0.905162  0.905177  0.915285  0.925145\n",
       "365   0.905119  0.905177  0.915285  0.925145"
      ]
     },
     "execution_count": 255,
     "metadata": {},
     "output_type": "execute_result"
    }
   ],
   "source": [
    "years = obs_yearly.columns.get_level_values(1)\n",
    "all_nses = []\n",
    "for i, year in enumerate(years):\n",
    "    obs = []\n",
    "    sims = []\n",
    "    yearly_nses = []\n",
    "    for j in range(obs_yearly.shape[0]):\n",
    "        obs.append(obs_yearly.iloc[j, i])\n",
    "        sims.append(sim_yearly.iloc[j, i])\n",
    "        arr = np.column_stack([sims, obs])\n",
    "        result = rel_NSE(arr[:, 0], arr[:, 1])\n",
    "        if np.isneginf(result):\n",
    "            result = 0\n",
    "        yearly_nses.append(result)\n",
    "    all_nses.append(yearly_nses)\n",
    "\n",
    "for x in all_nses:\n",
    "    if len(x) == 365:\n",
    "        x.append(0)\n",
    "df = pd.DataFrame(all_nses)\n",
    "edited_cum_rel_nses = df.transpose()\n",
    "edited_cum_rel_nses.columns = years\n",
    "edited_cum_rel_nses.tail()"
   ]
  },
  {
   "cell_type": "code",
   "execution_count": 256,
   "metadata": {},
   "outputs": [
    {
     "data": {
      "application/vnd.jupyter.widget-view+json": {
       "model_id": "02d1c5a2e63a4edcb83cbe15eaca911d",
       "version_major": 2,
       "version_minor": 0
      },
      "text/plain": [
       "Canvas(toolbar=Toolbar(toolitems=[('Home', 'Reset original view', 'home', 'home'), ('Back', 'Back to previous …"
      ]
     },
     "metadata": {},
     "output_type": "display_data"
    }
   ],
   "source": [
    "years = runoff_obs_yearly.columns.get_level_values(1)\n",
    "fig, axes = plt.subplots(ncols=1, nrows=len(years), figsize=(6, 9))\n",
    "\n",
    "for col, year in enumerate(years):\n",
    "    ax2 = axes[col].twinx()\n",
    "    edited_cum_nses.iloc[:, col].plot(ax=ax2, label='NSE', linewidth=0.5, color='tab:green')\n",
    "    edited_cum_rel_nses.iloc[:, col].plot(ax=ax2, label='Relative NSE', linewidth=0.5, color='tab:red')\n",
    "    if col == 0:\n",
    "        ax2.set_ylabel('rel NSE')\n",
    "        ax2.legend(loc='upper right', bbox_to_anchor=(1, 1.3), fancybox=True, ncol=1)\n",
    "    obs_yearly.iloc[:, col].plot(ax=axes[col], label='Observed', linewidth=1)\n",
    "    sim_yearly.iloc[:, col].plot(ax=axes[col], label='Simulated', linewidth=1)\n",
    "    ax2.invert_yaxis()\n",
    "    axes[col].set_ylim([0, 80])\n",
    "    ax2.set_ylim([0, 1])\n",
    "    axes[col].set_title(year)\n",
    "axes[0].legend(loc='upper left', bbox_to_anchor=(0, 1.3))\n",
    "axes[0].set_ylabel('Runoff (mm/day)')\n",
    "fig.suptitle('Fig. 2: Observed vs. VELMA simulated runoff (unreliable values removed)')\n",
    "fig.tight_layout(rect=[0, 0.03, 1, 0.95])"
   ]
  },
  {
   "cell_type": "markdown",
   "metadata": {},
   "source": [
    "#### Relative NSE always outperforms NSE, and doesn't seem sensitive to any of the errors which suggests it is not a very informative metric"
   ]
  },
  {
   "cell_type": "markdown",
   "metadata": {},
   "source": [
    "## Cumulative log NSE"
   ]
  },
  {
   "cell_type": "code",
   "execution_count": 257,
   "metadata": {},
   "outputs": [],
   "source": [
    "def log_NSE(s, o):\n",
    "    s = np.log(s)\n",
    "    o = np.log(o)\n",
    "    obs_mean = np.nanmean(o)\n",
    "    numerator = np.nansum(((o - s)**2))\n",
    "    denominator = np.nansum(((o - obs_mean)**2))\n",
    "    return 1 - numerator/denominator\n"
   ]
  },
  {
   "cell_type": "code",
   "execution_count": 258,
   "metadata": {},
   "outputs": [
    {
     "name": "stderr",
     "output_type": "stream",
     "text": [
      "C:\\Users\\ipdavies\\AppData\\Local\\Continuum\\anaconda3\\envs\\tnc_velma\\lib\\site-packages\\ipykernel_launcher.py:7: RuntimeWarning: divide by zero encountered in double_scalars\n",
      "  import sys\n"
     ]
    },
    {
     "data": {
      "text/html": [
       "<div>\n",
       "<style scoped>\n",
       "    .dataframe tbody tr th:only-of-type {\n",
       "        vertical-align: middle;\n",
       "    }\n",
       "\n",
       "    .dataframe tbody tr th {\n",
       "        vertical-align: top;\n",
       "    }\n",
       "\n",
       "    .dataframe thead th {\n",
       "        text-align: right;\n",
       "    }\n",
       "</style>\n",
       "<table border=\"1\" class=\"dataframe\">\n",
       "  <thead>\n",
       "    <tr style=\"text-align: right;\">\n",
       "      <th>year</th>\n",
       "      <th>2004</th>\n",
       "      <th>2005</th>\n",
       "      <th>2006</th>\n",
       "      <th>2007</th>\n",
       "    </tr>\n",
       "  </thead>\n",
       "  <tbody>\n",
       "    <tr>\n",
       "      <th>361</th>\n",
       "      <td>0.574134</td>\n",
       "      <td>0.136381</td>\n",
       "      <td>-0.276456</td>\n",
       "      <td>0.645181</td>\n",
       "    </tr>\n",
       "    <tr>\n",
       "      <th>362</th>\n",
       "      <td>0.574484</td>\n",
       "      <td>0.150075</td>\n",
       "      <td>-0.270571</td>\n",
       "      <td>0.647409</td>\n",
       "    </tr>\n",
       "    <tr>\n",
       "      <th>363</th>\n",
       "      <td>0.574745</td>\n",
       "      <td>0.170594</td>\n",
       "      <td>-0.266986</td>\n",
       "      <td>0.649141</td>\n",
       "    </tr>\n",
       "    <tr>\n",
       "      <th>364</th>\n",
       "      <td>0.574906</td>\n",
       "      <td>0.184121</td>\n",
       "      <td>-0.264778</td>\n",
       "      <td>0.650358</td>\n",
       "    </tr>\n",
       "    <tr>\n",
       "      <th>365</th>\n",
       "      <td>0.575043</td>\n",
       "      <td>0.184121</td>\n",
       "      <td>-0.264778</td>\n",
       "      <td>0.650358</td>\n",
       "    </tr>\n",
       "  </tbody>\n",
       "</table>\n",
       "</div>"
      ],
      "text/plain": [
       "year      2004      2005      2006      2007\n",
       "361   0.574134  0.136381 -0.276456  0.645181\n",
       "362   0.574484  0.150075 -0.270571  0.647409\n",
       "363   0.574745  0.170594 -0.266986  0.649141\n",
       "364   0.574906  0.184121 -0.264778  0.650358\n",
       "365   0.575043  0.184121 -0.264778  0.650358"
      ]
     },
     "execution_count": 258,
     "metadata": {},
     "output_type": "execute_result"
    }
   ],
   "source": [
    "years = obs_yearly.columns.get_level_values(1)\n",
    "all_nses = []\n",
    "for i, year in enumerate(years):\n",
    "    obs = []\n",
    "    sims = []\n",
    "    yearly_nses = []\n",
    "    for j in range(obs_yearly.shape[0]):\n",
    "        obs.append(obs_yearly.iloc[j, i])\n",
    "        sims.append(sim_yearly.iloc[j, i])\n",
    "        arr = np.column_stack([sims, obs])\n",
    "        result = log_NSE(arr[:, 0], arr[:, 1])\n",
    "        if np.isneginf(result):\n",
    "            result = 0\n",
    "        yearly_nses.append(result)\n",
    "    all_nses.append(yearly_nses)\n",
    "\n",
    "for x in all_nses:\n",
    "    if len(x) == 365:\n",
    "        x.append(0)\n",
    "df = pd.DataFrame(all_nses)\n",
    "edited_cum_log_nses = df.transpose()\n",
    "edited_cum_log_nses.columns = years\n",
    "edited_cum_log_nses.tail()"
   ]
  },
  {
   "cell_type": "code",
   "execution_count": 259,
   "metadata": {},
   "outputs": [
    {
     "data": {
      "application/vnd.jupyter.widget-view+json": {
       "model_id": "e442fecaddd040efa8b878dd5bf282fb",
       "version_major": 2,
       "version_minor": 0
      },
      "text/plain": [
       "Canvas(toolbar=Toolbar(toolitems=[('Home', 'Reset original view', 'home', 'home'), ('Back', 'Back to previous …"
      ]
     },
     "metadata": {},
     "output_type": "display_data"
    }
   ],
   "source": [
    "years = runoff_obs_yearly.columns.get_level_values(1)\n",
    "fig, axes = plt.subplots(ncols=1, nrows=len(years), figsize=(6, 9))\n",
    "\n",
    "for col, year in enumerate(years):\n",
    "    ax2 = axes[col].twinx()\n",
    "#     edited_cum_nses.iloc[:, col].plot(ax=ax2, label='NSE', linewidth=0.5, color='tab:green')\n",
    "#     edited_cum_rel_nses.iloc[:, col].plot(ax=ax2, label='Relative NSE', linewidth=0.5, color='tab:red')\n",
    "    edited_cum_log_nses.iloc[:, col].plot(ax=ax2, label='ln NSE', linewidth=0.8, color='tab:purple')\n",
    "    if col == 0:\n",
    "        ax2.set_ylabel('rel NSE')\n",
    "        ax2.legend(loc='upper right', bbox_to_anchor=(1, 1.3), fancybox=True, ncol=1)\n",
    "    np.log(obs_yearly.iloc[:, col]).plot(ax=axes[col], label='Observed', linewidth=1)\n",
    "    np.log(sim_yearly.iloc[:, col]).plot(ax=axes[col], label='Simulated', linewidth=1)\n",
    "    ax2.invert_yaxis()\n",
    "#     axes[col].set_ylim([0, 80])\n",
    "#     axes[col].set_yscale('log')\n",
    "    ax2.set_ylim([0, 1])\n",
    "    axes[col].set_title(year)\n",
    "axes[0].legend(loc='upper left', bbox_to_anchor=(0, 1.3))\n",
    "axes[0].set_ylabel('Runoff (mm/day)')\n",
    "fig.suptitle('Fig. 2: Observed vs. VELMA simulated runoff (unreliable values removed)')\n",
    "fig.tight_layout(rect=[0, 0.03, 1, 0.95])"
   ]
  },
  {
   "cell_type": "markdown",
   "metadata": {},
   "source": [
    "#### Log NSE too sensitive to low flows, very erratic"
   ]
  },
  {
   "cell_type": "markdown",
   "metadata": {},
   "source": [
    "## Cumulative modified NSE\n",
    "Modified using absolute error terms instead of squared"
   ]
  },
  {
   "cell_type": "code",
   "execution_count": 260,
   "metadata": {},
   "outputs": [],
   "source": [
    "def abs_NSE(s, o):\n",
    "    obs_mean = np.nanmean(o)\n",
    "    numerator = np.nansum((np.absolute(o - s)))\n",
    "    denominator = np.nansum((np.absolute(o - obs_mean)))\n",
    "    return 1 - numerator/denominator\n"
   ]
  },
  {
   "cell_type": "code",
   "execution_count": 261,
   "metadata": {},
   "outputs": [
    {
     "name": "stderr",
     "output_type": "stream",
     "text": [
      "C:\\Users\\ipdavies\\AppData\\Local\\Continuum\\anaconda3\\envs\\tnc_velma\\lib\\site-packages\\ipykernel_launcher.py:7: RuntimeWarning: divide by zero encountered in double_scalars\n",
      "  import sys\n"
     ]
    },
    {
     "data": {
      "text/html": [
       "<div>\n",
       "<style scoped>\n",
       "    .dataframe tbody tr th:only-of-type {\n",
       "        vertical-align: middle;\n",
       "    }\n",
       "\n",
       "    .dataframe tbody tr th {\n",
       "        vertical-align: top;\n",
       "    }\n",
       "\n",
       "    .dataframe thead th {\n",
       "        text-align: right;\n",
       "    }\n",
       "</style>\n",
       "<table border=\"1\" class=\"dataframe\">\n",
       "  <thead>\n",
       "    <tr style=\"text-align: right;\">\n",
       "      <th>year</th>\n",
       "      <th>2004</th>\n",
       "      <th>2005</th>\n",
       "      <th>2006</th>\n",
       "      <th>2007</th>\n",
       "    </tr>\n",
       "  </thead>\n",
       "  <tbody>\n",
       "    <tr>\n",
       "      <th>361</th>\n",
       "      <td>0.574134</td>\n",
       "      <td>0.136381</td>\n",
       "      <td>-0.276456</td>\n",
       "      <td>0.645181</td>\n",
       "    </tr>\n",
       "    <tr>\n",
       "      <th>362</th>\n",
       "      <td>0.574484</td>\n",
       "      <td>0.150075</td>\n",
       "      <td>-0.270571</td>\n",
       "      <td>0.647409</td>\n",
       "    </tr>\n",
       "    <tr>\n",
       "      <th>363</th>\n",
       "      <td>0.574745</td>\n",
       "      <td>0.170594</td>\n",
       "      <td>-0.266986</td>\n",
       "      <td>0.649141</td>\n",
       "    </tr>\n",
       "    <tr>\n",
       "      <th>364</th>\n",
       "      <td>0.574906</td>\n",
       "      <td>0.184121</td>\n",
       "      <td>-0.264778</td>\n",
       "      <td>0.650358</td>\n",
       "    </tr>\n",
       "    <tr>\n",
       "      <th>365</th>\n",
       "      <td>0.575043</td>\n",
       "      <td>0.184121</td>\n",
       "      <td>-0.264778</td>\n",
       "      <td>0.650358</td>\n",
       "    </tr>\n",
       "  </tbody>\n",
       "</table>\n",
       "</div>"
      ],
      "text/plain": [
       "year      2004      2005      2006      2007\n",
       "361   0.574134  0.136381 -0.276456  0.645181\n",
       "362   0.574484  0.150075 -0.270571  0.647409\n",
       "363   0.574745  0.170594 -0.266986  0.649141\n",
       "364   0.574906  0.184121 -0.264778  0.650358\n",
       "365   0.575043  0.184121 -0.264778  0.650358"
      ]
     },
     "execution_count": 261,
     "metadata": {},
     "output_type": "execute_result"
    }
   ],
   "source": [
    "years = obs_yearly.columns.get_level_values(1)\n",
    "all_nses = []\n",
    "for i, year in enumerate(years):\n",
    "    obs = []\n",
    "    sims = []\n",
    "    yearly_nses = []\n",
    "    for j in range(obs_yearly.shape[0]):\n",
    "        obs.append(obs_yearly.iloc[j, i])\n",
    "        sims.append(sim_yearly.iloc[j, i])\n",
    "        arr = np.column_stack([sims, obs])\n",
    "        result = log_NSE(arr[:, 0], arr[:, 1])\n",
    "        if np.isneginf(result):\n",
    "            result = 0\n",
    "        yearly_nses.append(result)\n",
    "    all_nses.append(yearly_nses)\n",
    "\n",
    "for x in all_nses:\n",
    "    if len(x) == 365:\n",
    "        x.append(0)\n",
    "df = pd.DataFrame(all_nses)\n",
    "edited_cum_abs_nses = df.transpose()\n",
    "edited_cum_abs_nses.columns = years\n",
    "edited_cum_abs_nses.tail()"
   ]
  },
  {
   "cell_type": "code",
   "execution_count": 262,
   "metadata": {},
   "outputs": [
    {
     "data": {
      "application/vnd.jupyter.widget-view+json": {
       "model_id": "d7a617ca748f4ca98f589d2dd65ecf0f",
       "version_major": 2,
       "version_minor": 0
      },
      "text/plain": [
       "Canvas(toolbar=Toolbar(toolitems=[('Home', 'Reset original view', 'home', 'home'), ('Back', 'Back to previous …"
      ]
     },
     "metadata": {},
     "output_type": "display_data"
    }
   ],
   "source": [
    "years = runoff_obs_yearly.columns.get_level_values(1)\n",
    "fig, axes = plt.subplots(ncols=1, nrows=len(years), figsize=(6, 9))\n",
    "\n",
    "for col, year in enumerate(years):\n",
    "    ax2 = axes[col].twinx()\n",
    "    edited_cum_nses.iloc[:, col].plot(ax=ax2, label='NSE', linewidth=0.5, color='tab:green')\n",
    "    edited_cum_rel_nses.iloc[:, col].plot(ax=ax2, label='Relative NSE', linewidth=0.5, color='tab:red')\n",
    "    edited_cum_abs_nses.iloc[:, col].plot(ax=ax2, label='Absolute NSE', linewidth=0.5, color='tab:purple')\n",
    "    if col == 0:\n",
    "        ax2.set_ylabel('rel NSE')\n",
    "        ax2.legend(loc='upper right', bbox_to_anchor=(1, 1.3), fancybox=True, ncol=1)\n",
    "    obs_yearly.iloc[:, col].plot(ax=axes[col], label='Observed', linewidth=1)\n",
    "    sim_yearly.iloc[:, col].plot(ax=axes[col], label='Simulated', linewidth=1)\n",
    "    ax2.invert_yaxis()\n",
    "    axes[col].set_ylim([0, 80])\n",
    "    ax2.set_ylim([0, 1])\n",
    "    axes[col].set_title(year)\n",
    "axes[0].legend(loc='upper left', bbox_to_anchor=(0, 1.3))\n",
    "axes[0].set_ylabel('Runoff (mm/day)')\n",
    "fig.suptitle('Fig. 2: Observed vs. VELMA simulated runoff (unreliable values removed)')\n",
    "fig.tight_layout(rect=[0, 0.03, 1, 0.95])"
   ]
  },
  {
   "cell_type": "markdown",
   "metadata": {},
   "source": [
    "## Calculating runoff ratio"
   ]
  },
  {
   "cell_type": "code",
   "execution_count": 39,
   "metadata": {},
   "outputs": [],
   "source": [
    "df = pd.concat([runoff_sim, runoff_obs, precip.loc[:, 'precip'], quality], axis=1)\n",
    "df_edited_precip = df.drop(df[(df['Quality'] == 160) | (df['Quality'] == 161) | (df['Quality'] == 179) | (df['Quality'] == 254)].index)\n",
    "\n",
    "obs_yearly = pd.pivot_table(df_edited_precip[['runoff_obs', 'doy', 'year']], \n",
    "                            index=['doy'], \n",
    "                            columns=['year'], \n",
    "                            values=['runoff_obs'])\n",
    "\n",
    "precip_yearly_edited = pd.pivot_table(df_edited_precip[['precip', 'doy', 'year']], \n",
    "                            index=['doy'], \n",
    "                            columns=['year'], \n",
    "                            values=['precip'])"
   ]
  },
  {
   "cell_type": "code",
   "execution_count": 44,
   "metadata": {},
   "outputs": [
    {
     "data": {
      "text/plain": [
       "'yearly runoff_ratios: '"
      ]
     },
     "metadata": {},
     "output_type": "display_data"
    },
    {
     "data": {
      "text/plain": [
       "array([0.98255467, 0.9183338 , 0.97763636, 1.05792431])"
      ]
     },
     "metadata": {},
     "output_type": "display_data"
    }
   ],
   "source": [
    "display('yearly runoff_ratios: ', \n",
    "        np.divide(obs_yearly.sum(skipna=True).tolist(), precip_yearly_edited.sum(skipna=True).tolist()))"
   ]
  },
  {
   "cell_type": "markdown",
   "metadata": {},
   "source": [
    "From Guillaume: \"Do you think there's any long-term GW storage? Especially deep groundwater could cause problems for calibration. I would suggest looking at the water balance in the obs and seeing if there is a large residual after subtracting ET and runoff from precip.\""
   ]
  },
  {
   "cell_type": "code",
   "execution_count": 59,
   "metadata": {},
   "outputs": [],
   "source": [
    "df['et'] = velma_results.loc[:, 'ET(mm/day)_Delineated_Average']\n",
    "\n",
    "df_edited_precip = df.drop(df[(df['Quality'] == 160) | (df['Quality'] == 161) | (df['Quality'] == 179) | (df['Quality'] == 254)].index)\n",
    "df_edited_precip.dropna(inplace=True)\n",
    "\n",
    "obs_yearly = pd.pivot_table(df_edited_precip[['runoff_obs', 'doy', 'year']], \n",
    "                            index=['doy'], \n",
    "                            columns=['year'], \n",
    "                            values=['runoff_obs'])\n",
    "\n",
    "precip_yearly_edited = pd.pivot_table(df_edited_precip[['precip', 'doy', 'year']], \n",
    "                            index=['doy'], \n",
    "                            columns=['year'], \n",
    "                            values=['precip'])\n",
    "\n",
    "et_yearly_edited = pd.pivot_table(df_edited_precip[['et', 'doy', 'year']], \n",
    "                            index=['doy'], \n",
    "                            columns=['year'], \n",
    "                            values=['et'])"
   ]
  },
  {
   "cell_type": "code",
   "execution_count": 73,
   "metadata": {},
   "outputs": [
    {
     "data": {
      "text/plain": [
       "-1855.1985139510034"
      ]
     },
     "execution_count": 73,
     "metadata": {},
     "output_type": "execute_result"
    }
   ],
   "source": [
    "df_edited_precip.sum()['precip'] - (df_edited_precip.sum()['Runoff_All(mm/day)_Delineated_Average'] + df_edited_precip.sum()['et'])"
   ]
  },
  {
   "cell_type": "code",
   "execution_count": 80,
   "metadata": {},
   "outputs": [],
   "source": [
    "df_edited_precip['gw_residual'] = df_edited_precip['precip'] - (df_edited_precip['runoff_obs'] + df_edited_precip['et'])"
   ]
  },
  {
   "cell_type": "code",
   "execution_count": 82,
   "metadata": {},
   "outputs": [
    {
     "data": {
      "text/plain": [
       "count    1307.000000\n",
       "mean       -2.216171\n",
       "std         7.138828\n",
       "min       -34.463932\n",
       "25%        -5.412469\n",
       "50%        -2.931584\n",
       "75%        -0.683327\n",
       "max        61.279703\n",
       "Name: gw_residual, dtype: float64"
      ]
     },
     "execution_count": 82,
     "metadata": {},
     "output_type": "execute_result"
    }
   ],
   "source": [
    "df_edited_precip['gw_residual'].describe()"
   ]
  },
  {
   "cell_type": "code",
   "execution_count": null,
   "metadata": {},
   "outputs": [],
   "source": [
    "display('groundwater storage: ', \n",
    "        np.divide(obs_yearly.sum(skipna=True).tolist(), precip_yearly_edited.sum(skipna=True).tolist()))"
   ]
  }
 ],
 "metadata": {
  "kernelspec": {
   "display_name": "tnc_velma",
   "language": "python",
   "name": "tnc_velma"
  },
  "language_info": {
   "codemirror_mode": {
    "name": "ipython",
    "version": 3
   },
   "file_extension": ".py",
   "mimetype": "text/x-python",
   "name": "python",
   "nbconvert_exporter": "python",
   "pygments_lexer": "ipython3",
   "version": "3.7.8"
  }
 },
 "nbformat": 4,
 "nbformat_minor": 4
}
