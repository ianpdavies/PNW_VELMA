{
 "cells": [
  {
   "cell_type": "markdown",
   "id": "binding-poker",
   "metadata": {},
   "source": [
    "# Spatial analysis of simulation results"
   ]
  },
  {
   "cell_type": "code",
   "execution_count": 21,
   "id": "educational-billion",
   "metadata": {},
   "outputs": [],
   "source": [
    "import __init__\n",
    "import scripts.config as config\n",
    "import numpy as np\n",
    "import pandas as pd\n",
    "import ipywidgets as widgets\n",
    "from natsort import natsorted\n",
    "import os\n",
    "from pathlib import Path\n",
    "import matplotlib.pyplot as plt\n",
    "from matplotlib import cm\n",
    "from matplotlib import colors"
   ]
  },
  {
   "cell_type": "code",
   "execution_count": 2,
   "id": "neural-fraction",
   "metadata": {},
   "outputs": [],
   "source": [
    "# Plotting parameters\n",
    "\n",
    "XSMALL_SIZE = 6\n",
    "SMALL_SIZE = 7\n",
    "MEDIUM_SIZE = 9\n",
    "BIGGER_SIZE = 12\n",
    "\n",
    "plt.rc('font', size=SMALL_SIZE)          # controls default text sizes\n",
    "plt.rc('axes', titlesize=SMALL_SIZE)     # fontsize of the axes title\n",
    "plt.rc('axes', labelsize=SMALL_SIZE)    # fontsize of the x and y labels\n",
    "plt.rc('xtick', labelsize=SMALL_SIZE)    # fontsize of the tick labels\n",
    "plt.rc('ytick', labelsize=SMALL_SIZE)    # fontsize of the tick labels\n",
    "plt.rc('legend', fontsize=SMALL_SIZE)    # legend fontsize\n",
    "plt.rc('axes', titlesize=SMALL_SIZE)  # fontsize of the figure title\n",
    "plt.rcParams['figure.dpi'] = 120"
   ]
  },
  {
   "cell_type": "code",
   "execution_count": 9,
   "id": "posted-commercial",
   "metadata": {},
   "outputs": [],
   "source": [
    "# Config\n",
    "\n",
    "gcms = ['canesm2_RCP85', 'ccsm4_RCP85', 'giss_e2_h_RCP85', 'noresm1_m_RCP85']\n",
    "sim_start = pd.to_datetime('01-01-2020')\n",
    "sim_end = pd.to_datetime('12-31-2099')"
   ]
  },
  {
   "cell_type": "code",
   "execution_count": 10,
   "id": "hungarian-couple",
   "metadata": {},
   "outputs": [],
   "source": [
    "# Import results files\n",
    "\n",
    "scenarios = ['ind35yr']\n",
    "\n",
    "dailies = []\n",
    "annuals = []\n",
    "\n",
    "# Import daily and annual results\n",
    "# Results in nested lists ([x][y], for x management scenarios and y GCMs)\n",
    "for scenario in scenarios:\n",
    "    dailies_scenario = []\n",
    "    annuals_scenario = []\n",
    "    scenario_dir = config.velma_data.parents[1] / 'results' / scenario\n",
    "    dirs = os.listdir(scenario_dir)\n",
    "    for gcm in gcms:\n",
    "        results_dir = scenario_dir / 'ellsworth_{}_{}_{}_{}'.format(scenario,\n",
    "                                                                    sim_start.year % 100,\n",
    "                                                                    sim_end.year % 100,\n",
    "                                                                    gcm)\n",
    "\n",
    "        daily_results = pd.read_csv(results_dir / 'DailyResults.csv')\n",
    "\n",
    "        # Format datetime\n",
    "        jday_pad = daily_results['Day'].apply(lambda x: str(x).zfill(3))\n",
    "        str_year = daily_results['Year'].apply(lambda x: str(x))\n",
    "        rng = pd.to_datetime((str_year + jday_pad), format='%Y%j')\n",
    "        daily_results.index = rng\n",
    "        dailies_scenario.append(daily_results)\n",
    "\n",
    "    dailies.append(dailies_scenario)"
   ]
  },
  {
   "cell_type": "markdown",
   "id": "radical-compact",
   "metadata": {},
   "source": [
    "## Biomass carbon"
   ]
  },
  {
   "cell_type": "code",
   "execution_count": 50,
   "id": "representative-alaska",
   "metadata": {},
   "outputs": [],
   "source": [
    "# Trim the image to only the delineated watershed simulated through VELMA\n",
    "# Can export a delineated DEM from JPDEM\n",
    "del_dem = np.loadtxt(config.dem_velma.parents[0] / 'delineated_dem.asc', skiprows=6)\n",
    "watershed_mask = (del_dem==-9999)\n",
    "\n",
    "biomass_c_dir = results_dir / 'spatial_writer' / 'biomass_c'\n",
    "\n",
    "biomass_c_asc = []\n",
    "for file in os.listdir(biomass_c_dir):\n",
    "    asc = np.loadtxt(biomass_c_dir / file, skiprows=6)\n",
    "    asc[watershed_mask] = np.nan\n",
    "    biomass_c_asc.append(asc)\n",
    "\n",
    "sim_years = []\n",
    "for file in os.listdir(biomass_c_dir):\n",
    "    year = Path(file).stem.split('_')[-2]\n",
    "    sim_years.append(year)\n",
    "years = [int(x) for x in sim_years]"
   ]
  },
  {
   "cell_type": "code",
   "execution_count": 68,
   "id": "functional-permission",
   "metadata": {},
   "outputs": [
    {
     "data": {
      "text/plain": [
       "WindowsPath('C:/Users/ipdavies/tnc_velma/notebooks/../results/ind35yr/ellsworth_ind35yr_20_99_noresm1_m_RCP85')"
      ]
     },
     "execution_count": 68,
     "metadata": {},
     "output_type": "execute_result"
    }
   ],
   "source": [
    "results_dir"
   ]
  },
  {
   "cell_type": "code",
   "execution_count": 67,
   "id": "written-fireplace",
   "metadata": {},
   "outputs": [
    {
     "data": {
      "application/vnd.jupyter.widget-view+json": {
       "model_id": "04d593001ea84568a03af48db21b8abc",
       "version_major": 2,
       "version_minor": 0
      },
      "text/plain": [
       "interactive(children=(IntSlider(value=2020, description='year', max=2099, min=2020), Output()), _dom_classes=(…"
      ]
     },
     "metadata": {},
     "output_type": "display_data"
    }
   ],
   "source": [
    "binary_cmap = cm.get_cmap('binary', 2)\n",
    "gray = np.array([0.31, 0.31, 0.31, 1])\n",
    "binary_cmap_colors = binary_cmap(np.linspace(0, 1, 2))\n",
    "binary_cmap_colors[:1, :] = gray\n",
    "binary_cmap_gray = colors.ListedColormap(binary_cmap_colors)\n",
    "\n",
    "old_cmap = cm.get_cmap('YlGn', 256)\n",
    "newcolors = old_cmap(np.linspace(0, 1, 256))\n",
    "pink = np.array([248/256, 24/256, 148/256, 1])\n",
    "newcolors[:2, :] = pink\n",
    "new_cmap = colors.ListedColormap(newcolors)\n",
    "\n",
    "@widgets.interact(year=(2020, 2099))\n",
    "def f(year=min(sim_years)):\n",
    "    ind = sim_years.index(str(year))\n",
    "    fig, ax = plt.subplots(figsize=(5, 6))\n",
    "    im = ax.imshow(biomass_c_asc[ind], cmap=new_cmap)\n",
    "    mask = np.isnan(biomass_c_asc[ind]) * 1.0\n",
    "    mask[mask == 0] = np.nan\n",
    "    ax.imshow(mask, cmap=binary_cmap_gray)\n",
    "    cbar = fig.colorbar(im, ax=ax)\n",
    "    cbar.ax.set_ylabel(r'$gC/m^2$', rotation=270)"
   ]
  },
  {
   "cell_type": "markdown",
   "id": "front-nicholas",
   "metadata": {},
   "source": [
    "## Filter maps"
   ]
  },
  {
   "cell_type": "code",
   "execution_count": 43,
   "id": "revised-arthur",
   "metadata": {},
   "outputs": [],
   "source": [
    "# Trim the image to only the delineated watershed simulated through VELMA\n",
    "# Can export a delineated DEM from JPDEM\n",
    "del_dem = np.loadtxt(config.dem_velma.parents[0] / 'delineated_dem.asc', skiprows=6)\n",
    "watershed_mask = (del_dem==-9999)\n",
    "\n",
    "filter_maps_dir = config.velma_data / 'landcover' / 'filter_maps'\n",
    "\n",
    "asciis = []\n",
    "name = 'random_35yr_clearcut_10pct'\n",
    "for file in natsorted(os.listdir(filter_maps_dir)):\n",
    "    if name in file:\n",
    "        z = np.loadtxt(filter_maps_dir / file, skiprows=6)\n",
    "        z[watershed_mask] = np.nan\n",
    "        asciis.append(z)"
   ]
  },
  {
   "cell_type": "code",
   "execution_count": 47,
   "id": "unlike-discount",
   "metadata": {},
   "outputs": [
    {
     "data": {
      "application/vnd.jupyter.widget-view+json": {
       "model_id": "d4c3d4998c4e40608d94d87841d74cd8",
       "version_major": 2,
       "version_minor": 0
      },
      "text/plain": [
       "interactive(children=(IntSlider(value=1, description='year', max=13, min=1), Output()), _dom_classes=('widget-…"
      ]
     },
     "metadata": {},
     "output_type": "display_data"
    }
   ],
   "source": [
    "binary_cmap = cm.get_cmap('binary', 2)\n",
    "gray = np.array([0.31, 0.31, 0.31, 1])\n",
    "binary_cmap_colors = binary_cmap(np.linspace(0, 1, 2))\n",
    "binary_cmap_colors[:1, :] = gray\n",
    "binary_cmap_gray = colors.ListedColormap(binary_cmap_colors)\n",
    "\n",
    "years = [x+1 for x in range(0, len(asciis))]\n",
    "@widgets.interact(year=(np.min(years), np.max(years)))\n",
    "def f(year=min(years)):\n",
    "    ind = years.index(year)\n",
    "    fig, ax = plt.subplots(figsize=(5, 6))\n",
    "    im = ax.imshow(asciis[ind], cmap='Reds')\n",
    "    mask = np.isnan(asciis[ind]) * 1.0\n",
    "    mask[mask == 0] = np.nan\n",
    "    ax.imshow(mask, cmap=binary_cmap_gray)\n",
    "    cbar = fig.colorbar(im, ax=ax)\n",
    "    cbar.ax.set_ylabel('Harvested/Not harvested', rotation=270)"
   ]
  }
 ],
 "metadata": {
  "kernelspec": {
   "display_name": "tnc_velma",
   "language": "python",
   "name": "tnc_velma"
  },
  "language_info": {
   "codemirror_mode": {
    "name": "ipython",
    "version": 3
   },
   "file_extension": ".py",
   "mimetype": "text/x-python",
   "name": "python",
   "nbconvert_exporter": "python",
   "pygments_lexer": "ipython3",
   "version": "3.7.8"
  }
 },
 "nbformat": 4,
 "nbformat_minor": 5
}
