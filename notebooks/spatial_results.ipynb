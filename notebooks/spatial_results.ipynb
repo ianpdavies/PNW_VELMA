{
 "cells": [
  {
   "cell_type": "markdown",
   "id": "international-start",
   "metadata": {},
   "source": [
    "# Spatial analysis of simulation results"
   ]
  },
  {
   "cell_type": "code",
   "execution_count": 184,
   "id": "connected-domain",
   "metadata": {},
   "outputs": [],
   "source": [
    "import __init__\n",
    "import scripts.config as config\n",
    "import numpy as np\n",
    "import pandas as pd\n",
    "import ipywidgets as widgets\n",
    "import os\n",
    "from pathlib import Path\n",
    "import matplotlib.pyplot as plt\n",
    "from matplotlib import cm"
   ]
  },
  {
   "cell_type": "code",
   "execution_count": 20,
   "id": "rubber-skiing",
   "metadata": {},
   "outputs": [],
   "source": [
    "# Plotting parameters\n",
    "\n",
    "XSMALL_SIZE = 6\n",
    "SMALL_SIZE = 7\n",
    "MEDIUM_SIZE = 9\n",
    "BIGGER_SIZE = 12\n",
    "\n",
    "plt.rc('font', size=SMALL_SIZE)          # controls default text sizes\n",
    "plt.rc('axes', titlesize=SMALL_SIZE)     # fontsize of the axes title\n",
    "plt.rc('axes', labelsize=SMALL_SIZE)    # fontsize of the x and y labels\n",
    "plt.rc('xtick', labelsize=SMALL_SIZE)    # fontsize of the tick labels\n",
    "plt.rc('ytick', labelsize=SMALL_SIZE)    # fontsize of the tick labels\n",
    "plt.rc('legend', fontsize=SMALL_SIZE)    # legend fontsize\n",
    "plt.rc('axes', titlesize=SMALL_SIZE)  # fontsize of the figure title\n",
    "plt.rcParams['figure.dpi'] = 120"
   ]
  },
  {
   "cell_type": "code",
   "execution_count": 8,
   "id": "split-terrace",
   "metadata": {},
   "outputs": [],
   "source": [
    "# Config\n",
    "\n",
    "gcms = ['canesm2_RCP85', 'ccsm4_RCP85', 'giss_e2_h_RCP85', 'noresm1_m_RCP85', 'PRISM']\n",
    "sim_start = pd.to_datetime('01-01-1984')\n",
    "sim_end = pd.to_datetime('12-31-2020')"
   ]
  },
  {
   "cell_type": "code",
   "execution_count": 9,
   "id": "living-elements",
   "metadata": {},
   "outputs": [],
   "source": [
    "# Import results files\n",
    "\n",
    "scenarios = ['historical']\n",
    "\n",
    "dailies = []\n",
    "annuals = []\n",
    "\n",
    "# Import daily and annual results\n",
    "# Results in nested lists ([x][y], for x management scenarios and y GCMs)\n",
    "for scenario in scenarios:\n",
    "    dailies_scenario = []\n",
    "    annuals_scenario = []\n",
    "    scenario_dir = config.velma_data.parents[1] / 'results' / scenario\n",
    "    dirs = os.listdir(scenario_dir)\n",
    "    for gcm in gcms:\n",
    "        results_dir = scenario_dir / 'ellsworth_{}_{}_{}_{}'.format(scenario,\n",
    "                                                                    sim_start.year % 100,\n",
    "                                                                    sim_end.year % 100,\n",
    "                                                                    gcm)\n",
    "        results_dir = scenario_dir / directory\n",
    "\n",
    "        daily_results = pd.read_csv(results_dir / 'DailyResults.csv')\n",
    "\n",
    "        # Format datetime\n",
    "        jday_pad = daily_results['Day'].apply(lambda x: str(x).zfill(3))\n",
    "        str_year = daily_results['Year'].apply(lambda x: str(x))\n",
    "        rng = pd.to_datetime((str_year + jday_pad), format='%Y%j')\n",
    "        daily_results.index = rng\n",
    "        dailies_scenario.append(daily_results)\n",
    "\n",
    "    dailies.append(dailies_scenario)"
   ]
  },
  {
   "cell_type": "markdown",
   "id": "future-printing",
   "metadata": {},
   "source": [
    "## Biomass carbon"
   ]
  },
  {
   "cell_type": "code",
   "execution_count": 187,
   "id": "imported-auckland",
   "metadata": {},
   "outputs": [],
   "source": [
    "# Trim the image to only the delineated watershed simulated through VELMA\n",
    "# Can export a delineated DEM from JPDEM\n",
    "del_dem = np.loadtxt(config.dem_velma.parents[0] / 'delineated_dem.asc', skiprows=6)\n",
    "watershed_mask = (del_dem==-9999)\n",
    "\n",
    "biomass_c_dir = results_dir / 'spatial_writer' / 'biomass_c'\n",
    "\n",
    "asciis = []\n",
    "for file in os.listdir(biomass_c_dir):\n",
    "    asc = np.loadtxt(biomass_c_dir / file, skiprows=6)\n",
    "    asc[watershed_mask] = np.nan\n",
    "    asciis.append(asc)\n",
    "\n",
    "years = []\n",
    "for file in os.listdir(biomass_c_dir):\n",
    "    year = Path(file).stem.split('_')[-2]\n",
    "    years.append(year)\n",
    "years = [int(x) for x in dates]"
   ]
  },
  {
   "cell_type": "code",
   "execution_count": 196,
   "id": "international-customs",
   "metadata": {},
   "outputs": [
    {
     "data": {
      "application/vnd.jupyter.widget-view+json": {
       "model_id": "aad67843b87747d598bddef46fed6993",
       "version_major": 2,
       "version_minor": 0
      },
      "text/plain": [
       "interactive(children=(IntSlider(value=1984, description='year', max=2020, min=1984), Output()), _dom_classes=(…"
      ]
     },
     "metadata": {},
     "output_type": "display_data"
    }
   ],
   "source": [
    "binary_cmap = cm.get_cmap('binary', 2)\n",
    "gray = np.array([0.31, 0.31, 0.31, 1])\n",
    "binary_cmap_colors = binary_cmap(np.linspace(0, 1, 2))\n",
    "binary_cmap_colors[:1, :] = gray\n",
    "binary_cmap_gray = colors.ListedColormap(binary_cmap_colors)\n",
    "\n",
    "@widgets.interact(year=(1984, 2020))\n",
    "def f(year=min(years)):\n",
    "    ind = dates.index(year)\n",
    "    fig, ax = plt.subplots(figsize=(7, 8))\n",
    "    im = ax.imshow(asciis[ind], cmap='YlGn')\n",
    "    mask = np.isnan(asciis[ind]) * 1.0\n",
    "    mask[mask == 0] = np.nan\n",
    "    ax.imshow(mask, cmap=binary_cmap_gray)\n",
    "    cbar = fig.colorbar(im, ax=ax)\n",
    "    cbar.ax.set_ylabel(r'$gC/m^2$', rotation=270)"
   ]
  }
 ],
 "metadata": {
  "kernelspec": {
   "display_name": "tnc_velma",
   "language": "python",
   "name": "tnc_velma"
  },
  "language_info": {
   "codemirror_mode": {
    "name": "ipython",
    "version": 3
   },
   "file_extension": ".py",
   "mimetype": "text/x-python",
   "name": "python",
   "nbconvert_exporter": "python",
   "pygments_lexer": "ipython3",
   "version": "3.7.8"
  }
 },
 "nbformat": 4,
 "nbformat_minor": 5
}
