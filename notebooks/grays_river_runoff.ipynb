{
 "cells": [
  {
   "cell_type": "markdown",
   "metadata": {},
   "source": [
    "# Examining Gray's River streamflow quality flags"
   ]
  },
  {
   "cell_type": "code",
   "execution_count": 1,
   "metadata": {},
   "outputs": [],
   "source": [
    "%matplotlib widget\n",
    "\n",
    "import __init__\n",
    "import scripts.config as config\n",
    "import numpy as np\n",
    "import pandas as pd\n",
    "import tempfile\n",
    "import datetime\n",
    "import ipywidgets as widgets\n",
    "from ipywidgets import interact\n",
    "from natsort import natsorted\n",
    "import os\n",
    "from sklearn.metrics import mean_squared_error, r2_score\n",
    "from matplotlib.font_manager import FontProperties\n",
    "import seaborn as sns\n",
    "# import matplotlib as mpl\n",
    "import matplotlib.pyplot as plt\n",
    "import importlib"
   ]
  },
  {
   "cell_type": "code",
   "execution_count": 2,
   "metadata": {},
   "outputs": [],
   "source": [
    "# Plotting parameters\n",
    "\n",
    "XSMALL_SIZE = 6\n",
    "SMALL_SIZE = 7\n",
    "MEDIUM_SIZE = 9\n",
    "BIGGER_SIZE = 12\n",
    "\n",
    "plt.rc('font', size=SMALL_SIZE)          # controls default text sizes\n",
    "plt.rc('axes', titlesize=SMALL_SIZE)     # fontsize of the axes title\n",
    "plt.rc('axes', labelsize=SMALL_SIZE)    # fontsize of the x and y labels\n",
    "plt.rc('xtick', labelsize=SMALL_SIZE)    # fontsize of the tick labels\n",
    "plt.rc('ytick', labelsize=SMALL_SIZE)    # fontsize of the tick labels\n",
    "plt.rc('legend', fontsize=SMALL_SIZE)    # legend fontsize\n",
    "plt.rc('axes', titlesize=SMALL_SIZE)  # fontsize of the figure title\n",
    "plt.rcParams['figure.dpi'] = 140"
   ]
  },
  {
   "cell_type": "markdown",
   "metadata": {},
   "source": [
    "#### Compile raw table files from Dept. of Ecology website into one CSV\n",
    "https://fortress.wa.gov/ecy/eap/flows/station.asp?sta=25B060#block2\n"
   ]
  },
  {
   "cell_type": "code",
   "execution_count": 13,
   "metadata": {},
   "outputs": [],
   "source": [
    "# grays_dir = config.streamflow.parents[0] / 'grays_river'\n",
    "# # all_files = natsorted(next(os.walk(grays_dir))[2])\n",
    "\n",
    "# txts1 = []\n",
    "# for file in ['25B060_2006_DSG_DV.txt', '25B060_2007_DSG_DV.txt', '25B060_2008_DSG_DV.txt', '25B060_2009_DSG_DV.txt', '25B060_2010_DSG_DV.txt']:\n",
    "#     grays_flow = pd.read_csv(grays_dir / file, delim_whitespace=True, skiprows=2, names=['date', 'time', 'flow (cfs)', 'quality'])\n",
    "#     txts1.append(grays_flow)\n",
    "\n",
    "# txts2 = []\n",
    "# for file in ['25B060_2011_DSG_DV.txt', '25B060_2012_DSG_DV.txt']:\n",
    "#     grays_flow = pd.read_csv(grays_dir / file, delim_whitespace=True, skiprows=2, names=['date', 'flow (cfs)', 'quality'])\n",
    "#     txts2.append(grays_flow)\n",
    "\n",
    "# df1 = pd.concat(txts1)\n",
    "# df1.drop('time', inplace=True, axis=1)\n",
    "# df2 = pd.concat(txts2)\n",
    "\n",
    "# df = pd.concat([df1, df2])\n",
    "# df.to_csv(grays_dir / '25B060_grays_river_05_12_flow.csv', index=False)"
   ]
  },
  {
   "cell_type": "code",
   "execution_count": 5,
   "metadata": {},
   "outputs": [],
   "source": [
    "grays_dir = config.streamflow.parents[0] / 'grays_river'\n",
    "grays_df = pd.read_csv(grays_dir / '25B060_grays_river_05_12_flow.csv', parse_dates=True, index_col=0)\n",
    "grays_df['doy'], grays_df['year'] = grays_df.index.dayofyear, grays_df.index.year\n",
    "grays_flow = grays_df.drop('quality', axis=1)\n",
    "grays_yearly = pd.pivot_table(grays_flow, index=['doy'], columns=['year'], values='flow (cfs)')"
   ]
  },
  {
   "cell_type": "code",
   "execution_count": 10,
   "metadata": {},
   "outputs": [
    {
     "data": {
      "application/vnd.jupyter.widget-view+json": {
       "model_id": "e0eec20f14cf4c82867d8b6905207b03",
       "version_major": 2,
       "version_minor": 0
      },
      "text/plain": [
       "Canvas(toolbar=Toolbar(toolitems=[('Home', 'Reset original view', 'home', 'home'), ('Back', 'Back to previous …"
      ]
     },
     "metadata": {},
     "output_type": "display_data"
    }
   ],
   "source": [
    "# Add quality scores below plot\n",
    "\n",
    "colors = sns.color_palette('tab10', 10)\n",
    "\n",
    "quality = grays_df.drop('flow (cfs)', axis=1)\n",
    "quality_edit = quality.copy()\n",
    "\n",
    "quality_edit['doy'], quality_edit['year'] = quality_edit.index.dayofyear, quality_edit.index.year\n",
    "quality_edit_yearly = pd.pivot_table(quality_edit, index=['doy'], columns=['year'], values=['quality'])\n",
    "quality2 = quality_edit_yearly.replace([2, 3, 8, 10, 50, 77, 160, 161, 179, 254],\n",
    "                                        [-2, np.nan, np.nan, np.nan, np.nan, np.nan, np.nan, np.nan, np.nan, np.nan])\n",
    "quality3 = quality_edit_yearly.replace([2, 3, 8, 10, 50, 77, 160, 161, 179, 254],\n",
    "                                        [np.nan, -2, np.nan, np.nan, np.nan, np.nan, np.nan, np.nan, np.nan, np.nan])\n",
    "quality8 = quality_edit_yearly.replace([2, 3, 8, 10, 50, 77, 160, 161, 179, 254],\n",
    "                                       [np.nan, np.nan, -2, np.nan, np.nan, np.nan, np.nan, np.nan, np.nan, np.nan])\n",
    "quality10 = quality_edit_yearly.replace([2, 3, 8, 10, 50, 77, 160, 161, 179, 254],\n",
    "                                        [np.nan, np.nan, np.nan, -2, np.nan, np.nan, np.nan, np.nan, np.nan, np.nan])\n",
    "quality50 = quality_edit_yearly.replace([2, 3, 8, 10, 50, 77, 160, 161, 179, 254],\n",
    "                                        [np.nan, np.nan, np.nan, np.nan, -2, np.nan, np.nan, np.nan, np.nan, np.nan])\n",
    "quality77 = quality_edit_yearly.replace([2, 3, 8, 10, 50, 77, 160, 161, 179, 254],\n",
    "                                        [np.nan, np.nan, np.nan, np.nan, np.nan, -2, np.nan, np.nan, np.nan, np.nan])\n",
    "quality160 = quality_edit_yearly.replace([2, 3, 8, 10, 50, 77, 160, 161, 179, 254],\n",
    "                                         [np.nan, np.nan, np.nan, np.nan, np.nan, np.nan, -2, np.nan, np.nan, np.nan])\n",
    "quality161 = quality_edit_yearly.replace([2, 3, 8, 10, 50, 77, 160, 161, 179, 254],\n",
    "                                         [np.nan, np.nan, np.nan, np.nan, np.nan, np.nan, np.nan, -2, np.nan, np.nan])\n",
    "quality179 = quality_edit_yearly.replace([2, 3, 8, 10, 50, 77, 160, 161, 179, 254],\n",
    "                                         [np.nan, np.nan, np.nan, np.nan, np.nan, np.nan, np.nan, np.nan, -2, np.nan])\n",
    "quality254 = quality_edit_yearly.replace([2, 3, 8, 10, 50, 77, 160, 161, 179, 254],\n",
    "                                         [np.nan, np.nan, np.nan, np.nan, np.nan, np.nan, np.nan, np.nan, np.nan, -2])\n",
    "\n",
    "years = grays_yearly.columns\n",
    "fig, axes = plt.subplots(ncols=1, nrows=len(years), figsize=(6, 14))\n",
    "\n",
    "for col, year in enumerate(years):\n",
    "#     ax2 = axes[col].twinx()\n",
    "#     precip_yearly.iloc[:, col].plot(ax=ax2, label='Precip', color='tab:green', linewidth=0.5)\n",
    "#     if col == 0:\n",
    "#         ax2.set_ylabel('Precipitation (mm/day)')\n",
    "#         ax2.legend(loc='upper right', bbox_to_anchor=(1, 1.3), fancybox=True, ncol=1)\n",
    "    quality2.iloc[:, col].plot(ax=axes[col], color=colors[0], linewidth=5, label='Good provisional data')\n",
    "    quality3.iloc[:, col].plot(ax=axes[col], color=colors[1], linewidth=5, label='Good provisional data - edited')\n",
    "    quality8.iloc[:, col].plot(ax=axes[col], color=colors[2], linewidth=5, label='Below rating')\n",
    "    quality10.iloc[:, col].plot(ax=axes[col], color=colors[3], linewidth=5, label='Above rating (<2x)')\n",
    "    quality50.iloc[:, col].plot(ax=axes[col], color=colors[4], linewidth=5, label='Estimated')\n",
    "    quality77.iloc[:, col].plot(ax=axes[col], color=colors[5], linewidth=5, label='Estimated from other station')\n",
    "    quality160.iloc[:, col].plot(ax=axes[col], color=colors[6], linewidth=5, label='Above rating (>2x)')\n",
    "    quality161.iloc[:, col].plot(ax=axes[col], color=colors[7], linewidth=5, label='Below rating (<1/2x)')\n",
    "    quality179.iloc[:, col].plot(ax=axes[col], color=colors[8], linewidth=5, label='Estimated - unreliable')\n",
    "    quality254.iloc[:, col].plot(ax=axes[col], color=colors[9], linewidth=5, label='Rating exceeded')\n",
    "    grays_yearly.iloc[:, col].plot(ax=axes[col], label='Observed', linewidth=1)\n",
    "#     ax2.invert_yaxis()\n",
    "    axes[col].set_ylim([-5, 20000])\n",
    "    axes[col].set_title(year)\n",
    "axes[0].legend(loc='upper left', bbox_to_anchor=(0, 1.9), fancybox=True, ncol=2)\n",
    "axes[0].set_ylabel('Runoff (mm/day)')\n",
    "plt.tight_layout()\n",
    "# plt.savefig('baseline_runoffs_qaflags.png', dpi=300)"
   ]
  },
  {
   "cell_type": "code",
   "execution_count": null,
   "metadata": {},
   "outputs": [],
   "source": []
  }
 ],
 "metadata": {
  "kernelspec": {
   "display_name": "tnc_velma",
   "language": "python",
   "name": "tnc_velma"
  },
  "language_info": {
   "codemirror_mode": {
    "name": "ipython",
    "version": 3
   },
   "file_extension": ".py",
   "mimetype": "text/x-python",
   "name": "python",
   "nbconvert_exporter": "python",
   "pygments_lexer": "ipython3",
   "version": "3.7.8"
  }
 },
 "nbformat": 4,
 "nbformat_minor": 4
}
