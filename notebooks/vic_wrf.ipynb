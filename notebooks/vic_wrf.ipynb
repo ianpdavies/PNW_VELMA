{
 "cells": [
  {
   "cell_type": "markdown",
   "metadata": {},
   "source": [
    "# Examining VIC-WRF data and exporting"
   ]
  },
  {
   "cell_type": "code",
   "execution_count": 2,
   "metadata": {},
   "outputs": [],
   "source": [
    "%matplotlib widget\n",
    "\n",
    "import __init__\n",
    "import scripts.config as config\n",
    "import numpy as np\n",
    "import pandas as pd\n",
    "import tempfile\n",
    "import datetime\n",
    "from sklearn.svm import SVR\n",
    "from natsort import natsorted\n",
    "import geopandas as gpd\n",
    "from sklearn.metrics import mean_squared_error, r2_score, mean_absolute_error\n",
    "from matplotlib.font_manager import FontProperties\n",
    "import seaborn as sns\n",
    "# import matplotlib as mpl\n",
    "import matplotlib.pyplot as plt\n",
    "import importlib\n",
    "import HydroErr as he\n",
    "import os\n",
    "from pathlib import Path\n",
    "from dateutil.relativedelta import relativedelta"
   ]
  },
  {
   "cell_type": "code",
   "execution_count": 3,
   "metadata": {},
   "outputs": [],
   "source": [
    "# Plotting parameters\n",
    "\n",
    "XSMALL_SIZE = 6\n",
    "SMALL_SIZE = 7\n",
    "MEDIUM_SIZE = 9\n",
    "BIGGER_SIZE = 12\n",
    "\n",
    "plt.rc('font', size=SMALL_SIZE)          # controls default text sizes\n",
    "plt.rc('axes', titlesize=SMALL_SIZE)     # fontsize of the axes title\n",
    "plt.rc('axes', labelsize=SMALL_SIZE)    # fontsize of the x and y labels\n",
    "plt.rc('xtick', labelsize=SMALL_SIZE)    # fontsize of the tick labels\n",
    "plt.rc('ytick', labelsize=SMALL_SIZE)    # fontsize of the tick labels\n",
    "plt.rc('legend', fontsize=SMALL_SIZE)    # legend fontsize\n",
    "plt.rc('axes', titlesize=SMALL_SIZE)  # fontsize of the figure title\n",
    "plt.rcParams['figure.dpi'] = 140"
   ]
  },
  {
   "cell_type": "markdown",
   "metadata": {},
   "source": [
    "## Averaging WRF simulations"
   ]
  },
  {
   "cell_type": "markdown",
   "metadata": {},
   "source": [
    "Each WRF simulation has 5 runs with different parameter sets. Averaging these produces one ensemble data set for each simulation.\n",
    "\n",
    "Only need to do this once, as the averages are saved locally in compressed text files."
   ]
  },
  {
   "cell_type": "code",
   "execution_count": 4,
   "metadata": {},
   "outputs": [],
   "source": [
    "# wrf_dir = config.data_path / 'precip' / 'VIC_WRF_EllsworthCr'\n",
    "# wrf_file = 'flux_46.40625_-123.90625'\n",
    "# wrf_cols = [\"YEAR\",\"MONTH\",\"DAY\",\"HOUR\",\"OUT_PREC\",\"OUT_PET_SHORT\",\n",
    "#             \"OUT_SWE\",\"OUT_EVAP\",\"OUT_RUNOFF\",\"OUT_BASEFLOW\",\n",
    "#             \"OUT_SOIL_MOIST0\", \"OUT_SOIL_MOIST1\",\"OUT_SOIL_MOIST2\"]\n",
    "\n",
    "# for sim_dir in os.listdir(wrf_dir):\n",
    "#     runs = os.listdir(wrf_dir / sim_dir)\n",
    "#     try:\n",
    "#         runs.remove('sim_avg')\n",
    "#     except ValueError:\n",
    "#         pass\n",
    "#     arrs = []\n",
    "#     for run in runs:\n",
    "#         arr = np.loadtxt(wrf_dir / sim_dir / run / wrf_file)\n",
    "#         arrs.append(arr)\n",
    "#     stack = np.dstack(arrs)\n",
    "#     averaged = np.mean(stack, axis=2)\n",
    "#     out_dir = wrf_dir / sim_dir / 'sim_avg'\n",
    "#     try:\n",
    "#         out_dir.mkdir(parents=True)\n",
    "#     except FileExistsError:\n",
    "#         pass\n",
    "#     np.savetxt(out_dir / '{}.gz'.format(wrf_file), averaged)"
   ]
  },
  {
   "cell_type": "code",
   "execution_count": null,
   "metadata": {},
   "outputs": [],
   "source": [
    "# # Save averaged temp file\n",
    "# forc_dir = config.data_path / 'precip' / 'WRF_frcs_EllsworthCr_forcings'\n",
    "# forc_file = 'forc_46.40625_-123.90625'\n",
    "# forc_cols = ['Year', 'Month', 'Day', 'Hour', 'Precip(mm)', 'Temp(C)', \n",
    "#              'Wind(m/s)', 'SWrad(W/m2)', 'LWrad(W/m2)', 'pressure(kPa)', \n",
    "#              'VaporPress(kPa)']\n",
    "\n",
    "# cols = ['Temp(C)']\n",
    "# inds = [forc_cols.index(x) for x in cols]\n",
    "# arrs = []\n",
    "# sim_dirs = []\n",
    "# for sim_dir in os.listdir(forc_dir):\n",
    "#     if sim_dir == 'pnnl_historical':\n",
    "#         continue\n",
    "#     sim_dirs.append(sim_dir)\n",
    "#     arr = np.loadtxt(forc_dir / sim_dir / forc_file)\n",
    "#     arrs.append(arr[:, inds])\n",
    "# stack = np.column_stack(arrs)\n",
    "# proj_sims_temp = pd.DataFrame(stack, columns=sim_dirs)\n",
    "# date_arr = pd.DataFrame(arr, columns=forc_cols)\n",
    "# proj_sims_temp = np.column_stack([date_arr[['Year', 'Month', 'Day']], stack])\n",
    "\n",
    "# # Export just averaged temp to speed up imports in the future\n",
    "# gcm_avg_forc_dir = forc_dir / 'sim_avg'\n",
    "# try:\n",
    "#     gcm_avg_forc_dir.mkdir(parents=True)\n",
    "# except FileExistsError:\n",
    "#     pass\n",
    "\n",
    "# np.savetxt(gcm_avg_forc_dir / 'sim_avg_temp.gz', proj_sims_temp)"
   ]
  },
  {
   "cell_type": "code",
   "execution_count": null,
   "metadata": {},
   "outputs": [],
   "source": [
    "# # Save averaged precip file\n",
    "# wrf_dir = config.data_path / 'precip' / 'VIC_WRF_EllsworthCr'\n",
    "# wrf_file = 'flux_46.40625_-123.90625'\n",
    "# wrf_cols = [\"YEAR\",\"MONTH\",\"DAY\",\"HOUR\",\"OUT_PREC\",\"OUT_PET_SHORT\",\n",
    "#             \"OUT_SWE\",\"OUT_EVAP\",\"OUT_RUNOFF\",\"OUT_BASEFLOW\",\n",
    "#             \"OUT_SOIL_MOIST0\", \"OUT_SOIL_MOIST1\",\"OUT_SOIL_MOIST2\"]\n",
    "\n",
    "# cols = ['OUT_PREC']\n",
    "# inds = [wrf_cols.index(x) for x in cols]\n",
    "# arrs = []\n",
    "# sim_dirs = []\n",
    "# for sim_dir in os.listdir(wrf_dir):\n",
    "#     if sim_dir == 'pnnl_historical':\n",
    "#         continue\n",
    "#     sim_dirs.append(sim_dir)\n",
    "#     arr = np.loadtxt(wrf_dir / sim_dir / 'sim_avg' / '{}.gz'.format(wrf_file))\n",
    "#     arrs.append(arr[:, inds])\n",
    "# stack = np.column_stack(arrs)\n",
    "# proj_sims_ppt = pd.DataFrame(stack, columns=sim_dirs)\n",
    "# date_arr = pd.DataFrame(arr, columns=wrf_cols)\n",
    "# proj_sims_ppt = np.column_stack([date_arr[['YEAR', 'MONTH', 'DAY']], stack])\n",
    "\n",
    "# # Export just averaged temp to speed up imports in the future\n",
    "# gcm_avg_dir = wrf_dir / 'sim_avg'\n",
    "# try:\n",
    "#     gcm_avg_dir.mkdir(parents=True)\n",
    "# except FileExistsError:\n",
    "#     pass\n",
    "\n",
    "# np.savetxt(gcm_avg_dir / 'sim_avg_ppt.gz', proj_sims_ppt)"
   ]
  },
  {
   "cell_type": "code",
   "execution_count": 7,
   "metadata": {},
   "outputs": [],
   "source": [
    "# Import and format observed data (2003-2007 runoff)\n",
    "\n",
    "input_dir = config.velma_data\n",
    "results_dir = config.data_path.parents[0] / 'results' / 'ellsworth_baseline_03_07_21'\n",
    "\n",
    "runoff_start = pd.to_datetime('01-01-2003')\n",
    "runoff_end = pd.to_datetime('12-31-2007')\n",
    "nse_start = pd.to_datetime('01-01-2004')\n",
    "nse_end = pd.to_datetime('12-31-2007')\n",
    "\n",
    "# Projected climate variables\n",
    "wrf_dir = config.data_path / 'precip' / 'VIC_WRF_EllsworthCr'\n",
    "wrf_file = 'flux_46.40625_-123.90625'\n",
    "wrf_cols = [\"YEAR\",\"MONTH\",\"DAY\",\"HOUR\",\"OUT_PREC\",\"OUT_PET_SHORT\",\n",
    "            \"OUT_SWE\",\"OUT_EVAP\",\"OUT_RUNOFF\",\"OUT_BASEFLOW\",\n",
    "            \"OUT_SOIL_MOIST0\", \"OUT_SOIL_MOIST1\",\"OUT_SOIL_MOIST2\"]\n",
    "arr = np.loadtxt(wrf_dir / 'pnnl_historical' / 'sim_avg' / wrf_file)\n",
    "pnnl_hist = pd.DataFrame(arr, columns=wrf_cols)\n",
    "pnnl_hist.index = pd.to_datetime(pnnl_hist[['YEAR', 'MONTH', 'DAY']])\n",
    "\n",
    "# Projected climate forcings\n",
    "forc_dir = config.data_path / 'precip' / 'WRF_frcs_EllsworthCr_forcings'\n",
    "forc_file = 'forc_46.40625_-123.90625'\n",
    "forc_cols = ['Year', 'Month', 'Day', 'Hour', 'Precip(mm)', 'Temp(C)', \n",
    "             'Wind(m/s)', 'SWrad(W/m2)', 'LWrad(W/m2)', 'pressure(kPa)', \n",
    "             'VaporPress(kPa)']\n",
    "arr = np.loadtxt(forc_dir / 'pnnl_historical' / forc_file)\n",
    "pnnl_hist_forc = pd.DataFrame(arr, columns=forc_cols)\n",
    "pnnl_hist_forc.index = pd.to_datetime(pnnl_hist_forc[['Year', 'Month', 'Day']])\n",
    "# Combine variables and forcings\n",
    "pnnl_hist_join = pd.concat([pnnl_hist_forc, pnnl_hist], axis=1)\n",
    "pnnl_hist_join = pnnl_hist_join[(pnnl_hist_join.index >= nse_start) & (pnnl_hist_join.index <= nse_end)]\n",
    "\n",
    "# Runoff observations\n",
    "runoff_path = input_dir / 'runoff' / 'ellsworth_Q_2003_2007_dummy.csv'\n",
    "runoff_obs = pd.read_csv(runoff_path, names=['runoff_obs'])\n",
    "runoff_obs.index = pd.date_range(runoff_start, runoff_end)\n",
    "runoff_obs = runoff_obs[(runoff_obs.index >= nse_start) & (runoff_obs.index <= nse_end)]\n",
    "\n",
    "# Runoff quality codes\n",
    "flow_path = config.streamflow\n",
    "quality = pd.read_csv(flow_path, usecols=['Date', 'Quality'], parse_dates=True, index_col=0)\n",
    "quality = quality[(quality.index >= nse_start) & (quality.index <= nse_end)]\n",
    "\n",
    "# Precipitation\n",
    "precip_path = input_dir / 'precip' / 'PRISM_gauge_avg_ppt_2003_2019.csv'\n",
    "forcing_start = pd.to_datetime('01-01-2003')\n",
    "forcing_end = pd.to_datetime('12-31-2019')                     \n",
    "precip = pd.read_csv(precip_path, names=['precip'])\n",
    "precip.index = pd.date_range(forcing_start, forcing_end)\n",
    "precip = precip[(precip.index >= nse_start) & (precip.index <= nse_end)]\n",
    "\n",
    "# Air temperature\n",
    "temp_path = input_dir / 'temp' / 'ellsworth_temp_2003_2019.csv'\n",
    "temp = pd.read_csv(temp_path, names=['temp'])\n",
    "temp.index = pd.date_range(forcing_start, forcing_end)\n",
    "temp = temp[(temp.index >= nse_start) & (temp.index <= nse_end)]\n",
    "\n",
    "# Import VELMA outputs\n",
    "velma_results = pd.read_csv(results_dir / 'DailyResults.csv')\n",
    "\n",
    "# Format datetime of results\n",
    "jday_pad = velma_results['Day'].apply(lambda x: str(x).zfill(3))\n",
    "str_year = velma_results['Year'].apply(lambda x: str(x))\n",
    "velma_results['year_jday'] = str_year + jday_pad\n",
    "velma_results.index = pd.to_datetime(velma_results['year_jday'], format='%Y%j')\n",
    "velma_results = velma_results[(velma_results.index >= nse_start) & (velma_results.index <= nse_end)]"
   ]
  },
  {
   "cell_type": "code",
   "execution_count": 8,
   "metadata": {},
   "outputs": [],
   "source": [
    "# Aggregate hourly projections into daily\n",
    "\n",
    "pnnl_hist_join.drop(columns=['Year', 'Month', 'Day', 'Hour', 'HOUR'])\n",
    "cols = ['Precip(mm)', 'Temp(C)', 'Wind(m/s)', 'SWrad(W/m2)',\n",
    "        'LWrad(W/m2)', 'pressure(kPa)', 'VaporPress(kPa)', 'OUT_PREC',\n",
    "        'OUT_PET_SHORT', 'OUT_SWE', 'OUT_EVAP', 'OUT_RUNOFF', 'OUT_BASEFLOW',\n",
    "        'OUT_SOIL_MOIST0', 'OUT_SOIL_MOIST1', 'OUT_SOIL_MOIST2']\n",
    "\n",
    "methods = ['sum', 'mean', 'mean', 'mean',\n",
    "          'mean', 'mean', 'mean', 'sum',\n",
    "          'sum', 'sum', 'sum', 'sum', 'sum', 'sum',\n",
    "          'sum', 'sum', 'sum']\n",
    "\n",
    "pnnl_hist_agg = pnnl_hist_join.groupby(pd.Grouper(freq='D')).agg(dict(zip(cols, methods)))\n",
    "\n",
    "# Make pivot tables\n",
    "wrf_ppt_yearly = pd.pivot_table(pnnl_hist_agg, index=pnnl_hist_agg.index.dayofyear, columns=pnnl_hist_agg.index.year,\n",
    "                                   values='OUT_PREC', dropna=False)\n",
    "\n",
    "wrf_ppt2_yearly = pd.pivot_table(pnnl_hist_agg, index=pnnl_hist_agg.index.dayofyear, columns=pnnl_hist_agg.index.year,\n",
    "                                   values='Precip(mm)', dropna=False)\n",
    "\n",
    "wrf_temp_yearly = pd.pivot_table(pnnl_hist_agg, index=pnnl_hist_agg.index.dayofyear, columns=pnnl_hist_agg.index.year,\n",
    "                                   values='Temp(C)', dropna=False)\n",
    "\n",
    "runoff_obs_yearly = pd.pivot_table(runoff_obs, index=runoff_obs.index.dayofyear, columns=runoff_obs.index.year, \n",
    "                                   values=['runoff_obs'], dropna=False)\n",
    "\n",
    "precip_yearly = pd.pivot_table(precip, index=precip.index.dayofyear, columns=precip.index.year, \n",
    "                                   values=['precip'], dropna=False)\n",
    "\n",
    "temp_yearly = pd.pivot_table(temp, index=temp.index.dayofyear, columns=temp.index.year, \n",
    "                                   values=['temp'], dropna=False)\n"
   ]
  },
  {
   "cell_type": "markdown",
   "metadata": {},
   "source": [
    "## Plotting"
   ]
  },
  {
   "cell_type": "code",
   "execution_count": 9,
   "metadata": {},
   "outputs": [
    {
     "data": {
      "application/vnd.jupyter.widget-view+json": {
       "model_id": "c1b7978e80a448ea866979ca0b8a6bf1",
       "version_major": 2,
       "version_minor": 0
      },
      "text/plain": [
       "Canvas(toolbar=Toolbar(toolitems=[('Home', 'Reset original view', 'home', 'home'), ('Back', 'Back to previous …"
      ]
     },
     "metadata": {},
     "output_type": "display_data"
    }
   ],
   "source": [
    "# Precips\n",
    "years = runoff_obs_yearly.columns.get_level_values(1)\n",
    "fig, axes = plt.subplots(ncols=1, nrows=len(years), figsize=(6, 9))\n",
    "for col, year in enumerate(years):\n",
    "#     wrf_ppt2_yearly.iloc[:, col].plot(ax=axes[col], label='VIC-WRF', linewidth=1)\n",
    "    wrf_ppt_yearly.iloc[:, col].plot(ax=axes[col], label='WRF', linewidth=1)\n",
    "    precip_yearly.iloc[:, col].plot(ax=axes[col], label='PRISM/gauge', linewidth=1)\n",
    "    axes[col].set_title(year)\n",
    "    axes[col].set_ylim([0, 130])\n",
    "axes[0].legend(loc='upper left', bbox_to_anchor=(0, 1.3), fancybox=True, ncol=2)\n",
    "axes[0].set_ylabel('Runoff (mm/day)')\n",
    "fig.suptitle('Fig. 1: WRF vs. PRISM/gauge precipitation')\n",
    "plt.tight_layout(rect=[0, 0, 1, 0.99])"
   ]
  },
  {
   "cell_type": "code",
   "execution_count": 12,
   "metadata": {},
   "outputs": [
    {
     "data": {
      "application/vnd.jupyter.widget-view+json": {
       "model_id": "1930a31e6ed0447a905400737ea290e1",
       "version_major": 2,
       "version_minor": 0
      },
      "text/plain": [
       "Canvas(toolbar=Toolbar(toolitems=[('Home', 'Reset original view', 'home', 'home'), ('Back', 'Back to previous …"
      ]
     },
     "metadata": {},
     "output_type": "display_data"
    }
   ],
   "source": [
    "# Temps\n",
    "years = runoff_obs_yearly.columns.get_level_values(1)\n",
    "fig, axes = plt.subplots(ncols=1, nrows=len(years), figsize=(6, 9))\n",
    "for col, year in enumerate(years):\n",
    "    wrf_temp_yearly.iloc[:, col].plot(ax=axes[col], label='WRF', linewidth=1)\n",
    "    temp_yearly.iloc[:, col].plot(ax=axes[col], label='PRISM', linewidth=1)\n",
    "    axes[col].set_title(year)\n",
    "    axes[col].set_ylim([0, 30])\n",
    "axes[0].legend(loc='upper left', bbox_to_anchor=(0, 1.3), fancybox=True, ncol=2)\n",
    "axes[0].set_ylabel('Degrees (C)')\n",
    "fig.suptitle('Fig. 2: WRF vs. PRISM/gauge air temperature')\n",
    "plt.tight_layout(rect=[0, 0, 1, 0.99])"
   ]
  },
  {
   "cell_type": "markdown",
   "metadata": {},
   "source": [
    "## Exporting historical WRF forcings (2003-2015)"
   ]
  },
  {
   "cell_type": "code",
   "execution_count": 164,
   "metadata": {},
   "outputs": [],
   "source": [
    "driver_start = pd.to_datetime('01-01-2003')\n",
    "driver_end = pd.to_datetime('12-31-2015')\n",
    "\n",
    "pnnl_hist_join_export = pd.concat([pnnl_hist_forc, pnnl_hist], axis=1)\n",
    "pnnl_hist_join_export = pnnl_hist_join_export[(pnnl_hist_join_export.index >= driver_start) & \n",
    "                                              (pnnl_hist_join_export.index <= driver_end)]\n",
    "pnnl_hist_join_export.drop(columns=['Year', 'Month', 'Day', 'Hour', 'HOUR'])\n",
    "pnnl_hist_agg_export = pnnl_hist_join_export.groupby(pd.Grouper(freq='D')).agg(dict(zip(cols, methods)))\n",
    "\n",
    "# Precipitation\n",
    "outfile = input_dir / 'precip' / 'vic_wrf_ppt_03_15.csv'\n",
    "ppt_out = pnnl_hist_agg_export.loc[:, 'OUT_PREC']\n",
    "ppt_out.to_csv(outfile, header=False, index=False)\n",
    "\n",
    "# Air temperature\n",
    "outfile = input_dir / 'temp' / 'vic_wrf_temp_03_15.csv'\n",
    "temp_out = pnnl_hist_agg_export.loc[:, 'Temp(C)']\n",
    "temp_out.to_csv(outfile, header=False, index=False)"
   ]
  },
  {
   "cell_type": "markdown",
   "metadata": {},
   "source": [
    "## Examining temperature and precip projections from WRF simulations"
   ]
  },
  {
   "cell_type": "markdown",
   "metadata": {},
   "source": [
    "#### Precipitation"
   ]
  },
  {
   "cell_type": "code",
   "execution_count": 13,
   "metadata": {},
   "outputs": [],
   "source": [
    "wrf_dir = config.data_path / 'precip' / 'VIC_WRF_EllsworthCr'\n",
    "wrf_file = 'flux_46.40625_-123.90625'\n",
    "wrf_cols = [\"YEAR\",\"MONTH\",\"DAY\",\"HOUR\",\"OUT_PREC\",\"OUT_PET_SHORT\",\n",
    "            \"OUT_SWE\",\"OUT_EVAP\",\"OUT_RUNOFF\",\"OUT_BASEFLOW\",\n",
    "            \"OUT_SOIL_MOIST0\", \"OUT_SOIL_MOIST1\",\"OUT_SOIL_MOIST2\"]\n",
    "\n",
    "# Get precipitation\n",
    "cols = ['OUT_PREC']\n",
    "inds = [wrf_cols.index(x) for x in cols]\n",
    "arrs = []\n",
    "sim_dirs = []\n",
    "for sim_dir in os.listdir(wrf_dir):\n",
    "    if sim_dir == 'pnnl_historical':\n",
    "        continue\n",
    "    sim_dirs.append(sim_dir)\n",
    "    arr = np.loadtxt(wrf_dir / sim_dir / 'sim_avg' / '{}.gz'.format(wrf_file))\n",
    "    arrs.append(arr[:, inds])\n",
    "stack = np.column_stack(arrs)\n",
    "proj_sims_ppt = pd.DataFrame(stack, columns=sim_dirs)\n",
    "date_arr = pd.DataFrame(arr, columns=wrf_cols)\n",
    "proj_sims_ppt.index = pd.to_datetime(date_arr[['YEAR', 'MONTH', 'DAY']])"
   ]
  },
  {
   "cell_type": "markdown",
   "metadata": {},
   "source": [
    "#### Temperature"
   ]
  },
  {
   "cell_type": "code",
   "execution_count": 14,
   "metadata": {},
   "outputs": [],
   "source": [
    "forc_dir = config.data_path / 'precip' / 'WRF_frcs_EllsworthCr_forcings'\n",
    "forc_file = 'forc_46.40625_-123.90625'\n",
    "forc_cols = ['Year', 'Month', 'Day', 'Hour', 'Precip(mm)', 'Temp(C)', \n",
    "             'Wind(m/s)', 'SWrad(W/m2)', 'LWrad(W/m2)', 'pressure(kPa)', \n",
    "             'VaporPress(kPa)']\n",
    "\n",
    "# Get temperature\n",
    "cols = ['Temp(C)']\n",
    "inds = [forc_cols.index(x) for x in cols]\n",
    "arrs = []\n",
    "sim_dirs = []\n",
    "for sim_dir in os.listdir(forc_dir):\n",
    "    if sim_dir == 'pnnl_historical':\n",
    "        continue\n",
    "    sim_dirs.append(sim_dir)\n",
    "    arr = np.loadtxt(forc_dir / sim_dir / forc_file)\n",
    "    arrs.append(arr[:, inds])\n",
    "stack = np.column_stack(arrs)\n",
    "proj_sims_temp = pd.DataFrame(stack, columns=sim_dirs)\n",
    "date_arr = pd.DataFrame(arr, columns=forc_cols)\n",
    "proj_sims_temp.index = pd.to_datetime(date_arr[['Year', 'Month', 'Day']])"
   ]
  },
  {
   "cell_type": "code",
   "execution_count": 254,
   "metadata": {},
   "outputs": [
    {
     "data": {
      "application/vnd.jupyter.widget-view+json": {
       "model_id": "26a8ae0c623c4c82a5b0f58df2dec687",
       "version_major": 2,
       "version_minor": 0
      },
      "text/plain": [
       "Canvas(toolbar=Toolbar(toolitems=[('Home', 'Reset original view', 'home', 'home'), ('Back', 'Back to previous …"
      ]
     },
     "metadata": {},
     "output_type": "display_data"
    },
    {
     "data": {
      "text/plain": [
       "<matplotlib.legend.Legend at 0x19d9b5c2588>"
      ]
     },
     "execution_count": 254,
     "metadata": {},
     "output_type": "execute_result"
    }
   ],
   "source": [
    "plt.close('all')\n",
    "colors = sns.color_palette('Dark2', 13)\n",
    "sim_start = pd.to_datetime('01-01-2025')\n",
    "sim_end = pd.to_datetime('12-31-2099')\n",
    "fig = plt.figure(figsize=(12, 5))\n",
    "for i, sim in enumerate(proj_sims_temp):\n",
    "    sim_data = proj_sims_temp.loc[:, sim]\n",
    "    sim_subset = sim_data[(sim_data.index >= sim_start) & (sim_data.index <= sim_end)]\n",
    "    sim_group = sim_subset.groupby(pd.Grouper(freq='10Y')).mean()\n",
    "    sim_group.plot(label=sim, color=colors[i])\n",
    "    \n",
    "ensemble_data = proj_sims_temp.mean(axis=1)\n",
    "ensemble_subset = ensemble_data[(ensemble_data.index >= sim_start) & (ensemble_data.index <= sim_end)]\n",
    "ensemble_group = ensemble_subset.groupby(pd.Grouper(freq='10Y')).mean()\n",
    "ensemble_group.plot(label='Average', color='black', linewidth=2.5)\n",
    "#     sim_group.plot(sim_group.mean())\n",
    "#     wrf_temp_yearly.iloc[:, col].plot(ax=axes[col], label='WRF', linewidth=1)\n",
    "#     temp_yearly.iloc[:, col].plot(ax=axes[col], label='PRISM', linewidth=1)\n",
    "#     axes[col].set_title(year)\n",
    "#     axes[col].set_ylim([0, 30])\n",
    "fig.legend(loc='upper left', bbox_to_anchor=(0, 1.01), fancybox=True, ncol=5)\n",
    "# axes[0].set_ylabel('Runoff (mm/day)')\n",
    "# fig.suptitle('Fig. 2: WRF vs. PRISM/gauge air temperature')\n",
    "# plt.tight_layout(rect=[0, 0, 1, 0.99])"
   ]
  },
  {
   "cell_type": "code",
   "execution_count": 16,
   "metadata": {},
   "outputs": [
    {
     "data": {
      "application/vnd.jupyter.widget-view+json": {
       "model_id": "c9fff41db99740a79ed6a6d37bad75bc",
       "version_major": 2,
       "version_minor": 0
      },
      "text/plain": [
       "Canvas(toolbar=Toolbar(toolitems=[('Home', 'Reset original view', 'home', 'home'), ('Back', 'Back to previous …"
      ]
     },
     "metadata": {},
     "output_type": "display_data"
    }
   ],
   "source": [
    "years = runoff_obs_yearly.columns.get_level_values(1)\n",
    "fig, axes = plt.subplots(ncols=1, nrows=len(years), figsize=(6, 9))\n",
    "for col, year in enumerate(years):\n",
    "#     wrf_ppt2_yearly.iloc[:, col].plot(ax=axes[col], label='VIC-WRF', linewidth=1)\n",
    "    wrf_ppt_yearly.iloc[:, col].plot(ax=axes[col], label='WRF', linewidth=1)\n",
    "    precip_yearly.iloc[:, col].plot(ax=axes[col], label='PRISM/gauge', linewidth=1)\n",
    "    axes[col].set_title(year)\n",
    "    axes[col].set_ylim([0, 130])\n",
    "axes[0].legend(loc='upper left', bbox_to_anchor=(0, 1.3), fancybox=True, ncol=2)\n",
    "axes[0].set_ylabel('Runoff (mm/day)')\n",
    "fig.suptitle('Fig. 1: WRF vs. PRISM/gauge precipitation')\n",
    "plt.tight_layout(rect=[0, 0, 1, 0.99])"
   ]
  },
  {
   "cell_type": "markdown",
   "metadata": {},
   "source": [
    "## Exporting projected VIC-WRF forcings (2003 - 2099)"
   ]
  },
  {
   "cell_type": "code",
   "execution_count": null,
   "metadata": {},
   "outputs": [],
   "source": [
    "# # Projected climate variables\n",
    "# wrf_dir = config.data_path / 'precip' / 'VIC_WRF_EllsworthCr'\n",
    "# wrf_file = 'flux_46.40625_-123.90625'\n",
    "# wrf_cols = [\"YEAR\",\"MONTH\",\"DAY\",\"HOUR\",\"OUT_PREC\",\"OUT_PET_SHORT\",\n",
    "#             \"OUT_SWE\",\"OUT_EVAP\",\"OUT_RUNOFF\",\"OUT_BASEFLOW\",\n",
    "#             \"OUT_SOIL_MOIST0\", \"OUT_SOIL_MOIST1\",\"OUT_SOIL_MOIST2\"]\n",
    "# pnnl_hist = pd.read_csv(wrf_dir / 'pnnl_historical' / 'sim0' / wrf_file, \n",
    "#                         names=wrf_cols, delimiter='\\t', parse_dates={'DATE': ['YEAR', 'MONTH', 'DAY']},\n",
    "#                         index_col=0)"
   ]
  }
 ],
 "metadata": {
  "kernelspec": {
   "display_name": "tnc_velma",
   "language": "python",
   "name": "tnc_velma"
  },
  "language_info": {
   "codemirror_mode": {
    "name": "ipython",
    "version": 3
   },
   "file_extension": ".py",
   "mimetype": "text/x-python",
   "name": "python",
   "nbconvert_exporter": "python",
   "pygments_lexer": "ipython3",
   "version": "3.7.8"
  }
 },
 "nbformat": 4,
 "nbformat_minor": 4
}
