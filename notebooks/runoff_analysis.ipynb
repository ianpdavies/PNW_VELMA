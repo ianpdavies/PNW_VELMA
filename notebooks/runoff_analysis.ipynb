{
 "cells": [
  {
   "cell_type": "markdown",
   "metadata": {},
   "source": [
    "# VELMA simulated runoff"
   ]
  },
  {
   "cell_type": "code",
   "execution_count": 87,
   "metadata": {},
   "outputs": [],
   "source": [
    "%matplotlib widget\n",
    "\n",
    "import __init__\n",
    "import scripts.config as config\n",
    "import numpy as np\n",
    "import pandas as pd\n",
    "import tempfile\n",
    "import datetime\n",
    "import ipywidgets as widgets\n",
    "from ipywidgets import interact\n",
    "from natsort import natsorted\n",
    "import os\n",
    "from sklearn.metrics import mean_squared_error, r2_score\n",
    "from matplotlib.font_manager import FontProperties\n",
    "import seaborn as sns\n",
    "# import matplotlib as mpl\n",
    "import matplotlib.pyplot as plt\n",
    "import importlib"
   ]
  },
  {
   "cell_type": "code",
   "execution_count": 88,
   "metadata": {},
   "outputs": [],
   "source": [
    "# Plotting parameters\n",
    "\n",
    "XSMALL_SIZE = 6\n",
    "SMALL_SIZE = 7\n",
    "MEDIUM_SIZE = 9\n",
    "BIGGER_SIZE = 12\n",
    "\n",
    "plt.rc('font', size=SMALL_SIZE)          # controls default text sizes\n",
    "plt.rc('axes', titlesize=SMALL_SIZE)     # fontsize of the axes title\n",
    "plt.rc('axes', labelsize=SMALL_SIZE)    # fontsize of the x and y labels\n",
    "plt.rc('xtick', labelsize=SMALL_SIZE)    # fontsize of the tick labels\n",
    "plt.rc('ytick', labelsize=SMALL_SIZE)    # fontsize of the tick labels\n",
    "plt.rc('legend', fontsize=SMALL_SIZE)    # legend fontsize\n",
    "plt.rc('axes', titlesize=SMALL_SIZE)  # fontsize of the figure title\n",
    "plt.rcParams['figure.dpi'] = 140"
   ]
  },
  {
   "cell_type": "code",
   "execution_count": 93,
   "metadata": {},
   "outputs": [],
   "source": [
    "# Getting daily runoff results from simulations\n",
    "\n",
    "results_dir = config.velma_data.parents[1] / 'results'\n",
    "\n",
    "all_sims = natsorted(next(os.walk(results_dir))[1])\n",
    "\n",
    "sims = []\n",
    "runoff_sims = []\n",
    "sim_results = []\n",
    "for sim in all_sims:\n",
    "    sim_dir = results_dir / sim\n",
    "    files = os.listdir(sim_dir)\n",
    "    if 'AnnualHydrologyResults.csv' not in files:\n",
    "        continue\n",
    "    sims.append(sim)\n",
    "    velma_results = pd.read_csv(results_dir / sim / 'DailyResults.csv')\n",
    "    runoff_sim = velma_results['Runoff_All(mm/day)_Delineated_Average']\n",
    "    runoff_sims.append(runoff_sim)\n",
    "        \n",
    "# Format datetime of results\n",
    "jday_pad = velma_results['Day'].apply(lambda x: str(x).zfill(3))\n",
    "str_year = velma_results['Year'].apply(lambda x: str(x))\n",
    "velma_results['date'] = str_year + jday_pad\n",
    "rng = pd.to_datetime(velma_results['date'], format='%Y%j')\n",
    "\n",
    "runoff_sims_stack = np.column_stack(runoff_sims)\n",
    "runoff_sims_df = pd.DataFrame(data=runoff_sims_stack, columns=sims, index=rng)\n",
    "runoff_sims_df['doy'], runoff_sims_df['year'] = runoff_sims_df.index.dayofyear, runoff_sims_df.index.year\n",
    "\n",
    "# Get observed runoff\n",
    "runoff_obs = pd.read_csv(config.velma_data / 'runoff' / 'ellsworth_Q_2004_2007.csv', names=['runoff_obs'])\n",
    "runoff_obs.index = pd.date_range('01-01-2004', '12-31-2007')\n",
    "runoff_obs['doy'], runoff_obs['year'] = runoff_obs.index.dayofyear, runoff_obs.index.year"
   ]
  },
  {
   "cell_type": "code",
   "execution_count": 94,
   "metadata": {},
   "outputs": [],
   "source": [
    "# Convert runoff to pivot tables\n",
    "\n",
    "runoff_sim_yearly = pd.pivot_table(runoff_sims_df, index=['doy'], columns=['year'],\n",
    "                                   values=sims)\n",
    "\n",
    "runoff_obs_yearly = pd.pivot_table(runoff_obs, index=['doy'], columns=['year'],\n",
    "                                   values='runoff_obs')"
   ]
  },
  {
   "cell_type": "markdown",
   "metadata": {},
   "source": [
    "## Plotting"
   ]
  },
  {
   "cell_type": "code",
   "execution_count": 96,
   "metadata": {},
   "outputs": [
    {
     "data": {
      "application/vnd.jupyter.widget-view+json": {
       "model_id": "29c5ef0230b04b19a7d0cd7de0642c6a",
       "version_major": 2,
       "version_minor": 0
      },
      "text/plain": [
       "Canvas(toolbar=Toolbar(toolitems=[('Home', 'Reset original view', 'home', 'home'), ('Back', 'Back to previous …"
      ]
     },
     "metadata": {},
     "output_type": "display_data"
    }
   ],
   "source": [
    "# Plotting all simulations together\n",
    "\n",
    "years = runoff_obs_yearly.columns.get_level_values(0)\n",
    "fig, axes = plt.subplots(ncols=1, nrows=len(years), figsize=(6, 9))\n",
    "for i, year in enumerate(years):\n",
    "    runoff_obs_yearly.iloc[:, i].plot(ax=axes[i], label='Observed', linewidth=1, color='black')\n",
    "    axes[i].set_title(year)\n",
    "    axes[i].set_ylim([0, 80])\n",
    "    for j, sim in enumerate(sims):\n",
    "        col = (j * len(years)) + i\n",
    "        runoff_sim_yearly.iloc[:, col].plot(ax=axes[i], label=sim, linewidth=0.4)\n",
    "    leg = axes[0].legend(loc='upper left', bbox_to_anchor=(0, 2.5), fancybox=True, ncol=3)\n",
    "    for line in leg.get_lines():\n",
    "        line.set_linewidth(4.0)\n",
    "axes[0].set_ylabel('Runoff (mm/day)')\n",
    "plt.tight_layout()"
   ]
  },
  {
   "cell_type": "code",
   "execution_count": 99,
   "metadata": {},
   "outputs": [
    {
     "data": {
      "application/vnd.jupyter.widget-view+json": {
       "model_id": "744423f3ea1a4ca8b378ebbd45678c66",
       "version_major": 2,
       "version_minor": 0
      },
      "text/plain": [
       "interactive(children=(SelectMultiple(description='Simulations', index=(0,), options=('ellsworth_baseline_04_07…"
      ]
     },
     "metadata": {},
     "output_type": "display_data"
    }
   ],
   "source": [
    "# Interactively selection which sims to plot\n",
    "\n",
    "# Plotting a subset of simulations\n",
    "\n",
    "def plot_selected_sims(runoff_sim_yearly_selected, selected):    \n",
    "    years = runoff_obs_yearly.columns.get_level_values(0)\n",
    "    fig, axes = plt.subplots(ncols=1, nrows=len(years), figsize=(6, 9))\n",
    "    for i, year in enumerate(years):\n",
    "        runoff_obs_yearly.iloc[:, i].plot(ax=axes[i], label='Observed', linewidth=1, color='black')\n",
    "        axes[i].set_title(year)\n",
    "        axes[i].set_ylim([0, 80])\n",
    "        for j, sim in enumerate(selected):\n",
    "            col = (j * len(years)) + i\n",
    "            runoff_sim_yearly_selected.iloc[:, col].plot(ax=axes[i], label=sim, linewidth=0.6)\n",
    "    leg = axes[0].legend(loc='upper left', bbox_to_anchor=(0, 1.3), fancybox=True, ncol=3)\n",
    "    for line in leg.get_lines():\n",
    "        line.set_linewidth(4.0)\n",
    "    axes[0].set_ylabel('Runoff (mm/day)')\n",
    "    plt.tight_layout()\n",
    "\n",
    "\n",
    "sel_mul = widgets.SelectMultiple(description=\"Simulations\", options=sims, value=[sims[0]], disabled=False)\n",
    "@interact(selected=sel_mul)\n",
    "def interactive_plot(selected):\n",
    "    tuples = pd.MultiIndex.from_product([selected, years])\n",
    "    runoff_sim_yearly_sub = runoff_sim_yearly[tuples]\n",
    "    plot_selected_sims(runoff_sim_yearly_sub, selected)\n",
    "\n"
   ]
  },
  {
   "cell_type": "code",
   "execution_count": 98,
   "metadata": {},
   "outputs": [],
   "source": [
    "plt.close('all')"
   ]
  },
  {
   "cell_type": "code",
   "execution_count": 64,
   "metadata": {},
   "outputs": [
    {
     "data": {
      "application/vnd.jupyter.widget-view+json": {
       "model_id": "e9624dea9027433eaac20187bf1ba92e",
       "version_major": 2,
       "version_minor": 0
      },
      "text/plain": [
       "Canvas(toolbar=Toolbar(toolitems=[('Home', 'Reset original view', 'home', 'home'), ('Back', 'Back to previous …"
      ]
     },
     "metadata": {},
     "output_type": "display_data"
    }
   ],
   "source": [
    "# Plotting a subset of simulations manually\n",
    "\n",
    "sims_sub = ['ellsworth_baseline_04_07_9',\n",
    "            'ellsworth_baseline_04_07_10',\n",
    "            'ellsworth_baseline_04_07_11']\n",
    "\n",
    "tuples = pd.MultiIndex.from_product([sims_sub, years])\n",
    "\n",
    "runoff_sim_yearly_sub = runoff_sim_yearly[tuples]\n",
    "\n",
    "years = runoff_obs_yearly.columns.get_level_values(0)\n",
    "fig, axes = plt.subplots(ncols=1, nrows=len(years), figsize=(6, 9))\n",
    "for i, year in enumerate(years):\n",
    "    runoff_obs_yearly.iloc[:, i].plot(ax=axes[i], label='Observed', linewidth=1, color='black')\n",
    "    axes[i].set_title(year)\n",
    "    axes[i].set_ylim([0, 80])\n",
    "    for j, sim in enumerate(sims_sub):\n",
    "        col = (j * len(years)) + i\n",
    "        runoff_sim_yearly_sub.iloc[:, col].plot(ax=axes[i], label=sim, linewidth=0.4)\n",
    "axes[0].legend(loc='upper left', bbox_to_anchor=(0, 2.1), fancybox=True, ncol=2)\n",
    "axes[0].set_ylabel('Runoff (mm/day)')\n",
    "plt.tight_layout()"
   ]
  }
 ],
 "metadata": {
  "kernelspec": {
   "display_name": "tnc_velma",
   "language": "python",
   "name": "tnc_velma"
  },
  "language_info": {
   "codemirror_mode": {
    "name": "ipython",
    "version": 3
   },
   "file_extension": ".py",
   "mimetype": "text/x-python",
   "name": "python",
   "nbconvert_exporter": "python",
   "pygments_lexer": "ipython3",
   "version": "3.7.8"
  }
 },
 "nbformat": 4,
 "nbformat_minor": 4
}
