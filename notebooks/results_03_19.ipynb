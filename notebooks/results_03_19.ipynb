{
 "cells": [
  {
   "cell_type": "markdown",
   "metadata": {},
   "source": [
    "# Comparing simulation results"
   ]
  },
  {
   "cell_type": "code",
   "execution_count": 1,
   "metadata": {},
   "outputs": [],
   "source": [
    "%matplotlib widget\n",
    "\n",
    "import __init__\n",
    "import scripts.config as config\n",
    "import numpy as np\n",
    "import pandas as pd\n",
    "import tempfile\n",
    "import datetime\n",
    "import ipywidgets as widgets\n",
    "from ipywidgets import interact\n",
    "from natsort import natsorted\n",
    "import os\n",
    "from sklearn.metrics import mean_squared_error, r2_score\n",
    "from matplotlib.font_manager import FontProperties\n",
    "import seaborn as sns\n",
    "# import matplotlib as mpl\n",
    "import matplotlib.pyplot as plt\n",
    "import importlib\n",
    "from functools import reduce"
   ]
  },
  {
   "cell_type": "code",
   "execution_count": 2,
   "metadata": {},
   "outputs": [],
   "source": [
    "results_dir = config.velma_data.parents[1] / 'results'\n",
    "sims = ['ellsworth_baseline_03_19_2', 'ellsworth_ind40_03_19_2']\n",
    "sim_start = pd.to_datetime('01-01-2003')\n",
    "sim_end = pd.to_datetime('12-31-2019')\n",
    "sim_range = pd.date_range(sim_start, sim_end)\n",
    "\n",
    "dailies = []\n",
    "annuals = []\n",
    "for sim in sims:\n",
    "    sim_dir = results_dir / sim\n",
    "    files = os.listdir(sim_dir)\n",
    "    \n",
    "    daily_results = pd.read_csv(sim_dir / 'DailyResults.csv')\n",
    "    \n",
    "    # Format datetime\n",
    "    jday_pad = daily_results['Day'].apply(lambda x: str(x).zfill(3))\n",
    "    str_year = daily_results['Year'].apply(lambda x: str(x))\n",
    "    rng = pd.to_datetime((str_year + jday_pad), format='%Y%j')\n",
    "    daily_results.index = rng\n",
    "    dailies.append(daily_results)\n",
    "    \n",
    "    annual_results = pd.read_csv(sim_dir / 'AnnualResults.csv')\n",
    "    annuals.append(annual_results)\n",
    "\n"
   ]
  },
  {
   "cell_type": "markdown",
   "metadata": {},
   "source": [
    "### Runoff"
   ]
  },
  {
   "cell_type": "code",
   "execution_count": 9,
   "metadata": {},
   "outputs": [
    {
     "data": {
      "application/vnd.jupyter.widget-view+json": {
       "model_id": "e867ce83889744d590deb1ece43e2326",
       "version_major": 2,
       "version_minor": 0
      },
      "text/plain": [
       "Canvas(toolbar=Toolbar(toolitems=[('Home', 'Reset original view', 'home', 'home'), ('Back', 'Back to previous …"
      ]
     },
     "metadata": {},
     "output_type": "display_data"
    }
   ],
   "source": [
    "# Daily runoff time series (all years together)\n",
    "\n",
    "# Check that all dfs have same number of columns\n",
    "all([len(dailies[0].columns.intersection(df.columns)) \n",
    "      == dailies[0].shape[1] for df in dailies])\n",
    "\n",
    "# colors = sns.color_palette('tab10', len(sims))\n",
    "\n",
    "fig, ax = plt.subplots(ncols=1, nrows=1, figsize=(9, 5))\n",
    "\n",
    "for i, sim in enumerate(sims):\n",
    "    ax.set_ylim([0, 70])\n",
    "    dailies[i].loc[:, 'Runoff_All(mm/day)_Delineated_Average'].plot(ax=ax, label=sim, linewidth=1)\n",
    "leg = ax.legend(loc='upper left', fancybox=True, ncol=3)\n",
    "for line in leg.get_lines():\n",
    "    line.set_linewidth(4.0)\n",
    "ax.set_ylabel('Runoff (mm/day)')\n",
    "plt.suptitle('Daily runoff')\n",
    "plt.tight_layout()"
   ]
  },
  {
   "cell_type": "code",
   "execution_count": 10,
   "metadata": {},
   "outputs": [],
   "source": [
    "# Daily runoff by year\n",
    "\n",
    "runoff_sims = pd.DataFrame()\n",
    "for i, df in enumerate(dailies):\n",
    "    runoff_sims[i] = df.loc[:, 'Runoff_All(mm/day)_Delineated_Average']\n",
    "\n",
    "runoff_sims.columns = sims\n",
    "runoff_sims['doy'], runoff_sims['year'] = runoff_sims.index.dayofyear, runoff_sims.index.year\n",
    "runoff_sim_yearly = pd.pivot_table(runoff_sims, index=['doy'], columns=['year'], values=sims, dropna=False)\n",
    "# runoff_sims_df.columns = sims\n",
    "# runoff_sims_df = pd.DataFrame(data=runoff_sims_stack, columns=sims, index=rng)\n",
    "# runoff_sims_df['doy'], runoff_sims_df['year'] = runoff_sims_df.index.dayofyear, runoff_sims_df.index.year\n"
   ]
  },
  {
   "cell_type": "code",
   "execution_count": 11,
   "metadata": {},
   "outputs": [
    {
     "data": {
      "application/vnd.jupyter.widget-view+json": {
       "model_id": "7fc3bc56660f43cba7cf4e024ba49e0d",
       "version_major": 2,
       "version_minor": 0
      },
      "text/plain": [
       "Canvas(toolbar=Toolbar(toolitems=[('Home', 'Reset original view', 'home', 'home'), ('Back', 'Back to previous …"
      ]
     },
     "metadata": {},
     "output_type": "display_data"
    },
    {
     "data": {
      "text/plain": [
       "Text(0, 0.5, 'Runoff (mm/day)')"
      ]
     },
     "execution_count": 11,
     "metadata": {},
     "output_type": "execute_result"
    }
   ],
   "source": [
    "plt.close('all')\n",
    "years = runoff_sim_yearly.columns.get_level_values(1).unique()\n",
    "fig, axes = plt.subplots(ncols=1, nrows=len(years), figsize=(8, 22))\n",
    "for i, year in enumerate(years):\n",
    "    axes[i].set_title(year)\n",
    "    axes[i].set_ylim([0, 80])\n",
    "    for j, sim in enumerate(sims):\n",
    "        tuples = pd.MultiIndex.from_product([[sim], [year]])\n",
    "        runoff_sim_yearly[tuples].plot(ax=axes[i], label=sim, linewidth=1)\n",
    "    axes[i].get_legend().remove()\n",
    "    leg = axes[0].legend(loc='upper left', bbox_to_anchor=(0, 3), fancybox=True, ncol=3)\n",
    "    for line in leg.get_lines():\n",
    "        line.set_linewidth(4.0)\n",
    "axes[0].set_ylabel('Runoff (mm/day)')\n",
    "# plt.tight_layout()"
   ]
  },
  {
   "cell_type": "code",
   "execution_count": 6,
   "metadata": {},
   "outputs": [
    {
     "data": {
      "application/vnd.jupyter.widget-view+json": {
       "model_id": "2eed756eeed54fc18c786b96646b8b86",
       "version_major": 2,
       "version_minor": 0
      },
      "text/plain": [
       "interactive(children=(SelectMultiple(description='Simulations', index=(0, 1), options=(2003, 2004, 2005, 2006,…"
      ]
     },
     "metadata": {},
     "output_type": "display_data"
    }
   ],
   "source": [
    "# Plot specific years interactively\n",
    "\n",
    "plt.close('all')\n",
    "years = runoff_sim_yearly.columns.get_level_values(1).unique()\n",
    "def plot_selected_sims(selected):    \n",
    "    fig, axes = plt.subplots(ncols=1, nrows=len(selected), figsize=(8, len(selected)*3), squeeze=False)\n",
    "    for i, year in enumerate(selected):\n",
    "        axes[i, 0].set_title(year)\n",
    "#         axes[i, 0].set_ylim([0, 80])\n",
    "        for j, sim in enumerate(sims):\n",
    "            tuples = pd.MultiIndex.from_product([[sim], [year]])\n",
    "            runoff_sim_yearly[tuples].plot(ax=axes[i, 0], label=sim, linewidth=1)\n",
    "        axes[i, 0].get_legend().remove()\n",
    "    leg = axes[0, 0].legend(loc='upper left', bbox_to_anchor=(0, 1.5), fancybox=True, ncol=3)\n",
    "    for line in leg.get_lines():\n",
    "        line.set_linewidth(4.0)\n",
    "    axes[0, 0].set_ylabel('Runoff (mm/day)')\n",
    "    plt.suptitle('Daily runoff')\n",
    "    plt.tight_layout()\n",
    "\n",
    "sel_mul = widgets.SelectMultiple(description=\"Simulations\", options=years, value=[years[0], years[1]], disabled=False)\n",
    "@interact(selected=sel_mul)\n",
    "def interactive_plot(selected):\n",
    "    tuples = pd.MultiIndex.from_product([selected, years])\n",
    "#     runoff_sim_yearly_sub = runoff_sim_yearly[tuples]\n",
    "    plot_selected_sims(selected)"
   ]
  },
  {
   "cell_type": "code",
   "execution_count": 7,
   "metadata": {},
   "outputs": [
    {
     "data": {
      "application/vnd.jupyter.widget-view+json": {
       "model_id": "5f6709f1072c4ab0821934a0237ca8cc",
       "version_major": 2,
       "version_minor": 0
      },
      "text/plain": [
       "Canvas(toolbar=Toolbar(toolitems=[('Home', 'Reset original view', 'home', 'home'), ('Back', 'Back to previous …"
      ]
     },
     "metadata": {},
     "output_type": "display_data"
    },
    {
     "data": {
      "text/plain": [
       "<AxesSubplot:>"
      ]
     },
     "execution_count": 7,
     "metadata": {},
     "output_type": "execute_result"
    }
   ],
   "source": [
    "# Sum of daily runoff\n",
    "\n",
    "sums = pd.DataFrame(runoff_sims.drop(['doy', 'year'], axis=1).sum(axis=0))\n",
    "sums.plot.bar(rot=0)"
   ]
  },
  {
   "cell_type": "code",
   "execution_count": null,
   "metadata": {},
   "outputs": [],
   "source": [
    "# Annual aveage, min runoff\n",
    "plt.close('all')\n",
    "\n",
    "\n",
    "runoff_min_annual = pd.DataFrame(columns=sims, index=years)\n",
    "\n",
    "runoff_min_jday_annual = runoff_min_annual.copy()\n",
    "runoff_max_annual = runoff_min_annual.copy()\n",
    "runoff_avg_annual = runoff_min_annual.copy()\n",
    "for i, df in enumerate(annuals):\n",
    "    runoff_min_annual[i] = df[df['Annual_Result'] == 'MIN_VALUE'].loc[:, 'Runoff_All(mm/day)_Delineated_Average']\n",
    "    runoff_min_jday_annual[i] = df[df['Annual_Result'] == 'MIN_VALUE_JDAY'].loc[:, 'Runoff_All(mm/day)_Delineated_Average']\n",
    "    runoff_max_annual[i] = df[df['Annual_Result'] == 'MAX_VALUE'].loc[:, 'Runoff_All(mm/day)_Delineated_Average']\n",
    "    runoff_avg_annual[i] = df[df['Annual_Result'] == 'ANNUAL_AVERAGE'].loc[:, 'Runoff_All(mm/day)_Delineated_Average']\n",
    "\n",
    "\n",
    "# fig, axes = plt.subplots(ncols=1, nrows=4, figsize=(8, 9))\n",
    "# runoff_avg_annual.plot(ax=axes[0])\n",
    "# runoff_max_annual.plot(ax=axes[1])\n",
    "# runoff_min_annual.plot(ax=axes[2])\n",
    "# runoff_min_jday_annual.plot(ax=axes[3])\n",
    "# leg = ax.legend(loc='upper left', bbox_to_anchor=(0, 1.2), fancybox=True, ncol=3)\n",
    "# for line in leg.get_lines():\n",
    "#     line.set_linewidth(4.0)\n",
    "# ax.set_ylabel('Runoff (mm/day)')\n",
    "# plt.suptitle('Annual average runoff')\n",
    "# plt.tight_layout()"
   ]
  },
  {
   "cell_type": "code",
   "execution_count": null,
   "metadata": {},
   "outputs": [],
   "source": [
    "# Annual aveage runoff\n",
    "plt.close('all')\n",
    "annual_metric = pd.DataFrame()\n",
    "for i, df in enumerate(annuals):\n",
    "    annual_metric[i] = df[df['Annual_Result'] == 'ANNUAL_AVERAGE'].loc[:, 'Runoff_All(mm/day)_Delineated_Average']\n",
    "\n",
    "annual_metric.columns = sims\n",
    "annual_metric.index = years\n",
    "\n",
    "fig, ax = plt.subplots(ncols=1, nrows=1, figsize=(8, 4))\n",
    "annual_metric.plot(ax=ax)\n",
    "leg = ax.legend(loc='upper left', bbox_to_anchor=(0, 1.2), fancybox=True, ncol=3)\n",
    "for line in leg.get_lines():\n",
    "    line.set_linewidth(4.0)\n",
    "ax.set_ylabel('Runoff (mm/day)')\n",
    "plt.suptitle('Annual average runoff')\n",
    "plt.tight_layout()"
   ]
  },
  {
   "cell_type": "code",
   "execution_count": null,
   "metadata": {},
   "outputs": [],
   "source": [
    "# Annual aveage runoff\n",
    "plt.close('all')\n",
    "annual_metric = pd.DataFrame()\n",
    "for i, df in enumerate(annuals):\n",
    "    annual_metric[i] = df[df['Annual_Result'] == 'MIN_VALUE'].loc[:, 'Runoff_All(mm/day)_Delineated_Average']\n",
    "\n",
    "annual_metric.columns = sims\n",
    "annual_metric.index = years\n",
    "\n",
    "fig, ax = plt.subplots(ncols=1, nrows=1, figsize=(8, 4))\n",
    "annual_metric.plot(ax=ax)\n",
    "leg = ax.legend(loc='upper left', bbox_to_anchor=(0, 1.2), fancybox=True, ncol=3)\n",
    "for line in leg.get_lines():\n",
    "    line.set_linewidth(4.0)\n",
    "ax.set_ylabel('Runoff (mm/day)')\n",
    "plt.suptitle('Annual minimum runoff')\n",
    "plt.tight_layout()"
   ]
  },
  {
   "cell_type": "code",
   "execution_count": null,
   "metadata": {},
   "outputs": [],
   "source": [
    "plt.close('all')\n",
    "annual_metric = pd.DataFrame()\n",
    "for i, df in enumerate(annuals):\n",
    "    annual_metric[i] = df[df['Annual_Result'] == 'MIN_VALUE_JDAY'].loc[:, 'Runoff_All(mm/day)_Delineated_Average']\n",
    "\n",
    "annual_metric.columns = sims\n",
    "annual_metric.index = years\n",
    "\n",
    "fig, ax = plt.subplots(ncols=1, nrows=1, figsize=(8, 4))\n",
    "annual_metric.plot(ax=ax)\n",
    "leg = ax.legend(loc='upper left', bbox_to_anchor=(0, 1.2), fancybox=True, ncol=3)\n",
    "for line in leg.get_lines():\n",
    "    line.set_linewidth(4.0)\n",
    "ax.set_ylabel('Runoff (mm/day)')\n",
    "plt.suptitle('Annual minimum runoff Jday')\n",
    "plt.tight_layout()"
   ]
  },
  {
   "cell_type": "code",
   "execution_count": null,
   "metadata": {},
   "outputs": [],
   "source": [
    "plt.close('all')\n",
    "annual_metric = pd.DataFrame()\n",
    "for i, df in enumerate(annuals):\n",
    "    annual_metric[i] = df[df['Annual_Result'] == 'MAX_VALUE'].loc[:, 'Runoff_All(mm/day)_Delineated_Average']\n",
    "\n",
    "annual_metric.columns = sims\n",
    "annual_metric.index = years\n",
    "\n",
    "fig, ax = plt.subplots(ncols=1, nrows=1, figsize=(8, 4))\n",
    "annual_metric.plot(ax=ax)\n",
    "leg = ax.legend(loc='upper left', bbox_to_anchor=(0, 1.2), fancybox=True, ncol=3)\n",
    "for line in leg.get_lines():\n",
    "    line.set_linewidth(4.0)\n",
    "ax.set_ylabel('Runoff (mm/day)')\n",
    "plt.suptitle('Annual max runoff')\n",
    "plt.tight_layout()"
   ]
  },
  {
   "cell_type": "code",
   "execution_count": null,
   "metadata": {},
   "outputs": [],
   "source": []
  }
 ],
 "metadata": {
  "kernelspec": {
   "display_name": "tnc_velma",
   "language": "python",
   "name": "tnc_velma"
  },
  "language_info": {
   "codemirror_mode": {
    "name": "ipython",
    "version": 3
   },
   "file_extension": ".py",
   "mimetype": "text/x-python",
   "name": "python",
   "nbconvert_exporter": "python",
   "pygments_lexer": "ipython3",
   "version": "3.7.8"
  }
 },
 "nbformat": 4,
 "nbformat_minor": 4
}
