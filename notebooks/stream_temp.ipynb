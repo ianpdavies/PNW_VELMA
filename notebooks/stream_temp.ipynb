{
 "cells": [
  {
   "cell_type": "markdown",
   "metadata": {},
   "source": [
    "# Stream temperature"
   ]
  },
  {
   "cell_type": "code",
   "execution_count": 1,
   "metadata": {},
   "outputs": [],
   "source": [
    "%matplotlib widget\n",
    "\n",
    "import __init__\n",
    "import scripts.config as config\n",
    "import numpy as np\n",
    "import pandas as pd\n",
    "import tempfile\n",
    "import datetime\n",
    "from sklearn.svm import SVR\n",
    "from natsort import natsorted\n",
    "import geopandas as gpd\n",
    "import statsmodels.api as sm\n",
    "from sklearn.model_selection import train_test_split\n",
    "from sklearn.metrics import mean_squared_error, r2_score, mean_absolute_error\n",
    "from matplotlib.font_manager import FontProperties\n",
    "import seaborn as sns\n",
    "# import matplotlib as mpl\n",
    "import matplotlib.pyplot as plt\n",
    "import importlib\n",
    "import HydroErr as he\n",
    "import os"
   ]
  },
  {
   "cell_type": "code",
   "execution_count": 2,
   "metadata": {},
   "outputs": [],
   "source": [
    "# Plotting parameters\n",
    "\n",
    "XSMALL_SIZE = 6\n",
    "SMALL_SIZE = 7\n",
    "MEDIUM_SIZE = 9\n",
    "BIGGER_SIZE = 12\n",
    "\n",
    "plt.rc('font', size=SMALL_SIZE)          # controls default text sizes\n",
    "plt.rc('axes', titlesize=SMALL_SIZE)     # fontsize of the axes title\n",
    "plt.rc('axes', labelsize=SMALL_SIZE)    # fontsize of the x and y labels\n",
    "plt.rc('xtick', labelsize=SMALL_SIZE)    # fontsize of the tick labels\n",
    "plt.rc('ytick', labelsize=SMALL_SIZE)    # fontsize of the tick labels\n",
    "plt.rc('legend', fontsize=SMALL_SIZE)    # legend fontsize\n",
    "plt.rc('axes', titlesize=SMALL_SIZE)  # fontsize of the figure title\n",
    "plt.rcParams['figure.dpi'] = 140"
   ]
  },
  {
   "cell_type": "code",
   "execution_count": 3,
   "metadata": {},
   "outputs": [],
   "source": [
    "# Import and format observed data (2003-2007 runoff)\n",
    "\n",
    "input_dir = config.velma_data\n",
    "results_dir = config.data_path.parents[0] / 'results' / 'calibration' / 'ellsworth_baseline_03_07_21'\n",
    "\n",
    "runoff_start = pd.to_datetime('01-01-2003')\n",
    "runoff_end = pd.to_datetime('12-31-2007')\n",
    "nse_start = pd.to_datetime('01-01-2004')\n",
    "nse_end = pd.to_datetime('12-31-2007')\n",
    "\n",
    "start = pd.to_datetime('01-01-2004')\n",
    "end = pd.to_datetime('12-31-2007')\n",
    "\n",
    "# Simulated runoff\n",
    "velma_results = pd.read_csv(results_dir / 'DailyResults.csv')\n",
    "# Format datetime of results\n",
    "jday_pad = velma_results['Day'].apply(lambda x: str(x).zfill(3))\n",
    "str_year = velma_results['Year'].apply(lambda x: str(x))\n",
    "velma_results['year_jday'] = str_year + jday_pad\n",
    "velma_results.index = pd.to_datetime(velma_results['year_jday'], format='%Y%j')\n",
    "velma_results = velma_results[(velma_results.index >= start) & (velma_results.index <= end)]\n",
    "    \n",
    "# Stream temperature observations\n",
    "streamtemp_path = config.data_path / 'hydrology' / 'ellsworth' / 'wa_ecy_gauge' / 'stream_temp' / 'ells_streamtemp_2003_2008.csv'\n",
    "streamtemp_obs = pd.read_csv(streamtemp_path, usecols=['date', 'water_temp'], parse_dates=True, index_col=0)\n",
    "streamtemp_obs['doy'], streamtemp_obs['year'] = streamtemp_obs.index.dayofyear, streamtemp_obs.index.year\n",
    "streamtemp_obs = streamtemp_obs[(streamtemp_obs.index >= start) & (streamtemp_obs.index <= end)]\n",
    "\n",
    "# Stream temperature quality codes\n",
    "streamtemp_path = config.data_path  / 'hydrology' / 'ellsworth' / 'wa_ecy_gauge' / 'stream_temp' / 'ells_streamtemp_2003_2008.csv'\n",
    "stream_temp_quality = pd.read_csv(streamtemp_path, usecols=['date', 'quality'], parse_dates=True, index_col=0)\n",
    "stream_temp_quality['doy'], stream_temp_quality['year'] = stream_temp_quality.index.dayofyear, stream_temp_quality.index.year\n",
    "stream_temp_quality = stream_temp_quality[(stream_temp_quality.index >= start) & (stream_temp_quality.index <= end)]\n",
    "\n",
    "# Runoff observations\n",
    "runoff_path = input_dir / 'runoff' / 'ellsworth_Q_2003_2007_dummy.csv'\n",
    "runoff_obs = pd.read_csv(runoff_path, names=['runoff_obs'])\n",
    "runoff_obs.index = pd.date_range(runoff_start, runoff_end)\n",
    "runoff_obs['doy'], runoff_obs['year'] = runoff_obs.index.dayofyear, runoff_obs.index.year\n",
    "runoff_obs = runoff_obs[(runoff_obs.index >= start) & (runoff_obs.index <= end)]\n",
    "\n",
    "# Runoff quality codes\n",
    "flow_path = config.streamflow\n",
    "quality = pd.read_csv(flow_path, usecols=['Date', 'Quality'], parse_dates=True, index_col=0)\n",
    "quality = quality[(quality.index >= start) & (quality.index <= end)]\n",
    "\n",
    "# Precipitation\n",
    "precip_path = input_dir / 'precip' / 'PRISM_gauge_avg_ppt_2003_2019.csv'\n",
    "forcing_start = pd.to_datetime('01-01-2003')\n",
    "forcing_end = pd.to_datetime('12-31-2019')                     \n",
    "precip = pd.read_csv(precip_path, names=['precip'])\n",
    "precip.index = pd.date_range(forcing_start, forcing_end)\n",
    "precip['doy'], precip['year'] = precip.index.dayofyear, precip.index.year\n",
    "precip = precip[(precip.index >= start) & (precip.index <= end)]\n",
    "\n",
    "# Air temperature\n",
    "temp_path = input_dir / 'temp' / 'ellsworth_temp_2003_2019.csv'\n",
    "temp = pd.read_csv(temp_path, names=['temp'])\n",
    "temp.index = pd.date_range(forcing_start, forcing_end)\n",
    "temp['doy'], temp['year'] = temp.index.dayofyear, temp.index.year\n",
    "temp = temp[(temp.index >= start) & (temp.index <= end)]"
   ]
  },
  {
   "cell_type": "code",
   "execution_count": 4,
   "metadata": {},
   "outputs": [],
   "source": [
    "# Get stream temperature from cell writer files\n",
    "\n",
    "# Get paths\n",
    "cell_paths = []\n",
    "for file in os.listdir(results_dir):\n",
    "    if file.startswith('Cell_'):\n",
    "        cell_paths.append(file)\n",
    "\n",
    "nodes = []\n",
    "for path in cell_paths:\n",
    "    nodes.append(path.split('_')[-1])\n",
    "\n",
    "cell_paths_sorted = [x for _,x in natsorted(zip(nodes,cell_paths))]\n",
    "\n",
    "cell_results = []\n",
    "for path in cell_paths_sorted:\n",
    "    cell_result = pd.read_csv(results_dir / path)\n",
    "    jday_pad = cell_result['Jday'].apply(lambda x: str(x).zfill(3))\n",
    "    str_year = cell_result['Year'].apply(lambda x: str(x))\n",
    "    cell_result['date'] = str_year + jday_pad\n",
    "    rng = pd.to_datetime(cell_result['date'], format='%Y%j')\n",
    "    cell_result.index = rng\n",
    "    cell_result = cell_result[(cell_result.index >= start) & (cell_result.index <= end)]\n",
    "    cell_results.append(cell_result)\n",
    "\n",
    "# coords = pd.read_csv(results_dir.parents[0] / 'cell_writer_nodes_coords.txt', delimiter=',')"
   ]
  },
  {
   "cell_type": "code",
   "execution_count": 5,
   "metadata": {},
   "outputs": [],
   "source": [
    "# Convert to pivot tables\n",
    "\n",
    "cell_pivots = []\n",
    "for df in cell_results:\n",
    "    piv = pd.pivot_table(df, index=['Jday'], columns=['Year'], \n",
    "                         values='Water_Surface_Temperature(degrees_C)', dropna=False)\n",
    "    cell_pivots.append(piv)\n",
    "\n",
    "streamtemp_obs_yearly = pd.pivot_table(streamtemp_obs, index=['doy'], columns=['year'],\n",
    "                                   values='water_temp', dropna=False)\n",
    "\n",
    "runoff_sim_yearly = pd.pivot_table(velma_results, index=['Day'], columns=['Year'],\n",
    "                                   values='Runoff_All(mm/day)_Delineated_Average', dropna=False)\n",
    "\n",
    "runoff_obs_yearly = pd.pivot_table(runoff_obs, index=['doy'], columns=['year'],\n",
    "                                   values='runoff_obs', dropna=False)\n",
    "\n",
    "streamtemp_sim_yearly = cell_pivots[0] "
   ]
  },
  {
   "cell_type": "markdown",
   "metadata": {},
   "source": [
    "## Plotting"
   ]
  },
  {
   "cell_type": "code",
   "execution_count": 6,
   "metadata": {},
   "outputs": [
    {
     "data": {
      "application/vnd.jupyter.widget-view+json": {
       "model_id": "562c176fdf33451c8ba8afe414929e8d",
       "version_major": 2,
       "version_minor": 0
      },
      "text/plain": [
       "Canvas(toolbar=Toolbar(toolitems=[('Home', 'Reset original view', 'home', 'home'), ('Back', 'Back to previous …"
      ]
     },
     "metadata": {},
     "output_type": "display_data"
    }
   ],
   "source": [
    "# Observed vs. simulated stream temp for gauge\n",
    "years = streamtemp_obs_yearly.columns.get_level_values(0)\n",
    "fig, axes = plt.subplots(ncols=1, nrows=len(years), figsize=(6, 9))\n",
    "for col, year in enumerate(years):\n",
    "    streamtemp_obs_yearly.iloc[:, col].plot(ax=axes[col], label='Observed', linewidth=1)\n",
    "    streamtemp_sim_yearly.iloc[:, col].plot(ax=axes[col], label='Simulated', linewidth=1)\n",
    "    axes[col].set_title(year)\n",
    "    axes[col].set_ylim([0, 20])\n",
    "axes[0].legend(loc='upper left', bbox_to_anchor=(0, 1.3), fancybox=True, ncol=2)\n",
    "axes[0].set_ylabel('Stream Temperature (C)')\n",
    "plt.tight_layout()"
   ]
  },
  {
   "cell_type": "markdown",
   "metadata": {},
   "source": [
    "### Comparing Penumbra vs. Standard VELMA stream temperature estimates"
   ]
  },
  {
   "cell_type": "code",
   "execution_count": 7,
   "metadata": {},
   "outputs": [],
   "source": [
    "# # Get stream temperature from cell writer files\n",
    "\n",
    "# # Get paths\n",
    "# cell_paths_2 = []\n",
    "# for file in os.listdir(results_dir.parents[0] / 'ellsworth_baseline_03_07_22'):\n",
    "#     if file.startswith('Cell_'):\n",
    "#         cell_paths_2.append(file)\n",
    "\n",
    "# nodes_2 = []\n",
    "# for path in cell_paths_2:\n",
    "#     nodes_2.append(path.split('_')[-1])\n",
    "\n",
    "# cell_paths_sorted_2 = [x for _,x in natsorted(zip(nodes, cell_paths))]\n",
    "\n",
    "# cell_results_2 = []\n",
    "# for path in cell_paths_sorted_2:\n",
    "#     cell_result = pd.read_csv(results_dir.parents[0] / 'ellsworth_baseline_03_07_21' / path)\n",
    "#     jday_pad = cell_result['Jday'].apply(lambda x: str(x).zfill(3))\n",
    "#     str_year = cell_result['Year'].apply(lambda x: str(x))\n",
    "#     cell_result['date'] = str_year + jday_pad\n",
    "#     rng = pd.to_datetime(cell_result['date'], format='%Y%j')\n",
    "#     cell_result.index = rng\n",
    "#     cell_result = cell_result[(cell_result.index >= start) & (cell_result.index <= end)]\n",
    "#     cell_results_2.append(cell_result)\n",
    "\n",
    "# # Convert to pivot tables\n",
    "# cell_pivots_2 = []\n",
    "# for df in cell_results_2:\n",
    "#     piv = pd.pivot_table(df, index=['Jday'], columns=['Year'], \n",
    "#                          values='Water_Surface_Temperature(degrees_C)', dropna=False)\n",
    "#     cell_pivots_2.append(piv)\n",
    "\n",
    "# streamtemp1_sim_yearly_nopenumbra = cell_pivots_2[0]"
   ]
  },
  {
   "cell_type": "code",
   "execution_count": 8,
   "metadata": {},
   "outputs": [],
   "source": [
    "# # Observed vs. simulated stream temp for gauge, penumbra vs no penumbra\n",
    "# plt.close('all')\n",
    "# years = streamtemp_obs_yearly.columns.get_level_values(0)\n",
    "# years = [2004]\n",
    "# fig, axes = plt.subplots(ncols=1, nrows=len(years), figsize=(6, 3))\n",
    "# for col, year in enumerate(years):\n",
    "#     streamtemp_obs_yearly.iloc[:, col].plot(ax=axes, label='Observed', linewidth=1)\n",
    "#     streamtemp1_sim_yearly.iloc[:, col].plot(ax=axes, label='Simulated (Penumbra)', linewidth=1)\n",
    "#     streamtemp1_sim_yearly_nopenumbra.iloc[:, col].plot(ax=axes, label='Simulated (Standard VELMA)', linewidth=1)\n",
    "#     axes.set_title(year)\n",
    "#     axes.set_ylim([0, 20])\n",
    "# axes.legend(loc='upper left', bbox_to_anchor=(0, 1.3), fancybox=True, ncol=2)\n",
    "# axes.set_ylabel('Stream Temperature (C)')\n",
    "# plt.tight_layout()"
   ]
  },
  {
   "cell_type": "markdown",
   "metadata": {},
   "source": [
    "## Metrics"
   ]
  },
  {
   "cell_type": "code",
   "execution_count": 9,
   "metadata": {},
   "outputs": [
    {
     "data": {
      "text/plain": [
       "'RMSE: '"
      ]
     },
     "metadata": {},
     "output_type": "display_data"
    },
    {
     "data": {
      "text/plain": [
       "1.5181686108066401"
      ]
     },
     "metadata": {},
     "output_type": "display_data"
    },
    {
     "data": {
      "text/plain": [
       "'MAE: '"
      ]
     },
     "metadata": {},
     "output_type": "display_data"
    },
    {
     "data": {
      "text/plain": [
       "1.2183349649560118"
      ]
     },
     "metadata": {},
     "output_type": "display_data"
    },
    {
     "data": {
      "text/plain": [
       "'R-squared: '"
      ]
     },
     "metadata": {},
     "output_type": "display_data"
    },
    {
     "data": {
      "text/plain": [
       "0.724371719582275"
      ]
     },
     "metadata": {},
     "output_type": "display_data"
    }
   ],
   "source": [
    "streamtemps = pd.concat([streamtemp_obs.loc[:, 'water_temp'], \n",
    "                         cell_results[0].loc[:, 'Water_Surface_Temperature(degrees_C)']], axis=1).dropna()\n",
    "\n",
    "display('RMSE: ', np.sqrt(mean_squared_error(streamtemps.iloc[:, 0], streamtemps.iloc[:, 1])))\n",
    "display('MAE: ', mean_absolute_error(streamtemps.iloc[:, 0], streamtemps.iloc[:, 1]))\n",
    "display('R-squared: ', r2_score(streamtemps.iloc[:, 0], streamtemps.iloc[:, 1]))"
   ]
  },
  {
   "cell_type": "markdown",
   "metadata": {},
   "source": [
    "## Applying a correction factor to the simulated stream temp, which overpredicts temp, especially in winter"
   ]
  },
  {
   "cell_type": "code",
   "execution_count": 10,
   "metadata": {},
   "outputs": [],
   "source": [
    "# Convert day of year to signal\n",
    "day = 24 * 60 * 60\n",
    "year = 365.2425 * day\n",
    "df = streamtemps.copy()\n",
    "timestamp_secs = pd.to_datetime(df.index)\n",
    "timestamp_secs = timestamp_secs.map(datetime.datetime.timestamp)\n",
    "df['year_cos'] = np.cos(timestamp_secs * (2 * np.pi / year))\n",
    "df['year_sin'] = np.sin(timestamp_secs * (2 * np.pi / year))\n",
    "# df['air temp'] = temp['temp']\n",
    "df['air_temp_3day_avg'] = temp['temp'].rolling(3, min_periods=0).mean()"
   ]
  },
  {
   "cell_type": "code",
   "execution_count": 11,
   "metadata": {},
   "outputs": [
    {
     "name": "stdout",
     "output_type": "stream",
     "text": [
      "                            OLS Regression Results                            \n",
      "==============================================================================\n",
      "Dep. Variable:             water_temp   R-squared:                       0.933\n",
      "Model:                            OLS   Adj. R-squared:                  0.933\n",
      "Method:                 Least Squares   F-statistic:                     3152.\n",
      "Date:                Wed, 21 Apr 2021   Prob (F-statistic):               0.00\n",
      "Time:                        14:43:25   Log-Likelihood:                -1029.7\n",
      "No. Observations:                 913   AIC:                             2069.\n",
      "Df Residuals:                     908   BIC:                             2093.\n",
      "Df Model:                           4                                         \n",
      "Covariance Type:            nonrobust                                         \n",
      "========================================================================================================\n",
      "                                           coef    std err          t      P>|t|      [0.025      0.975]\n",
      "--------------------------------------------------------------------------------------------------------\n",
      "const                                    5.1474      0.394     13.055      0.000       4.374       5.921\n",
      "Water_Surface_Temperature(degrees_C)     0.0145      0.054      0.266      0.790      -0.092       0.121\n",
      "year_cos                                -0.8232      0.075    -10.923      0.000      -0.971      -0.675\n",
      "year_sin                                -0.8172      0.041    -19.908      0.000      -0.898      -0.737\n",
      "air_temp_3day_avg                        0.4369      0.021     20.391      0.000       0.395       0.479\n",
      "==============================================================================\n",
      "Omnibus:                       88.143   Durbin-Watson:                   1.946\n",
      "Prob(Omnibus):                  0.000   Jarque-Bera (JB):              197.912\n",
      "Skew:                          -0.563   Prob(JB):                     1.06e-43\n",
      "Kurtosis:                       4.984   Cond. No.                         240.\n",
      "==============================================================================\n",
      "\n",
      "Notes:\n",
      "[1] Standard Errors assume that the covariance matrix of the errors is correctly specified.\n"
     ]
    }
   ],
   "source": [
    "X = df.copy()\n",
    "y = X.pop('water_temp')\n",
    "X = sm.add_constant(X)\n",
    "X_train, X_test, y_train, y_test = train_test_split(X, y, test_size=0.33, random_state=42)\n",
    "X_train = sm.add_constant(X_train)\n",
    "olsmodel = sm.OLS(y_train, X_train).fit()\n",
    "print(olsmodel.summary())"
   ]
  },
  {
   "cell_type": "code",
   "execution_count": 12,
   "metadata": {},
   "outputs": [
    {
     "data": {
      "text/plain": [
       "'RMSE: '"
      ]
     },
     "metadata": {},
     "output_type": "display_data"
    },
    {
     "data": {
      "text/plain": [
       "0.7557953073879525"
      ]
     },
     "metadata": {},
     "output_type": "display_data"
    },
    {
     "data": {
      "text/plain": [
       "'MAE: '"
      ]
     },
     "metadata": {},
     "output_type": "display_data"
    },
    {
     "data": {
      "text/plain": [
       "0.5793249600456177"
      ]
     },
     "metadata": {},
     "output_type": "display_data"
    },
    {
     "data": {
      "text/plain": [
       "'R-squared: '"
      ]
     },
     "metadata": {},
     "output_type": "display_data"
    },
    {
     "data": {
      "text/plain": [
       "0.9324006210967142"
      ]
     },
     "metadata": {},
     "output_type": "display_data"
    }
   ],
   "source": [
    "y_pred = olsmodel.predict(X_test)\n",
    "\n",
    "# Test metrics\n",
    "display('RMSE: ', np.sqrt(mean_squared_error(y_test, y_pred)))\n",
    "display('MAE: ', mean_absolute_error(y_test, y_pred))\n",
    "display('R-squared: ', r2_score(y_test, y_pred))\n",
    "\n",
    "y_corrected_sm = olsmodel.predict(X)\n",
    "\n",
    "cols = X.columns.tolist()\n",
    "cols.insert(0, 'water_temp_corrected')\n",
    "streamtemp_sim_corrected_sm = pd.DataFrame(np.column_stack([y_corrected_sm, X]), columns=cols, index=streamtemps.index)\n",
    "corrected_piv_sm = pd.pivot_table(streamtemp_sim_corrected_sm, index=streamtemp_sim_corrected_sm.index.dayofyear, \n",
    "                                  columns=streamtemp_sim_corrected_sm.index.year, \n",
    "                                  values='water_temp_corrected', dropna=False)"
   ]
  },
  {
   "cell_type": "code",
   "execution_count": 20,
   "metadata": {},
   "outputs": [
    {
     "ename": "ValueError",
     "evalue": "Unable to coerce to Series, length must be 4: given 5",
     "output_type": "error",
     "traceback": [
      "\u001b[1;31m---------------------------------------------------------------------------\u001b[0m",
      "\u001b[1;31mValueError\u001b[0m                                Traceback (most recent call last)",
      "\u001b[1;32m<ipython-input-20-7821f0e08011>\u001b[0m in \u001b[0;36m<module>\u001b[1;34m\u001b[0m\n\u001b[0;32m      2\u001b[0m \u001b[1;33m\u001b[0m\u001b[0m\n\u001b[0;32m      3\u001b[0m \u001b[0mci_values95\u001b[0m \u001b[1;33m=\u001b[0m \u001b[0molsmodel\u001b[0m\u001b[1;33m.\u001b[0m\u001b[0mconf_int\u001b[0m\u001b[1;33m(\u001b[0m\u001b[0malpha\u001b[0m\u001b[1;33m=\u001b[0m\u001b[1;36m0.05\u001b[0m\u001b[1;33m,\u001b[0m \u001b[0mcols\u001b[0m\u001b[1;33m=\u001b[0m\u001b[1;32mNone\u001b[0m\u001b[1;33m)\u001b[0m\u001b[1;33m\u001b[0m\u001b[1;33m\u001b[0m\u001b[0m\n\u001b[1;32m----> 4\u001b[1;33m \u001b[0mci_lower95\u001b[0m \u001b[1;33m=\u001b[0m \u001b[1;33m(\u001b[0m\u001b[0mX\u001b[0m \u001b[1;33m*\u001b[0m \u001b[0mci_values95\u001b[0m\u001b[1;33m.\u001b[0m\u001b[0miloc\u001b[0m\u001b[1;33m[\u001b[0m\u001b[1;33m:\u001b[0m\u001b[1;33m,\u001b[0m \u001b[1;36m0\u001b[0m\u001b[1;33m]\u001b[0m\u001b[1;33m.\u001b[0m\u001b[0mtolist\u001b[0m\u001b[1;33m(\u001b[0m\u001b[1;33m)\u001b[0m\u001b[1;33m)\u001b[0m\u001b[1;33m.\u001b[0m\u001b[0msum\u001b[0m\u001b[1;33m(\u001b[0m\u001b[0maxis\u001b[0m\u001b[1;33m=\u001b[0m\u001b[1;36m1\u001b[0m\u001b[1;33m)\u001b[0m\u001b[1;33m\u001b[0m\u001b[1;33m\u001b[0m\u001b[0m\n\u001b[0m\u001b[0;32m      5\u001b[0m \u001b[0mci_lower95\u001b[0m\u001b[1;33m.\u001b[0m\u001b[0mname\u001b[0m \u001b[1;33m=\u001b[0m \u001b[1;34m'ci_lower95'\u001b[0m\u001b[1;33m\u001b[0m\u001b[1;33m\u001b[0m\u001b[0m\n\u001b[0;32m      6\u001b[0m \u001b[0mci_upper95\u001b[0m \u001b[1;33m=\u001b[0m \u001b[1;33m(\u001b[0m\u001b[0mX\u001b[0m \u001b[1;33m*\u001b[0m \u001b[0mci_values95\u001b[0m\u001b[1;33m.\u001b[0m\u001b[0miloc\u001b[0m\u001b[1;33m[\u001b[0m\u001b[1;33m:\u001b[0m\u001b[1;33m,\u001b[0m \u001b[1;36m1\u001b[0m\u001b[1;33m]\u001b[0m\u001b[1;33m.\u001b[0m\u001b[0mtolist\u001b[0m\u001b[1;33m(\u001b[0m\u001b[1;33m)\u001b[0m\u001b[1;33m)\u001b[0m\u001b[1;33m.\u001b[0m\u001b[0msum\u001b[0m\u001b[1;33m(\u001b[0m\u001b[0maxis\u001b[0m\u001b[1;33m=\u001b[0m\u001b[1;36m1\u001b[0m\u001b[1;33m)\u001b[0m\u001b[1;33m\u001b[0m\u001b[1;33m\u001b[0m\u001b[0m\n",
      "\u001b[1;32m~\\AppData\\Local\\Continuum\\anaconda3\\envs\\tnc_velma\\lib\\site-packages\\pandas\\core\\ops\\common.py\u001b[0m in \u001b[0;36mnew_method\u001b[1;34m(self, other)\u001b[0m\n\u001b[0;32m     63\u001b[0m         \u001b[0mother\u001b[0m \u001b[1;33m=\u001b[0m \u001b[0mitem_from_zerodim\u001b[0m\u001b[1;33m(\u001b[0m\u001b[0mother\u001b[0m\u001b[1;33m)\u001b[0m\u001b[1;33m\u001b[0m\u001b[1;33m\u001b[0m\u001b[0m\n\u001b[0;32m     64\u001b[0m \u001b[1;33m\u001b[0m\u001b[0m\n\u001b[1;32m---> 65\u001b[1;33m         \u001b[1;32mreturn\u001b[0m \u001b[0mmethod\u001b[0m\u001b[1;33m(\u001b[0m\u001b[0mself\u001b[0m\u001b[1;33m,\u001b[0m \u001b[0mother\u001b[0m\u001b[1;33m)\u001b[0m\u001b[1;33m\u001b[0m\u001b[1;33m\u001b[0m\u001b[0m\n\u001b[0m\u001b[0;32m     66\u001b[0m \u001b[1;33m\u001b[0m\u001b[0m\n\u001b[0;32m     67\u001b[0m     \u001b[1;32mreturn\u001b[0m \u001b[0mnew_method\u001b[0m\u001b[1;33m\u001b[0m\u001b[1;33m\u001b[0m\u001b[0m\n",
      "\u001b[1;32m~\\AppData\\Local\\Continuum\\anaconda3\\envs\\tnc_velma\\lib\\site-packages\\pandas\\core\\arraylike.py\u001b[0m in \u001b[0;36m__mul__\u001b[1;34m(self, other)\u001b[0m\n\u001b[0;32m    103\u001b[0m     \u001b[1;33m@\u001b[0m\u001b[0munpack_zerodim_and_defer\u001b[0m\u001b[1;33m(\u001b[0m\u001b[1;34m\"__mul__\"\u001b[0m\u001b[1;33m)\u001b[0m\u001b[1;33m\u001b[0m\u001b[1;33m\u001b[0m\u001b[0m\n\u001b[0;32m    104\u001b[0m     \u001b[1;32mdef\u001b[0m \u001b[0m__mul__\u001b[0m\u001b[1;33m(\u001b[0m\u001b[0mself\u001b[0m\u001b[1;33m,\u001b[0m \u001b[0mother\u001b[0m\u001b[1;33m)\u001b[0m\u001b[1;33m:\u001b[0m\u001b[1;33m\u001b[0m\u001b[1;33m\u001b[0m\u001b[0m\n\u001b[1;32m--> 105\u001b[1;33m         \u001b[1;32mreturn\u001b[0m \u001b[0mself\u001b[0m\u001b[1;33m.\u001b[0m\u001b[0m_arith_method\u001b[0m\u001b[1;33m(\u001b[0m\u001b[0mother\u001b[0m\u001b[1;33m,\u001b[0m \u001b[0moperator\u001b[0m\u001b[1;33m.\u001b[0m\u001b[0mmul\u001b[0m\u001b[1;33m)\u001b[0m\u001b[1;33m\u001b[0m\u001b[1;33m\u001b[0m\u001b[0m\n\u001b[0m\u001b[0;32m    106\u001b[0m \u001b[1;33m\u001b[0m\u001b[0m\n\u001b[0;32m    107\u001b[0m     \u001b[1;33m@\u001b[0m\u001b[0munpack_zerodim_and_defer\u001b[0m\u001b[1;33m(\u001b[0m\u001b[1;34m\"__rmul__\"\u001b[0m\u001b[1;33m)\u001b[0m\u001b[1;33m\u001b[0m\u001b[1;33m\u001b[0m\u001b[0m\n",
      "\u001b[1;32m~\\AppData\\Local\\Continuum\\anaconda3\\envs\\tnc_velma\\lib\\site-packages\\pandas\\core\\frame.py\u001b[0m in \u001b[0;36m_arith_method\u001b[1;34m(self, other, op)\u001b[0m\n\u001b[0;32m   5978\u001b[0m         \u001b[0maxis\u001b[0m \u001b[1;33m=\u001b[0m \u001b[1;36m1\u001b[0m  \u001b[1;31m# only relevant for Series other case\u001b[0m\u001b[1;33m\u001b[0m\u001b[1;33m\u001b[0m\u001b[0m\n\u001b[0;32m   5979\u001b[0m \u001b[1;33m\u001b[0m\u001b[0m\n\u001b[1;32m-> 5980\u001b[1;33m         \u001b[0mself\u001b[0m\u001b[1;33m,\u001b[0m \u001b[0mother\u001b[0m \u001b[1;33m=\u001b[0m \u001b[0mops\u001b[0m\u001b[1;33m.\u001b[0m\u001b[0malign_method_FRAME\u001b[0m\u001b[1;33m(\u001b[0m\u001b[0mself\u001b[0m\u001b[1;33m,\u001b[0m \u001b[0mother\u001b[0m\u001b[1;33m,\u001b[0m \u001b[0maxis\u001b[0m\u001b[1;33m,\u001b[0m \u001b[0mflex\u001b[0m\u001b[1;33m=\u001b[0m\u001b[1;32mTrue\u001b[0m\u001b[1;33m,\u001b[0m \u001b[0mlevel\u001b[0m\u001b[1;33m=\u001b[0m\u001b[1;32mNone\u001b[0m\u001b[1;33m)\u001b[0m\u001b[1;33m\u001b[0m\u001b[1;33m\u001b[0m\u001b[0m\n\u001b[0m\u001b[0;32m   5981\u001b[0m \u001b[1;33m\u001b[0m\u001b[0m\n\u001b[0;32m   5982\u001b[0m         \u001b[0mnew_data\u001b[0m \u001b[1;33m=\u001b[0m \u001b[0mself\u001b[0m\u001b[1;33m.\u001b[0m\u001b[0m_dispatch_frame_op\u001b[0m\u001b[1;33m(\u001b[0m\u001b[0mother\u001b[0m\u001b[1;33m,\u001b[0m \u001b[0mop\u001b[0m\u001b[1;33m,\u001b[0m \u001b[0maxis\u001b[0m\u001b[1;33m=\u001b[0m\u001b[0maxis\u001b[0m\u001b[1;33m)\u001b[0m\u001b[1;33m\u001b[0m\u001b[1;33m\u001b[0m\u001b[0m\n",
      "\u001b[1;32m~\\AppData\\Local\\Continuum\\anaconda3\\envs\\tnc_velma\\lib\\site-packages\\pandas\\core\\ops\\__init__.py\u001b[0m in \u001b[0;36malign_method_FRAME\u001b[1;34m(left, right, axis, flex, level)\u001b[0m\n\u001b[0;32m    260\u001b[0m             )\n\u001b[0;32m    261\u001b[0m         \u001b[1;31m# GH17901\u001b[0m\u001b[1;33m\u001b[0m\u001b[1;33m\u001b[0m\u001b[1;33m\u001b[0m\u001b[0m\n\u001b[1;32m--> 262\u001b[1;33m         \u001b[0mright\u001b[0m \u001b[1;33m=\u001b[0m \u001b[0mto_series\u001b[0m\u001b[1;33m(\u001b[0m\u001b[0mright\u001b[0m\u001b[1;33m)\u001b[0m\u001b[1;33m\u001b[0m\u001b[1;33m\u001b[0m\u001b[0m\n\u001b[0m\u001b[0;32m    263\u001b[0m \u001b[1;33m\u001b[0m\u001b[0m\n\u001b[0;32m    264\u001b[0m     \u001b[1;32mif\u001b[0m \u001b[0mflex\u001b[0m \u001b[1;32mis\u001b[0m \u001b[1;32mnot\u001b[0m \u001b[1;32mNone\u001b[0m \u001b[1;32mand\u001b[0m \u001b[0misinstance\u001b[0m\u001b[1;33m(\u001b[0m\u001b[0mright\u001b[0m\u001b[1;33m,\u001b[0m \u001b[0mABCDataFrame\u001b[0m\u001b[1;33m)\u001b[0m\u001b[1;33m:\u001b[0m\u001b[1;33m\u001b[0m\u001b[1;33m\u001b[0m\u001b[0m\n",
      "\u001b[1;32m~\\AppData\\Local\\Continuum\\anaconda3\\envs\\tnc_velma\\lib\\site-packages\\pandas\\core\\ops\\__init__.py\u001b[0m in \u001b[0;36mto_series\u001b[1;34m(right)\u001b[0m\n\u001b[0;32m    218\u001b[0m             \u001b[1;32mif\u001b[0m \u001b[0mlen\u001b[0m\u001b[1;33m(\u001b[0m\u001b[0mleft\u001b[0m\u001b[1;33m.\u001b[0m\u001b[0mcolumns\u001b[0m\u001b[1;33m)\u001b[0m \u001b[1;33m!=\u001b[0m \u001b[0mlen\u001b[0m\u001b[1;33m(\u001b[0m\u001b[0mright\u001b[0m\u001b[1;33m)\u001b[0m\u001b[1;33m:\u001b[0m\u001b[1;33m\u001b[0m\u001b[1;33m\u001b[0m\u001b[0m\n\u001b[0;32m    219\u001b[0m                 raise ValueError(\n\u001b[1;32m--> 220\u001b[1;33m                     \u001b[0mmsg\u001b[0m\u001b[1;33m.\u001b[0m\u001b[0mformat\u001b[0m\u001b[1;33m(\u001b[0m\u001b[0mreq_len\u001b[0m\u001b[1;33m=\u001b[0m\u001b[0mlen\u001b[0m\u001b[1;33m(\u001b[0m\u001b[0mleft\u001b[0m\u001b[1;33m.\u001b[0m\u001b[0mcolumns\u001b[0m\u001b[1;33m)\u001b[0m\u001b[1;33m,\u001b[0m \u001b[0mgiven_len\u001b[0m\u001b[1;33m=\u001b[0m\u001b[0mlen\u001b[0m\u001b[1;33m(\u001b[0m\u001b[0mright\u001b[0m\u001b[1;33m)\u001b[0m\u001b[1;33m)\u001b[0m\u001b[1;33m\u001b[0m\u001b[1;33m\u001b[0m\u001b[0m\n\u001b[0m\u001b[0;32m    221\u001b[0m                 )\n\u001b[0;32m    222\u001b[0m             \u001b[0mright\u001b[0m \u001b[1;33m=\u001b[0m \u001b[0mleft\u001b[0m\u001b[1;33m.\u001b[0m\u001b[0m_constructor_sliced\u001b[0m\u001b[1;33m(\u001b[0m\u001b[0mright\u001b[0m\u001b[1;33m,\u001b[0m \u001b[0mindex\u001b[0m\u001b[1;33m=\u001b[0m\u001b[0mleft\u001b[0m\u001b[1;33m.\u001b[0m\u001b[0mcolumns\u001b[0m\u001b[1;33m)\u001b[0m\u001b[1;33m\u001b[0m\u001b[1;33m\u001b[0m\u001b[0m\n",
      "\u001b[1;31mValueError\u001b[0m: Unable to coerce to Series, length must be 4: given 5"
     ]
    }
   ],
   "source": [
    "# Calculate confidence intervals\n",
    "\n",
    "ci_values95 = olsmodel.conf_int(alpha=0.05, cols=None)\n",
    "ci_lower95 = (X * ci_values95.iloc[:, 0].tolist()).sum(axis=1)\n",
    "ci_lower95.name = 'ci_lower95'\n",
    "ci_upper95 = (X * ci_values95.iloc[:, 1].tolist()).sum(axis=1)\n",
    "ci_upper95.name = 'ci_upper95'\n",
    "\n",
    "ci_values99 = olsmodel.conf_int(alpha=0.01, cols=None)\n",
    "ci_lower99 = (X * ci_values99.iloc[:, 0].tolist()).sum(axis=1)\n",
    "ci_lower99.name = 'ci_lower99'\n",
    "ci_upper99 = (X * ci_values99.iloc[:, 1].tolist()).sum(axis=1)\n",
    "ci_upper99.name = 'ci_upper99'\n",
    "\n",
    "data_ci = pd.concat([X, y, ci_lower95, ci_upper95, ci_lower99, ci_upper99, streamtemp_sim_corrected_sm.loc[:, 'water_temp_corrected']],\n",
    "                    axis=1)\n",
    "\n",
    "ci_lower_yearly95 = pd.pivot_table(data_ci, index=data_ci.index.dayofyear, columns=data_ci.index.year, \n",
    "                         values='ci_lower95', dropna=False)\n",
    "ci_upper_yearly95 = pd.pivot_table(data_ci, index=data_ci.index.dayofyear, columns=data_ci.index.year, \n",
    "                         values='ci_upper95', dropna=False)\n",
    "ci_lower_yearly99 = pd.pivot_table(data_ci, index=data_ci.index.dayofyear, columns=data_ci.index.year, \n",
    "                         values='ci_lower99', dropna=False)\n",
    "ci_upper_yearly99 = pd.pivot_table(data_ci, index=data_ci.index.dayofyear, columns=data_ci.index.year, \n",
    "                         values='ci_upper99', dropna=False)"
   ]
  },
  {
   "cell_type": "code",
   "execution_count": 14,
   "metadata": {},
   "outputs": [
    {
     "data": {
      "application/vnd.jupyter.widget-view+json": {
       "model_id": "b99fff0ab3134116affffaf78212d696",
       "version_major": 2,
       "version_minor": 0
      },
      "text/plain": [
       "Canvas(toolbar=Toolbar(toolitems=[('Home', 'Reset original view', 'home', 'home'), ('Back', 'Back to previous …"
      ]
     },
     "metadata": {},
     "output_type": "display_data"
    },
    {
     "ename": "NameError",
     "evalue": "name 'ci_lower_yearly95' is not defined",
     "output_type": "error",
     "traceback": [
      "\u001b[1;31m---------------------------------------------------------------------------\u001b[0m",
      "\u001b[1;31mNameError\u001b[0m                                 Traceback (most recent call last)",
      "\u001b[1;32m<ipython-input-14-80cddbba7e28>\u001b[0m in \u001b[0;36m<module>\u001b[1;34m\u001b[0m\n\u001b[0;32m      5\u001b[0m     \u001b[0mstreamtemp_obs_yearly\u001b[0m\u001b[1;33m.\u001b[0m\u001b[0miloc\u001b[0m\u001b[1;33m[\u001b[0m\u001b[1;33m:\u001b[0m\u001b[1;33m,\u001b[0m \u001b[0mcol\u001b[0m\u001b[1;33m]\u001b[0m\u001b[1;33m.\u001b[0m\u001b[0mplot\u001b[0m\u001b[1;33m(\u001b[0m\u001b[0max\u001b[0m\u001b[1;33m=\u001b[0m\u001b[0maxes\u001b[0m\u001b[1;33m[\u001b[0m\u001b[0mcol\u001b[0m\u001b[1;33m]\u001b[0m\u001b[1;33m,\u001b[0m \u001b[0mlabel\u001b[0m\u001b[1;33m=\u001b[0m\u001b[1;34m'Observed'\u001b[0m\u001b[1;33m,\u001b[0m \u001b[0mcolor\u001b[0m\u001b[1;33m=\u001b[0m\u001b[1;34m'tab:blue'\u001b[0m\u001b[1;33m,\u001b[0m \u001b[0mlinewidth\u001b[0m\u001b[1;33m=\u001b[0m\u001b[1;36m1\u001b[0m\u001b[1;33m)\u001b[0m\u001b[1;33m\u001b[0m\u001b[1;33m\u001b[0m\u001b[0m\n\u001b[0;32m      6\u001b[0m     \u001b[0mcorrected_piv_sm\u001b[0m\u001b[1;33m.\u001b[0m\u001b[0miloc\u001b[0m\u001b[1;33m[\u001b[0m\u001b[1;33m:\u001b[0m\u001b[1;33m,\u001b[0m \u001b[0mcol\u001b[0m\u001b[1;33m]\u001b[0m\u001b[1;33m.\u001b[0m\u001b[0mplot\u001b[0m\u001b[1;33m(\u001b[0m\u001b[0max\u001b[0m\u001b[1;33m=\u001b[0m\u001b[0maxes\u001b[0m\u001b[1;33m[\u001b[0m\u001b[0mcol\u001b[0m\u001b[1;33m]\u001b[0m\u001b[1;33m,\u001b[0m \u001b[0mlabel\u001b[0m\u001b[1;33m=\u001b[0m\u001b[1;34m'Simulated corrected'\u001b[0m\u001b[1;33m,\u001b[0m \u001b[0mcolor\u001b[0m\u001b[1;33m=\u001b[0m\u001b[1;34m'orangered'\u001b[0m\u001b[1;33m,\u001b[0m \u001b[0mlinewidth\u001b[0m\u001b[1;33m=\u001b[0m\u001b[1;36m1\u001b[0m\u001b[1;33m)\u001b[0m\u001b[1;33m\u001b[0m\u001b[1;33m\u001b[0m\u001b[0m\n\u001b[1;32m----> 7\u001b[1;33m     axes[col].fill_between(ci_lower_yearly95.index, \n\u001b[0m\u001b[0;32m      8\u001b[0m                            \u001b[0mci_lower_yearly95\u001b[0m\u001b[1;33m.\u001b[0m\u001b[0miloc\u001b[0m\u001b[1;33m[\u001b[0m\u001b[1;33m:\u001b[0m\u001b[1;33m,\u001b[0m \u001b[0mcol\u001b[0m\u001b[1;33m]\u001b[0m\u001b[1;33m,\u001b[0m\u001b[1;33m\u001b[0m\u001b[1;33m\u001b[0m\u001b[0m\n\u001b[0;32m      9\u001b[0m                            ci_upper_yearly95.iloc[:, col], color='tab:orange', alpha=0.6, label='0.95 CI', edgecolor=None)\n",
      "\u001b[1;31mNameError\u001b[0m: name 'ci_lower_yearly95' is not defined"
     ]
    }
   ],
   "source": [
    "# Observed vs. simulated (corrected) stream temp for gauge, with CI\n",
    "years = streamtemp_obs_yearly.columns.get_level_values(0)\n",
    "fig, axes = plt.subplots(ncols=1, nrows=len(years), figsize=(6, 9))\n",
    "for col, year in enumerate(years):\n",
    "    streamtemp_obs_yearly.iloc[:, col].plot(ax=axes[col], label='Observed', color='tab:blue', linewidth=1)\n",
    "    corrected_piv_sm.iloc[:, col].plot(ax=axes[col], label='Simulated corrected', color='orangered', linewidth=1)\n",
    "    axes[col].fill_between(ci_lower_yearly95.index, \n",
    "                           ci_lower_yearly95.iloc[:, col],\n",
    "                           ci_upper_yearly95.iloc[:, col], color='tab:orange', alpha=0.6, label='0.95 CI', edgecolor=None)\n",
    "    axes[col].fill_between(ci_lower_yearly99.index, \n",
    "                           ci_lower_yearly99.iloc[:, col],\n",
    "                           ci_upper_yearly99.iloc[:, col], color='tab:orange', alpha=0.4, label='0.99 CI', edgecolor=None)\n",
    "    axes[col].set_title(year)\n",
    "    axes[col].set_ylim([0, 20])\n",
    "axes[0].legend(loc='upper left', bbox_to_anchor=(0, 1.3), fancybox=True, ncol=4)\n",
    "axes[0].set_ylabel('Stream Temperature (C)')\n",
    "plt.suptitle('Corrected stream temperature with 95% confidence intervals \\n (predictors=VELMA stream temp, day of year, air temp 3day avg)')\n",
    "plt.tight_layout(rect=[0, 0, 1, 0.99])"
   ]
  },
  {
   "cell_type": "markdown",
   "metadata": {},
   "source": [
    "#### Removing air temp 3 day avg as a feature - yields tighter confidence bounds but also smaller R-squared"
   ]
  },
  {
   "cell_type": "code",
   "execution_count": 15,
   "metadata": {},
   "outputs": [],
   "source": [
    "df2 = df.drop('air_temp_3day_avg', axis=1)\n",
    "X = df2.copy()\n",
    "y = X.pop('water_temp')\n",
    "X = sm.add_constant(X)\n",
    "X_train, X_test, y_train, y_test = train_test_split(X, y, test_size=0.33, random_state=42)\n",
    "X_train = sm.add_constant(X_train)\n",
    "olsmodel_2 = sm.OLS(y_train, X_train).fit()\n",
    "\n",
    "y_corrected_sm2 = olsmodel_2.predict(X)\n",
    "\n",
    "cols = X.columns.tolist()\n",
    "cols.insert(0, 'water_temp_corrected')\n",
    "streamtemp_sim_corrected_sm2 = pd.DataFrame(np.column_stack([y_corrected_sm2, X]), columns=cols, index=streamtemps.index)\n",
    "corrected_piv_sm2 = pd.pivot_table(streamtemp_sim_corrected_sm2, index=streamtemp_sim_corrected_sm2.index.dayofyear, \n",
    "                                  columns=streamtemp_sim_corrected_sm2.index.year, \n",
    "                                  values='water_temp_corrected', dropna=False)"
   ]
  },
  {
   "cell_type": "code",
   "execution_count": 16,
   "metadata": {},
   "outputs": [
    {
     "ename": "NameError",
     "evalue": "name 'streamtemp_sim_corrected' is not defined",
     "output_type": "error",
     "traceback": [
      "\u001b[1;31m---------------------------------------------------------------------------\u001b[0m",
      "\u001b[1;31mNameError\u001b[0m                                 Traceback (most recent call last)",
      "\u001b[1;32m<ipython-input-16-0ad6c7c09709>\u001b[0m in \u001b[0;36m<module>\u001b[1;34m\u001b[0m\n\u001b[0;32m     13\u001b[0m \u001b[0mci_upper99\u001b[0m\u001b[1;33m.\u001b[0m\u001b[0mname\u001b[0m \u001b[1;33m=\u001b[0m \u001b[1;34m'ci_upper99'\u001b[0m\u001b[1;33m\u001b[0m\u001b[1;33m\u001b[0m\u001b[0m\n\u001b[0;32m     14\u001b[0m \u001b[1;33m\u001b[0m\u001b[0m\n\u001b[1;32m---> 15\u001b[1;33m data_ci_2 = pd.concat([X, y, ci_lower95, ci_upper95, ci_lower99, ci_upper99, streamtemp_sim_corrected.loc[:, 'water_temp_corrected']],\n\u001b[0m\u001b[0;32m     16\u001b[0m                     axis=1)\n\u001b[0;32m     17\u001b[0m \u001b[1;33m\u001b[0m\u001b[0m\n",
      "\u001b[1;31mNameError\u001b[0m: name 'streamtemp_sim_corrected' is not defined"
     ]
    }
   ],
   "source": [
    "# Calculate confidence intervals\n",
    "\n",
    "ci_values95 = olsmodel_2.conf_int(alpha=0.05, cols=None)\n",
    "ci_lower95 = (X * ci_values95.iloc[:, 0].tolist()).sum(axis=1)\n",
    "ci_lower95.name = 'ci_lower95'\n",
    "ci_upper95 = (X * ci_values95.iloc[:, 1].tolist()).sum(axis=1)\n",
    "ci_upper95.name = 'ci_upper95'\n",
    "\n",
    "ci_values99 = olsmodel_2.conf_int(alpha=0.01, cols=None)\n",
    "ci_lower99 = (X * ci_values99.iloc[:, 0].tolist()).sum(axis=1)\n",
    "ci_lower99.name = 'ci_lower99'\n",
    "ci_upper99 = (X * ci_values99.iloc[:, 1].tolist()).sum(axis=1)\n",
    "ci_upper99.name = 'ci_upper99'\n",
    "\n",
    "data_ci_2 = pd.concat([X, y, ci_lower95, ci_upper95, ci_lower99, ci_upper99, streamtemp_sim_corrected.loc[:, 'water_temp_corrected']],\n",
    "                    axis=1)\n",
    "\n",
    "ci_lower_yearly95_2 = pd.pivot_table(data_ci_2, index=data_ci_2.index.dayofyear, columns=data_ci_2.index.year, \n",
    "                         values='ci_lower95', dropna=False)\n",
    "ci_upper_yearly95_2 = pd.pivot_table(data_ci_2, index=data_ci_2.index.dayofyear, columns=data_ci_2.index.year, \n",
    "                         values='ci_upper95', dropna=False)\n",
    "ci_lower_yearly99_2 = pd.pivot_table(data_ci_2, index=data_ci_2.index.dayofyear, columns=data_ci_2.index.year, \n",
    "                         values='ci_lower99', dropna=False)\n",
    "ci_upper_yearly99_2 = pd.pivot_table(data_ci_2, index=data_ci_2.index.dayofyear, columns=data_ci_2.index.year, \n",
    "                         values='ci_upper99', dropna=False)"
   ]
  },
  {
   "cell_type": "code",
   "execution_count": 17,
   "metadata": {},
   "outputs": [
    {
     "data": {
      "application/vnd.jupyter.widget-view+json": {
       "model_id": "ca559ef75517498693f2a3735b601af8",
       "version_major": 2,
       "version_minor": 0
      },
      "text/plain": [
       "Canvas(toolbar=Toolbar(toolitems=[('Home', 'Reset original view', 'home', 'home'), ('Back', 'Back to previous …"
      ]
     },
     "metadata": {},
     "output_type": "display_data"
    },
    {
     "ename": "NameError",
     "evalue": "name 'ci_lower_yearly95_2' is not defined",
     "output_type": "error",
     "traceback": [
      "\u001b[1;31m---------------------------------------------------------------------------\u001b[0m",
      "\u001b[1;31mNameError\u001b[0m                                 Traceback (most recent call last)",
      "\u001b[1;32m<ipython-input-17-4ca158f00f64>\u001b[0m in \u001b[0;36m<module>\u001b[1;34m\u001b[0m\n\u001b[0;32m      5\u001b[0m     \u001b[0mstreamtemp_obs_yearly\u001b[0m\u001b[1;33m.\u001b[0m\u001b[0miloc\u001b[0m\u001b[1;33m[\u001b[0m\u001b[1;33m:\u001b[0m\u001b[1;33m,\u001b[0m \u001b[0mcol\u001b[0m\u001b[1;33m]\u001b[0m\u001b[1;33m.\u001b[0m\u001b[0mplot\u001b[0m\u001b[1;33m(\u001b[0m\u001b[0max\u001b[0m\u001b[1;33m=\u001b[0m\u001b[0maxes\u001b[0m\u001b[1;33m[\u001b[0m\u001b[0mcol\u001b[0m\u001b[1;33m]\u001b[0m\u001b[1;33m,\u001b[0m \u001b[0mlabel\u001b[0m\u001b[1;33m=\u001b[0m\u001b[1;34m'Observed'\u001b[0m\u001b[1;33m,\u001b[0m \u001b[0mcolor\u001b[0m\u001b[1;33m=\u001b[0m\u001b[1;34m'tab:blue'\u001b[0m\u001b[1;33m,\u001b[0m \u001b[0mlinewidth\u001b[0m\u001b[1;33m=\u001b[0m\u001b[1;36m1\u001b[0m\u001b[1;33m)\u001b[0m\u001b[1;33m\u001b[0m\u001b[1;33m\u001b[0m\u001b[0m\n\u001b[0;32m      6\u001b[0m     \u001b[0mcorrected_piv_sm2\u001b[0m\u001b[1;33m.\u001b[0m\u001b[0miloc\u001b[0m\u001b[1;33m[\u001b[0m\u001b[1;33m:\u001b[0m\u001b[1;33m,\u001b[0m \u001b[0mcol\u001b[0m\u001b[1;33m]\u001b[0m\u001b[1;33m.\u001b[0m\u001b[0mplot\u001b[0m\u001b[1;33m(\u001b[0m\u001b[0max\u001b[0m\u001b[1;33m=\u001b[0m\u001b[0maxes\u001b[0m\u001b[1;33m[\u001b[0m\u001b[0mcol\u001b[0m\u001b[1;33m]\u001b[0m\u001b[1;33m,\u001b[0m \u001b[0mlabel\u001b[0m\u001b[1;33m=\u001b[0m\u001b[1;34m'Simulated corrected'\u001b[0m\u001b[1;33m,\u001b[0m \u001b[0mcolor\u001b[0m\u001b[1;33m=\u001b[0m\u001b[1;34m'orangered'\u001b[0m\u001b[1;33m,\u001b[0m \u001b[0mlinewidth\u001b[0m\u001b[1;33m=\u001b[0m\u001b[1;36m1\u001b[0m\u001b[1;33m)\u001b[0m\u001b[1;33m\u001b[0m\u001b[1;33m\u001b[0m\u001b[0m\n\u001b[1;32m----> 7\u001b[1;33m     axes[col].fill_between(ci_lower_yearly95_2.index, \n\u001b[0m\u001b[0;32m      8\u001b[0m                            \u001b[0mci_lower_yearly95_2\u001b[0m\u001b[1;33m.\u001b[0m\u001b[0miloc\u001b[0m\u001b[1;33m[\u001b[0m\u001b[1;33m:\u001b[0m\u001b[1;33m,\u001b[0m \u001b[0mcol\u001b[0m\u001b[1;33m]\u001b[0m\u001b[1;33m,\u001b[0m\u001b[1;33m\u001b[0m\u001b[1;33m\u001b[0m\u001b[0m\n\u001b[0;32m      9\u001b[0m                            ci_upper_yearly95_2.iloc[:, col], color='tab:orange', alpha=0.6, label='0.95 CI', edgecolor=None)\n",
      "\u001b[1;31mNameError\u001b[0m: name 'ci_lower_yearly95_2' is not defined"
     ]
    }
   ],
   "source": [
    "# Observed vs. simulated (corrected) stream temp for gauge, with CI\n",
    "years = streamtemp_obs_yearly.columns.get_level_values(0)\n",
    "fig, axes = plt.subplots(ncols=1, nrows=len(years), figsize=(6, 9))\n",
    "for col, year in enumerate(years):\n",
    "    streamtemp_obs_yearly.iloc[:, col].plot(ax=axes[col], label='Observed', color='tab:blue', linewidth=1)\n",
    "    corrected_piv_sm2.iloc[:, col].plot(ax=axes[col], label='Simulated corrected', color='orangered', linewidth=1)\n",
    "    axes[col].fill_between(ci_lower_yearly95_2.index, \n",
    "                           ci_lower_yearly95_2.iloc[:, col],\n",
    "                           ci_upper_yearly95_2.iloc[:, col], color='tab:orange', alpha=0.6, label='0.95 CI', edgecolor=None)\n",
    "    axes[col].fill_between(ci_lower_yearly99_2.index, \n",
    "                           ci_lower_yearly99_2.iloc[:, col],\n",
    "                           ci_upper_yearly99_2.iloc[:, col], color='tab:orange', alpha=0.4, label='0.99 CI', edgecolor=None)\n",
    "    axes[col].set_title(year)\n",
    "    axes[col].set_ylim([0, 20])\n",
    "axes[0].legend(loc='upper left', bbox_to_anchor=(0, 1.3), fancybox=True, ncol=4)\n",
    "axes[0].set_ylabel('Stream Temperature (C)')\n",
    "plt.suptitle('Corrected stream temperature with 95% confidence intervals \\n (predictors=VELMA stream temp, day of year)')\n",
    "plt.tight_layout(rect=[0, 0, 1, 0.99])"
   ]
  },
  {
   "cell_type": "code",
   "execution_count": 18,
   "metadata": {},
   "outputs": [
    {
     "data": {
      "application/vnd.jupyter.widget-view+json": {
       "model_id": "bf81b5e01c034186ba3d965e40df5879",
       "version_major": 2,
       "version_minor": 0
      },
      "text/plain": [
       "Canvas(toolbar=Toolbar(toolitems=[('Home', 'Reset original view', 'home', 'home'), ('Back', 'Back to previous …"
      ]
     },
     "metadata": {},
     "output_type": "display_data"
    },
    {
     "ename": "NameError",
     "evalue": "name 'ci_lower_yearly95' is not defined",
     "output_type": "error",
     "traceback": [
      "\u001b[1;31m---------------------------------------------------------------------------\u001b[0m",
      "\u001b[1;31mNameError\u001b[0m                                 Traceback (most recent call last)",
      "\u001b[1;32m<ipython-input-18-673009bf3b08>\u001b[0m in \u001b[0;36m<module>\u001b[1;34m\u001b[0m\n\u001b[0;32m      5\u001b[0m     \u001b[0mcorrected_piv_sm\u001b[0m\u001b[1;33m.\u001b[0m\u001b[0miloc\u001b[0m\u001b[1;33m[\u001b[0m\u001b[1;33m:\u001b[0m\u001b[1;33m,\u001b[0m \u001b[0mcol\u001b[0m\u001b[1;33m]\u001b[0m\u001b[1;33m.\u001b[0m\u001b[0mplot\u001b[0m\u001b[1;33m(\u001b[0m\u001b[0max\u001b[0m\u001b[1;33m=\u001b[0m\u001b[0maxes\u001b[0m\u001b[1;33m[\u001b[0m\u001b[0mcol\u001b[0m\u001b[1;33m]\u001b[0m\u001b[1;33m,\u001b[0m \u001b[0mlabel\u001b[0m\u001b[1;33m=\u001b[0m\u001b[1;34m'Simulated corrected (w/ air temp)'\u001b[0m\u001b[1;33m,\u001b[0m \u001b[0mcolor\u001b[0m\u001b[1;33m=\u001b[0m\u001b[1;34m'orangered'\u001b[0m\u001b[1;33m,\u001b[0m \u001b[0mlinewidth\u001b[0m\u001b[1;33m=\u001b[0m\u001b[1;36m1\u001b[0m\u001b[1;33m)\u001b[0m\u001b[1;33m\u001b[0m\u001b[1;33m\u001b[0m\u001b[0m\n\u001b[0;32m      6\u001b[0m     \u001b[0mcorrected_piv_sm2\u001b[0m\u001b[1;33m.\u001b[0m\u001b[0miloc\u001b[0m\u001b[1;33m[\u001b[0m\u001b[1;33m:\u001b[0m\u001b[1;33m,\u001b[0m \u001b[0mcol\u001b[0m\u001b[1;33m]\u001b[0m\u001b[1;33m.\u001b[0m\u001b[0mplot\u001b[0m\u001b[1;33m(\u001b[0m\u001b[0max\u001b[0m\u001b[1;33m=\u001b[0m\u001b[0maxes\u001b[0m\u001b[1;33m[\u001b[0m\u001b[0mcol\u001b[0m\u001b[1;33m]\u001b[0m\u001b[1;33m,\u001b[0m \u001b[0mlabel\u001b[0m\u001b[1;33m=\u001b[0m\u001b[1;34m'Simulated corrected (w/out air temp)'\u001b[0m\u001b[1;33m,\u001b[0m \u001b[0mcolor\u001b[0m\u001b[1;33m=\u001b[0m\u001b[1;34m'tab:green'\u001b[0m\u001b[1;33m,\u001b[0m \u001b[0mlinewidth\u001b[0m\u001b[1;33m=\u001b[0m\u001b[1;36m1\u001b[0m\u001b[1;33m)\u001b[0m\u001b[1;33m\u001b[0m\u001b[1;33m\u001b[0m\u001b[0m\n\u001b[1;32m----> 7\u001b[1;33m     axes[col].fill_between(ci_lower_yearly95.index, \n\u001b[0m\u001b[0;32m      8\u001b[0m                            \u001b[0mci_lower_yearly95\u001b[0m\u001b[1;33m.\u001b[0m\u001b[0miloc\u001b[0m\u001b[1;33m[\u001b[0m\u001b[1;33m:\u001b[0m\u001b[1;33m,\u001b[0m \u001b[0mcol\u001b[0m\u001b[1;33m]\u001b[0m\u001b[1;33m,\u001b[0m\u001b[1;33m\u001b[0m\u001b[1;33m\u001b[0m\u001b[0m\n\u001b[0;32m      9\u001b[0m                            ci_upper_yearly95.iloc[:, col], color='tab:orange', alpha=0.6, label='0.95 CI', edgecolor=None)\n",
      "\u001b[1;31mNameError\u001b[0m: name 'ci_lower_yearly95' is not defined"
     ]
    }
   ],
   "source": [
    "years = streamtemp_obs_yearly.columns.get_level_values(0)\n",
    "fig, axes = plt.subplots(ncols=1, nrows=len(years), figsize=(6, 9))\n",
    "for col, year in enumerate(years):\n",
    "    streamtemp_obs_yearly.iloc[:, col].plot(ax=axes[col], label='Observed', color='tab:blue', linewidth=1)\n",
    "    corrected_piv_sm.iloc[:, col].plot(ax=axes[col], label='Simulated corrected (w/ air temp)', color='orangered', linewidth=1)\n",
    "    corrected_piv_sm2.iloc[:, col].plot(ax=axes[col], label='Simulated corrected (w/out air temp)', color='tab:green', linewidth=1)\n",
    "    axes[col].fill_between(ci_lower_yearly95.index, \n",
    "                           ci_lower_yearly95.iloc[:, col],\n",
    "                           ci_upper_yearly95.iloc[:, col], color='tab:orange', alpha=0.6, label='0.95 CI', edgecolor=None)\n",
    "    axes[col].fill_between(ci_lower_yearly99.index, \n",
    "                           ci_lower_yearly99.iloc[:, col],\n",
    "                           ci_upper_yearly99.iloc[:, col], color='tab:orange', alpha=0.4, label='0.99 CI', edgecolor=None)\n",
    "    axes[col].set_title(year)\n",
    "    axes[col].set_ylim([0, 20])\n",
    "axes[0].legend(loc='upper left', bbox_to_anchor=(0, 1.3), fancybox=True, ncol=3)\n",
    "axes[0].set_ylabel('Stream Temperature (C)')\n",
    "plt.suptitle('Corrected stream temperature with 95% confidence intervals \\n Both models')\n",
    "plt.tight_layout(rect=[0, 0, 1, 0.99])"
   ]
  },
  {
   "cell_type": "markdown",
   "metadata": {},
   "source": [
    "## Stream temp and air temp"
   ]
  },
  {
   "cell_type": "code",
   "execution_count": 19,
   "metadata": {},
   "outputs": [
    {
     "data": {
      "application/vnd.jupyter.widget-view+json": {
       "model_id": "814d77dfe7a24b8fbd14084635c7178d",
       "version_major": 2,
       "version_minor": 0
      },
      "text/plain": [
       "Canvas(toolbar=Toolbar(toolitems=[('Home', 'Reset original view', 'home', 'home'), ('Back', 'Back to previous …"
      ]
     },
     "metadata": {},
     "output_type": "display_data"
    },
    {
     "ename": "NameError",
     "evalue": "name 'corrected_piv' is not defined",
     "output_type": "error",
     "traceback": [
      "\u001b[1;31m---------------------------------------------------------------------------\u001b[0m",
      "\u001b[1;31mNameError\u001b[0m                                 Traceback (most recent call last)",
      "\u001b[1;32m<ipython-input-19-9c21383d2165>\u001b[0m in \u001b[0;36m<module>\u001b[1;34m\u001b[0m\n\u001b[0;32m      6\u001b[0m \u001b[1;32mfor\u001b[0m \u001b[0mcol\u001b[0m\u001b[1;33m,\u001b[0m \u001b[0myear\u001b[0m \u001b[1;32min\u001b[0m \u001b[0menumerate\u001b[0m\u001b[1;33m(\u001b[0m\u001b[0myears\u001b[0m\u001b[1;33m)\u001b[0m\u001b[1;33m:\u001b[0m\u001b[1;33m\u001b[0m\u001b[1;33m\u001b[0m\u001b[0m\n\u001b[0;32m      7\u001b[0m     \u001b[0mstreamtemp_obs_yearly\u001b[0m\u001b[1;33m.\u001b[0m\u001b[0miloc\u001b[0m\u001b[1;33m[\u001b[0m\u001b[1;33m:\u001b[0m\u001b[1;33m,\u001b[0m \u001b[0mcol\u001b[0m\u001b[1;33m]\u001b[0m\u001b[1;33m.\u001b[0m\u001b[0mplot\u001b[0m\u001b[1;33m(\u001b[0m\u001b[0max\u001b[0m\u001b[1;33m=\u001b[0m\u001b[0maxes\u001b[0m\u001b[1;33m[\u001b[0m\u001b[0mcol\u001b[0m\u001b[1;33m]\u001b[0m\u001b[1;33m,\u001b[0m \u001b[0mlabel\u001b[0m\u001b[1;33m=\u001b[0m\u001b[1;34m'Observed stream temp'\u001b[0m\u001b[1;33m,\u001b[0m \u001b[0mlinewidth\u001b[0m\u001b[1;33m=\u001b[0m\u001b[1;36m1\u001b[0m\u001b[1;33m)\u001b[0m\u001b[1;33m\u001b[0m\u001b[1;33m\u001b[0m\u001b[0m\n\u001b[1;32m----> 8\u001b[1;33m     \u001b[0mcorrected_piv\u001b[0m\u001b[1;33m.\u001b[0m\u001b[0miloc\u001b[0m\u001b[1;33m[\u001b[0m\u001b[1;33m:\u001b[0m\u001b[1;33m,\u001b[0m \u001b[0mcol\u001b[0m\u001b[1;33m]\u001b[0m\u001b[1;33m.\u001b[0m\u001b[0mplot\u001b[0m\u001b[1;33m(\u001b[0m\u001b[0max\u001b[0m\u001b[1;33m=\u001b[0m\u001b[0maxes\u001b[0m\u001b[1;33m[\u001b[0m\u001b[0mcol\u001b[0m\u001b[1;33m]\u001b[0m\u001b[1;33m,\u001b[0m \u001b[0mlabel\u001b[0m\u001b[1;33m=\u001b[0m\u001b[1;34m'Simulated corrected stream temp'\u001b[0m\u001b[1;33m,\u001b[0m \u001b[0mlinewidth\u001b[0m\u001b[1;33m=\u001b[0m\u001b[1;36m1\u001b[0m\u001b[1;33m)\u001b[0m\u001b[1;33m\u001b[0m\u001b[1;33m\u001b[0m\u001b[0m\n\u001b[0m\u001b[0;32m      9\u001b[0m     \u001b[0mtemp_yearly\u001b[0m\u001b[1;33m.\u001b[0m\u001b[0miloc\u001b[0m\u001b[1;33m[\u001b[0m\u001b[1;33m:\u001b[0m\u001b[1;33m,\u001b[0m \u001b[0mcol\u001b[0m\u001b[1;33m]\u001b[0m\u001b[1;33m.\u001b[0m\u001b[0mplot\u001b[0m\u001b[1;33m(\u001b[0m\u001b[0max\u001b[0m\u001b[1;33m=\u001b[0m\u001b[0maxes\u001b[0m\u001b[1;33m[\u001b[0m\u001b[0mcol\u001b[0m\u001b[1;33m]\u001b[0m\u001b[1;33m,\u001b[0m \u001b[0mlabel\u001b[0m\u001b[1;33m=\u001b[0m\u001b[1;34m'Air temp'\u001b[0m\u001b[1;33m,\u001b[0m \u001b[0mlinewidth\u001b[0m\u001b[1;33m=\u001b[0m\u001b[1;36m0.5\u001b[0m\u001b[1;33m)\u001b[0m\u001b[1;33m\u001b[0m\u001b[1;33m\u001b[0m\u001b[0m\n\u001b[0;32m     10\u001b[0m     \u001b[0maxes\u001b[0m\u001b[1;33m[\u001b[0m\u001b[0mcol\u001b[0m\u001b[1;33m]\u001b[0m\u001b[1;33m.\u001b[0m\u001b[0mset_title\u001b[0m\u001b[1;33m(\u001b[0m\u001b[0myear\u001b[0m\u001b[1;33m)\u001b[0m\u001b[1;33m\u001b[0m\u001b[1;33m\u001b[0m\u001b[0m\n",
      "\u001b[1;31mNameError\u001b[0m: name 'corrected_piv' is not defined"
     ]
    }
   ],
   "source": [
    "temp_yearly = pd.pivot_table(temp, index='doy', columns='year', values='temp', dropna=False)\n",
    "\n",
    "# Observed stream temp vs air temp\n",
    "years = streamtemp_obs_yearly.columns.get_level_values(0)\n",
    "fig, axes = plt.subplots(ncols=1, nrows=len(years), figsize=(6, 9))\n",
    "for col, year in enumerate(years):\n",
    "    streamtemp_obs_yearly.iloc[:, col].plot(ax=axes[col], label='Observed stream temp', linewidth=1)\n",
    "    corrected_piv.iloc[:, col].plot(ax=axes[col], label='Simulated corrected stream temp', linewidth=1)\n",
    "    temp_yearly.iloc[:, col].plot(ax=axes[col], label='Air temp', linewidth=0.5)\n",
    "    axes[col].set_title(year)\n",
    "    axes[col].set_ylim([-5, 25])\n",
    "axes[0].legend(loc='upper left', bbox_to_anchor=(0, 1.3), fancybox=True, ncol=3)\n",
    "axes[0].set_ylabel('Temperature (C)')\n",
    "plt.suptitle('Stream and air temperature')\n",
    "plt.tight_layout(rect=[0, 0, 1, 0.99])"
   ]
  },
  {
   "cell_type": "markdown",
   "metadata": {},
   "source": [
    "## Stream temp and quality flags"
   ]
  },
  {
   "cell_type": "code",
   "execution_count": 260,
   "metadata": {},
   "outputs": [
    {
     "data": {
      "application/vnd.jupyter.widget-view+json": {
       "model_id": "cd22da5a4cbc4b90905e44da6f49b313",
       "version_major": 2,
       "version_minor": 0
      },
      "text/plain": [
       "Canvas(toolbar=Toolbar(toolitems=[('Home', 'Reset original view', 'home', 'home'), ('Back', 'Back to previous …"
      ]
     },
     "metadata": {},
     "output_type": "display_data"
    }
   ],
   "source": [
    "# Add quality scores below plot\n",
    "\n",
    "colors = sns.color_palette('tab10', 10)\n",
    "\n",
    "stream_temp_quality_yearly = pd.pivot_table(stream_temp_quality, index='doy', columns='year', values='quality', dropna=False)\n",
    "\n",
    "quality2 = stream_temp_quality_yearly.replace([2, 3, 140, 165, 255],\n",
    "                                        [-2, np.nan, np.nan, np.nan, np.nan])\n",
    "quality3 = stream_temp_quality_yearly.replace([2, 3, 140, 165, 255],\n",
    "                                        [np.nan, -2, np.nan, np.nan, np.nan])\n",
    "quality140 = stream_temp_quality_yearly.replace([2, 3, 140, 165, 255],\n",
    "                                        [np.nan, np.nan, -2, np.nan, np.nan])\n",
    "quality165 = stream_temp_quality_yearly.replace([2, 3, 140, 165, 255],\n",
    "                                         [np.nan, np.nan, np.nan, -2, np.nan])\n",
    "quality255 = stream_temp_quality_yearly.replace([2, 3, 140, 165, 255],\n",
    "                                        [np.nan, np.nan, np.nan, np.nan, -2])\n",
    "\n",
    "years = streamtemp_obs_yearly.columns.get_level_values(0)\n",
    "fig, axes = plt.subplots(ncols=1, nrows=len(years), figsize=(6, 9))\n",
    "\n",
    "for col, year in enumerate(years):\n",
    "#     ax2 = axes[col].twinx()\n",
    "#     precip_yearly.iloc[:, col].plot(ax=ax2, label='Precip', color='tab:green', linewidth=0.5)\n",
    "#     if col == 0:\n",
    "#         ax2.set_ylabel('Precipitation (mm/day)')\n",
    "#         ax2.legend(loc='upper right', bbox_to_anchor=(1, 1.3), fancybox=True, ncol=1)\n",
    "    quality2.iloc[:, col].plot(ax=axes[col], color=colors[0], linewidth=2, label='2: ?')\n",
    "    quality3.iloc[:, col].plot(ax=axes[col], color=colors[1], linewidth=2, label='3: ?')\n",
    "    quality140.iloc[:, col].plot(ax=axes[col], color=colors[2], linewidth=2, label='140: Data not yet checked')\n",
    "    quality165.iloc[:, col].plot(ax=axes[col], color=colors[3], linewidth=2, label='165: ?')\n",
    "    quality255.iloc[:, col].plot(ax=axes[col], color=colors[4], linewidth=2, label='255: Incomplete day')\n",
    "    streamtemp_obs_yearly.iloc[:, col].plot(ax=axes[col], label='Observed', linewidth=1)\n",
    "    corrected_piv.iloc[:, col].plot(ax=axes[col], label='Simulated (Penumbra)', linewidth=1)\n",
    "#     ax2.invert_yaxis()\n",
    "    axes[col].set_ylim([-3, 20])\n",
    "    axes[col].set_title(year)\n",
    "axes[0].legend(loc='upper left', bbox_to_anchor=(0, 1.9), fancybox=True, ncol=2)\n",
    "axes[0].set_ylabel('Runoff (mm/day)')\n",
    "fig.suptitle('Observed vs. Simulated (Penumbra) stream temp, corrected with quality flags')\n",
    "plt.tight_layout()\n",
    "# plt.savefig('baseline_runoffs_qaflags.png', dpi=300)\n",
    "\n"
   ]
  },
  {
   "cell_type": "markdown",
   "metadata": {},
   "source": [
    "140 - Data not yet checked\n",
    "255 - Incomplete day\n"
   ]
  }
 ],
 "metadata": {
  "kernelspec": {
   "display_name": "tnc_velma",
   "language": "python",
   "name": "tnc_velma"
  },
  "language_info": {
   "codemirror_mode": {
    "name": "ipython",
    "version": 3
   },
   "file_extension": ".py",
   "mimetype": "text/x-python",
   "name": "python",
   "nbconvert_exporter": "python",
   "pygments_lexer": "ipython3",
   "version": "3.7.8"
  }
 },
 "nbformat": 4,
 "nbformat_minor": 4
}
