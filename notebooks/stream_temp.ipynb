{
 "cells": [
  {
   "cell_type": "markdown",
   "metadata": {},
   "source": [
    "# Stream temperature"
   ]
  },
  {
   "cell_type": "code",
   "execution_count": 176,
   "metadata": {},
   "outputs": [],
   "source": [
    "%matplotlib widget\n",
    "\n",
    "import __init__\n",
    "import scripts.config as config\n",
    "import numpy as np\n",
    "import pandas as pd\n",
    "import tempfile\n",
    "import datetime\n",
    "from sklearn.svm import SVR\n",
    "from natsort import natsorted\n",
    "import geopandas as gpd\n",
    "from sklearn.metrics import mean_squared_error, r2_score, mean_absolute_error\n",
    "from matplotlib.font_manager import FontProperties\n",
    "import seaborn as sns\n",
    "# import matplotlib as mpl\n",
    "import matplotlib.pyplot as plt\n",
    "import importlib\n",
    "import HydroErr as he\n",
    "import os"
   ]
  },
  {
   "cell_type": "code",
   "execution_count": 177,
   "metadata": {},
   "outputs": [],
   "source": [
    "# Plotting parameters\n",
    "\n",
    "XSMALL_SIZE = 6\n",
    "SMALL_SIZE = 7\n",
    "MEDIUM_SIZE = 9\n",
    "BIGGER_SIZE = 12\n",
    "\n",
    "plt.rc('font', size=SMALL_SIZE)          # controls default text sizes\n",
    "plt.rc('axes', titlesize=SMALL_SIZE)     # fontsize of the axes title\n",
    "plt.rc('axes', labelsize=SMALL_SIZE)    # fontsize of the x and y labels\n",
    "plt.rc('xtick', labelsize=SMALL_SIZE)    # fontsize of the tick labels\n",
    "plt.rc('ytick', labelsize=SMALL_SIZE)    # fontsize of the tick labels\n",
    "plt.rc('legend', fontsize=SMALL_SIZE)    # legend fontsize\n",
    "plt.rc('axes', titlesize=SMALL_SIZE)  # fontsize of the figure title\n",
    "plt.rcParams['figure.dpi'] = 140"
   ]
  },
  {
   "cell_type": "code",
   "execution_count": 182,
   "metadata": {},
   "outputs": [],
   "source": [
    "# Import and format observed data (2003-2007 runoff)\n",
    "\n",
    "input_dir = config.velma_data\n",
    "results_dir = config.data_path.parents[0] / 'results' / 'ellsworth_baseline_03_07_21'\n",
    "\n",
    "runoff_start = pd.to_datetime('01-01-2003')\n",
    "runoff_end = pd.to_datetime('12-31-2007')\n",
    "nse_start = pd.to_datetime('01-01-2004')\n",
    "nse_end = pd.to_datetime('12-31-2007')\n",
    "\n",
    "start = pd.to_datetime('01-01-2004')\n",
    "end = pd.to_datetime('12-31-2007')\n",
    "\n",
    "# Stream temperature observations\n",
    "streamtemp_path = config.data_path / 'hydrology' / 'ellsworth' / 'wa_ecy_gauge' / 'stream_temp' / 'ells_streamtemp_2003_2008.csv'\n",
    "streamtemp_obs = pd.read_csv(streamtemp_path, usecols=['date', 'water_temp'], parse_dates=True, index_col=0)\n",
    "streamtemp_obs['doy'], streamtemp_obs['year'] = streamtemp_obs.index.dayofyear, streamtemp_obs.index.year\n",
    "streamtemp_obs = streamtemp_obs[(streamtemp_obs.index >= start) & (streamtemp_obs.index <= end)]\n",
    "\n",
    "# Stream temperature quality codes\n",
    "streamtemp_path = config.data_path  / 'hydrology' / 'ellsworth' / 'wa_ecy_gauge' / 'stream_temp' / 'ells_streamtemp_2003_2008.csv'\n",
    "stream_temp_quality = pd.read_csv(streamtemp_path, usecols=['date', 'quality'], parse_dates=True, index_col=0)\n",
    "stream_temp_quality['doy'], stream_temp_quality['year'] = stream_temp_quality.index.dayofyear, stream_temp_quality.index.year\n",
    "stream_temp_quality = stream_temp_quality[(stream_temp_quality.index >= start) & (stream_temp_quality.index <= end)]\n",
    "\n",
    "# Runoff observations\n",
    "runoff_path = input_dir / 'runoff' / 'ellsworth_Q_2003_2007_dummy.csv'\n",
    "runoff_obs = pd.read_csv(runoff_path, names=['runoff_obs'])\n",
    "runoff_obs.index = pd.date_range(runoff_start, runoff_end)\n",
    "runoff_obs['doy'], runoff_obs['year'] = runoff_obs.index.dayofyear, runoff_obs.index.year\n",
    "runoff_obs = runoff_obs[(runoff_obs.index >= start) & (runoff_obs.index <= end)]\n",
    "\n",
    "# Runoff quality codes\n",
    "flow_path = config.streamflow\n",
    "quality = pd.read_csv(flow_path, usecols=['Date', 'Quality'], parse_dates=True, index_col=0)\n",
    "quality = quality[(quality.index >= start) & (quality.index <= end)]\n",
    "\n",
    "# Precipitation\n",
    "precip_path = input_dir / 'precip' / 'PRISM_gauge_avg_ppt_2003_2019.csv'\n",
    "forcing_start = pd.to_datetime('01-01-2003')\n",
    "forcing_end = pd.to_datetime('12-31-2019')                     \n",
    "precip = pd.read_csv(precip_path, names=['precip'])\n",
    "precip.index = pd.date_range(forcing_start, forcing_end)\n",
    "precip['doy'], precip['year'] = precip.index.dayofyear, precip.index.year\n",
    "precip = precip[(precip.index >= start) & (precip.index <= end)]\n",
    "\n",
    "# Air temperature\n",
    "temp_path = input_dir / 'temp' / 'ellsworth_temp_2003_2019.csv'\n",
    "temp = pd.read_csv(temp_path, names=['temp'])\n",
    "temp.index = pd.date_range(forcing_start, forcing_end)\n",
    "temp['doy'], temp['year'] = temp.index.dayofyear, temp.index.year\n",
    "temp = temp[(temp.index >= start) & (temp.index <= end)]\n",
    "\n",
    "# Import VELMA outputs\n",
    "velma_results = pd.read_csv(results_dir / 'DailyResults.csv')\n",
    "\n",
    "# Format datetime of results\n",
    "jday_pad = velma_results['Day'].apply(lambda x: str(x).zfill(3))\n",
    "str_year = velma_results['Year'].apply(lambda x: str(x))\n",
    "velma_results['year_jday'] = str_year + jday_pad\n",
    "velma_results.index = pd.to_datetime(velma_results['year_jday'], format='%Y%j')\n",
    "velma_results = velma_results[(velma_results.index >= start) & (velma_results.index <= end)]"
   ]
  },
  {
   "cell_type": "code",
   "execution_count": 183,
   "metadata": {},
   "outputs": [],
   "source": [
    "# Get stream temperature from cell writer files\n",
    "\n",
    "# Get paths\n",
    "cell_paths = []\n",
    "for file in os.listdir(results_dir):\n",
    "    if file.startswith('Cell_'):\n",
    "        cell_paths.append(file)\n",
    "\n",
    "nodes = []\n",
    "for path in cell_paths:\n",
    "    nodes.append(path.split('_')[-1])\n",
    "\n",
    "cell_paths_sorted = [x for _,x in natsorted(zip(nodes,cell_paths))]\n",
    "\n",
    "cell_results = []\n",
    "for path in cell_paths_sorted:\n",
    "    cell_result = pd.read_csv(results_dir / path)\n",
    "    jday_pad = cell_result['Jday'].apply(lambda x: str(x).zfill(3))\n",
    "    str_year = cell_result['Year'].apply(lambda x: str(x))\n",
    "    cell_result['date'] = str_year + jday_pad\n",
    "    rng = pd.to_datetime(cell_result['date'], format='%Y%j')\n",
    "    cell_result.index = rng\n",
    "    cell_result = cell_result[(cell_result.index >= start) & (cell_result.index <= end)]\n",
    "    cell_results.append(cell_result)\n",
    "\n",
    "coords = pd.read_csv(results_dir.parents[0] / 'cell_writer_nodes_coords.txt', delimiter=',')"
   ]
  },
  {
   "cell_type": "code",
   "execution_count": 184,
   "metadata": {},
   "outputs": [],
   "source": [
    "# Convert to pivot tables\n",
    "\n",
    "cell_pivots = []\n",
    "for df in cell_results:\n",
    "    piv = pd.pivot_table(df, index=['Jday'], columns=['Year'], \n",
    "                         values='Water_Surface_Temperature(degrees_C)', dropna=False)\n",
    "    cell_pivots.append(piv)\n",
    "\n",
    "streamtemp_obs_yearly = pd.pivot_table(streamtemp_obs, index=['doy'], columns=['year'],\n",
    "                                   values='water_temp', dropna=False)\n",
    "\n",
    "runoff_sim_yearly = pd.pivot_table(velma_results, index=['Day'], columns=['Year'],\n",
    "                                   values='Runoff_All(mm/day)_Delineated_Average', dropna=False)\n",
    "\n",
    "runoff_obs_yearly = pd.pivot_table(runoff_obs, index=['doy'], columns=['year'],\n",
    "                                   values='runoff_obs', dropna=False)\n",
    "\n",
    "streamtemp1_sim_yearly = cell_pivots[0] "
   ]
  },
  {
   "cell_type": "markdown",
   "metadata": {},
   "source": [
    "## Plotting"
   ]
  },
  {
   "cell_type": "code",
   "execution_count": 186,
   "metadata": {},
   "outputs": [
    {
     "data": {
      "application/vnd.jupyter.widget-view+json": {
       "model_id": "f3b8bf1c699d42ef979abec0a4e31be9",
       "version_major": 2,
       "version_minor": 0
      },
      "text/plain": [
       "Canvas(toolbar=Toolbar(toolitems=[('Home', 'Reset original view', 'home', 'home'), ('Back', 'Back to previous …"
      ]
     },
     "metadata": {},
     "output_type": "display_data"
    }
   ],
   "source": [
    "# Observed vs. simulated stream temp for gauge\n",
    "years = streamtemp_obs_yearly.columns.get_level_values(0)\n",
    "fig, axes = plt.subplots(ncols=1, nrows=len(years), figsize=(6, 9))\n",
    "for col, year in enumerate(years):\n",
    "    streamtemp_obs_yearly.iloc[:, col].plot(ax=axes[col], label='Observed', linewidth=1)\n",
    "    streamtemp1_sim_yearly.iloc[:, col].plot(ax=axes[col], label='Simulated', linewidth=1)\n",
    "    axes[col].set_title(year)\n",
    "    axes[col].set_ylim([0, 20])\n",
    "axes[0].legend(loc='upper left', bbox_to_anchor=(0, 1.3), fancybox=True, ncol=2)\n",
    "axes[0].set_ylabel('Stream Temperature (C)')\n",
    "plt.tight_layout()"
   ]
  },
  {
   "cell_type": "markdown",
   "metadata": {},
   "source": [
    "### Comparing Penumbra vs. Standard VELMA stream temperature estimates"
   ]
  },
  {
   "cell_type": "code",
   "execution_count": 135,
   "metadata": {},
   "outputs": [],
   "source": [
    "# Get stream temperature from cell writer files\n",
    "\n",
    "# Get paths\n",
    "cell_paths_2 = []\n",
    "for file in os.listdir(results_dir.parents[0] / 'velma_streamtemp_nopenumbra_test'):\n",
    "    if file.startswith('Cell_'):\n",
    "        cell_paths_2.append(file)\n",
    "\n",
    "nodes_2 = []\n",
    "for path in cell_paths_2:\n",
    "    nodes_2.append(path.split('_')[-1])\n",
    "\n",
    "cell_paths_sorted_2 = [x for _,x in natsorted(zip(nodes, cell_paths))]\n",
    "\n",
    "cell_results_2 = []\n",
    "for path in cell_paths_sorted_2:\n",
    "    cell_result = pd.read_csv(results_dir.parents[0] / 'velma_streamtemp_nopenumbra_test' / path)\n",
    "    jday_pad = cell_result['Jday'].apply(lambda x: str(x).zfill(3))\n",
    "    str_year = cell_result['Year'].apply(lambda x: str(x))\n",
    "    cell_result['date'] = str_year + jday_pad\n",
    "    rng = pd.to_datetime(cell_result['date'], format='%Y%j')\n",
    "    cell_result.index = rng\n",
    "    cell_result = cell_result[(cell_result.index >= start) & (cell_result.index <= end)]\n",
    "    cell_results_2.append(cell_result)\n",
    "\n",
    "# Convert to pivot tables\n",
    "cell_pivots_2 = []\n",
    "for df in cell_results_2:\n",
    "    piv = pd.pivot_table(df, index=['Jday'], columns=['Year'], \n",
    "                         values='Water_Surface_Temperature(degrees_C)', dropna=False)\n",
    "    cell_pivots_2.append(piv)\n",
    "\n",
    "streamtemp1_sim_yearly_nopenumbra = cell_pivots_2[0]"
   ]
  },
  {
   "cell_type": "code",
   "execution_count": 146,
   "metadata": {},
   "outputs": [
    {
     "data": {
      "application/vnd.jupyter.widget-view+json": {
       "model_id": "410db6f93fd542548035259957fe2535",
       "version_major": 2,
       "version_minor": 0
      },
      "text/plain": [
       "Canvas(toolbar=Toolbar(toolitems=[('Home', 'Reset original view', 'home', 'home'), ('Back', 'Back to previous …"
      ]
     },
     "metadata": {},
     "output_type": "display_data"
    }
   ],
   "source": [
    "# Observed vs. simulated stream temp for gauge, penumbra vs no penumbra\n",
    "plt.close('all')\n",
    "years = streamtemp_obs_yearly.columns.get_level_values(0)\n",
    "years = [2004]\n",
    "fig, axes = plt.subplots(ncols=1, nrows=len(years), figsize=(6, 3))\n",
    "for col, year in enumerate(years):\n",
    "    streamtemp_obs_yearly.iloc[:, col].plot(ax=axes, label='Observed', linewidth=1)\n",
    "    streamtemp1_sim_yearly.iloc[:, col].plot(ax=axes, label='Simulated (Penumbra)', linewidth=1)\n",
    "    streamtemp1_sim_yearly_nopenumbra.iloc[:, col].plot(ax=axes, label='Simulated (Standard VELMA)', linewidth=1)\n",
    "    axes.set_title(year)\n",
    "    axes.set_ylim([0, 20])\n",
    "axes.legend(loc='upper left', bbox_to_anchor=(0, 1.3), fancybox=True, ncol=2)\n",
    "axes.set_ylabel('Stream Temperature (C)')\n",
    "plt.tight_layout()"
   ]
  },
  {
   "cell_type": "markdown",
   "metadata": {},
   "source": [
    "## Metrics"
   ]
  },
  {
   "cell_type": "code",
   "execution_count": 12,
   "metadata": {},
   "outputs": [
    {
     "data": {
      "text/plain": [
       "'RMSE: '"
      ]
     },
     "metadata": {},
     "output_type": "display_data"
    },
    {
     "data": {
      "text/plain": [
       "1.5181686108066401"
      ]
     },
     "metadata": {},
     "output_type": "display_data"
    },
    {
     "data": {
      "text/plain": [
       "'MAE: '"
      ]
     },
     "metadata": {},
     "output_type": "display_data"
    },
    {
     "data": {
      "text/plain": [
       "1.2183349649560118"
      ]
     },
     "metadata": {},
     "output_type": "display_data"
    },
    {
     "data": {
      "text/plain": [
       "'R-squared: '"
      ]
     },
     "metadata": {},
     "output_type": "display_data"
    },
    {
     "data": {
      "text/plain": [
       "0.724371719582275"
      ]
     },
     "metadata": {},
     "output_type": "display_data"
    }
   ],
   "source": [
    "streamtemps = pd.concat([streamtemp_obs.loc[:, 'water_temp'], \n",
    "                         cell_results[0].loc[:, 'Water_Surface_Temperature(degrees_C)']], axis=1).dropna()\n",
    "\n",
    "display('RMSE: ', np.sqrt(mean_squared_error(streamtemps.iloc[:, 0], streamtemps.iloc[:, 1])))\n",
    "display('MAE: ', mean_absolute_error(streamtemps.iloc[:, 0], streamtemps.iloc[:, 1]))\n",
    "display('R-squared: ', r2_score(streamtemps.iloc[:, 0], streamtemps.iloc[:, 1]))"
   ]
  },
  {
   "cell_type": "markdown",
   "metadata": {},
   "source": [
    "#### Applying a correction factor to the simulated stream temp, which overpredicts temp, especially in winter"
   ]
  },
  {
   "cell_type": "code",
   "execution_count": 17,
   "metadata": {},
   "outputs": [],
   "source": [
    "# Convert day of year to signal\n",
    "day = 24 * 60 * 60\n",
    "year = 365.2425 * day\n",
    "df = streamtemps.copy()\n",
    "timestamp_secs = pd.to_datetime(df.index)\n",
    "timestamp_secs = timestamp_secs.map(datetime.datetime.timestamp)\n",
    "df['year_cos'] = np.cos(timestamp_secs * (2 * np.pi / year))\n",
    "df['year_sin'] = np.sin(timestamp_secs * (2 * np.pi / year))"
   ]
  },
  {
   "cell_type": "code",
   "execution_count": 18,
   "metadata": {},
   "outputs": [],
   "source": [
    "# Test/train split\n",
    "from sklearn.model_selection import train_test_split\n",
    "from sklearn.linear_model import LinearRegression\n",
    "\n",
    "X = df.copy()\n",
    "y = X.pop('water_temp')\n",
    "X_train, X_test, y_train, y_test = train_test_split(X, y, test_size=0.33, random_state=42)\n",
    "\n",
    "# Predict\n",
    "reg = LinearRegression().fit(X_train, y_train)\n",
    "y_pred = reg.predict(X_test)"
   ]
  },
  {
   "cell_type": "code",
   "execution_count": 19,
   "metadata": {},
   "outputs": [
    {
     "data": {
      "text/plain": [
       "'RMSE: '"
      ]
     },
     "metadata": {},
     "output_type": "display_data"
    },
    {
     "data": {
      "text/plain": [
       "0.9025515376229502"
      ]
     },
     "metadata": {},
     "output_type": "display_data"
    },
    {
     "data": {
      "text/plain": [
       "'MAE: '"
      ]
     },
     "metadata": {},
     "output_type": "display_data"
    },
    {
     "data": {
      "text/plain": [
       "0.7003860219197887"
      ]
     },
     "metadata": {},
     "output_type": "display_data"
    },
    {
     "data": {
      "text/plain": [
       "'R-squared: '"
      ]
     },
     "metadata": {},
     "output_type": "display_data"
    },
    {
     "data": {
      "text/plain": [
       "0.9035997091288158"
      ]
     },
     "metadata": {},
     "output_type": "display_data"
    }
   ],
   "source": [
    "# Metrics\n",
    "display('RMSE: ', np.sqrt(mean_squared_error(y_test, y_pred)))\n",
    "display('MAE: ', mean_absolute_error(y_test, y_pred))\n",
    "display('R-squared: ', r2_score(y_test, y_pred))"
   ]
  },
  {
   "cell_type": "code",
   "execution_count": 20,
   "metadata": {},
   "outputs": [],
   "source": [
    "# Apply correction model to original simulated stream temperatures\n",
    "\n",
    "y_corrected = reg.predict(X)\n",
    "\n",
    "streamtemp_sim_corrected = pd.DataFrame(np.column_stack([y_corrected, X]), \n",
    "                                        columns=['water_temp_corrected', 'Water_Surface_Temperature(degrees_C)', \n",
    "                                                 'year_cos', 'year_sin'], index=streamtemps.index)\n",
    "streamtemp_sim_corrected['doy'], streamtemp_sim_corrected['year'] = streamtemp_sim_corrected.index.dayofyear, streamtemp_sim_corrected.index.year\n",
    "corrected_piv = pd.pivot_table(streamtemp_sim_corrected, index=['doy'], columns=['year'], \n",
    "                         values='water_temp_corrected', dropna=False)"
   ]
  },
  {
   "cell_type": "code",
   "execution_count": 21,
   "metadata": {},
   "outputs": [
    {
     "data": {
      "application/vnd.jupyter.widget-view+json": {
       "model_id": "c4c66c0625bf4404b4cdd029c1e11cc3",
       "version_major": 2,
       "version_minor": 0
      },
      "text/plain": [
       "Canvas(toolbar=Toolbar(toolitems=[('Home', 'Reset original view', 'home', 'home'), ('Back', 'Back to previous …"
      ]
     },
     "metadata": {},
     "output_type": "display_data"
    }
   ],
   "source": [
    "# Observed vs. simulated (corrected) stream temp for gauge\n",
    "years = streamtemp_obs_yearly.columns.get_level_values(0)\n",
    "fig, axes = plt.subplots(ncols=1, nrows=len(years), figsize=(6, 9))\n",
    "for col, year in enumerate(years):\n",
    "    streamtemp_obs_yearly.iloc[:, col].plot(ax=axes[col], label='Observed', linewidth=1)\n",
    "    corrected_piv.iloc[:, col].plot(ax=axes[col], label='Simulated', linewidth=1)\n",
    "    axes[col].set_title(year)\n",
    "    axes[col].set_ylim([0, 20])\n",
    "axes[0].legend(loc='upper left', bbox_to_anchor=(0, 1.3), fancybox=True, ncol=2)\n",
    "axes[0].set_ylabel('Stream Temperature (C)')\n",
    "plt.tight_layout()"
   ]
  },
  {
   "cell_type": "code",
   "execution_count": 22,
   "metadata": {},
   "outputs": [
    {
     "data": {
      "text/plain": [
       "'RMSE: '"
      ]
     },
     "metadata": {},
     "output_type": "display_data"
    },
    {
     "data": {
      "text/plain": [
       "0.9024858443849972"
      ]
     },
     "metadata": {},
     "output_type": "display_data"
    },
    {
     "data": {
      "text/plain": [
       "'MAE: '"
      ]
     },
     "metadata": {},
     "output_type": "display_data"
    },
    {
     "data": {
      "text/plain": [
       "0.6996076355433547"
      ]
     },
     "metadata": {},
     "output_type": "display_data"
    },
    {
     "data": {
      "text/plain": [
       "'R-squared: '"
      ]
     },
     "metadata": {},
     "output_type": "display_data"
    },
    {
     "data": {
      "text/plain": [
       "0.9025987439791319"
      ]
     },
     "metadata": {},
     "output_type": "display_data"
    }
   ],
   "source": []
  },
  {
   "cell_type": "markdown",
   "metadata": {},
   "source": [
    "#### Much better. But unfortunately, incorrect stream temperature in VELMA probably means the stream chemistry will be incorrect as well. So it will be better if we can find a way to fix it natively in the model"
   ]
  },
  {
   "cell_type": "markdown",
   "metadata": {},
   "source": [
    "## Using statsmodels and getting confidence intervals for correction"
   ]
  },
  {
   "cell_type": "code",
   "execution_count": 36,
   "metadata": {},
   "outputs": [],
   "source": [
    "from statsmodels.formula.api import ols"
   ]
  },
  {
   "cell_type": "code",
   "execution_count": 46,
   "metadata": {},
   "outputs": [
    {
     "name": "stdout",
     "output_type": "stream",
     "text": [
      "                            OLS Regression Results                            \n",
      "==============================================================================\n",
      "Dep. Variable:                      y   R-squared:                       0.903\n",
      "Model:                            OLS   Adj. R-squared:                  0.902\n",
      "Method:                 Least Squares   F-statistic:                     4203.\n",
      "Date:                Wed, 17 Feb 2021   Prob (F-statistic):               0.00\n",
      "Time:                        16:53:00   Log-Likelihood:                -1795.2\n",
      "No. Observations:                1364   AIC:                             3598.\n",
      "Df Residuals:                    1360   BIC:                             3619.\n",
      "Df Model:                           3                                         \n",
      "Covariance Type:            nonrobust                                         \n",
      "==============================================================================\n",
      "                 coef    std err          t      P>|t|      [0.025      0.975]\n",
      "------------------------------------------------------------------------------\n",
      "Intercept     -0.2665      0.284     -0.940      0.347      -0.823       0.290\n",
      "X[0]           0.9646      0.027     35.105      0.000       0.911       1.019\n",
      "X[1]          -1.1915      0.071    -16.760      0.000      -1.331      -1.052\n",
      "X[2]          -0.9497      0.039    -24.045      0.000      -1.027      -0.872\n",
      "==============================================================================\n",
      "Omnibus:                       79.919   Durbin-Watson:                   0.493\n",
      "Prob(Omnibus):                  0.000   Jarque-Bera (JB):              122.247\n",
      "Skew:                          -0.478   Prob(JB):                     2.85e-27\n",
      "Kurtosis:                       4.112   Cond. No.                         124.\n",
      "==============================================================================\n",
      "\n",
      "Notes:\n",
      "[1] Standard Errors assume that the covariance matrix of the errors is correctly specified.\n"
     ]
    }
   ],
   "source": [
    "data = pd.concat([X, y], axis=1)\n",
    "model = ols('y ~ X', data).fit()\n",
    "print(model.summary())"
   ]
  },
  {
   "cell_type": "code",
   "execution_count": null,
   "metadata": {},
   "outputs": [],
   "source": [
    "display('RMSE: ', np.sqrt(mean_squared_error(y, y_corrected)))\n",
    "display('MAE: ', mean_absolute_error(y, y_corrected))\n",
    "display('R-squared: ', r2_score(y, y_corrected))"
   ]
  },
  {
   "cell_type": "code",
   "execution_count": 228,
   "metadata": {},
   "outputs": [],
   "source": [
    "# Calculate confidence intervals\n",
    "\n",
    "data_dummy = data.copy()\n",
    "data_dummy.insert(0, 'dummy', 1)\n",
    "data_dummy = data_dummy.drop('water_temp', axis=1)\n",
    "\n",
    "ci_values95 = model.conf_int(alpha=0.05, cols=None)\n",
    "ci_lower95 = (data_dummy * ci_values95.iloc[:, 0].tolist()).sum(axis=1)\n",
    "ci_lower95.name = 'ci_lower95'\n",
    "ci_upper95 = (data_dummy * ci_values95.iloc[:, 1].tolist()).sum(axis=1)\n",
    "ci_upper95.name = 'ci_upper95'\n",
    "\n",
    "ci_values99 = model.conf_int(alpha=0.01, cols=None)\n",
    "ci_lower99 = (data_dummy * ci_values99.iloc[:, 0].tolist()).sum(axis=1)\n",
    "ci_lower99.name = 'ci_lower99'\n",
    "ci_upper99 = (data_dummy * ci_values99.iloc[:, 1].tolist()).sum(axis=1)\n",
    "ci_upper99.name = 'ci_upper99'\n",
    "\n",
    "data_ci = pd.concat([data, ci_lower95, ci_upper95, ci_lower99, ci_upper99, streamtemp_sim_corrected.loc[:, 'water_temp_corrected']],\n",
    "                    axis=1)\n",
    "\n",
    "ci_lower_yearly95 = pd.pivot_table(data_ci, index=data_ci.index.dayofyear, columns=data_ci.index.year, \n",
    "                         values='ci_lower95', dropna=False)\n",
    "ci_upper_yearly95 = pd.pivot_table(data_ci, index=data_ci.index.dayofyear, columns=data_ci.index.year, \n",
    "                         values='ci_upper95', dropna=False)\n",
    "ci_lower_yearly99 = pd.pivot_table(data_ci, index=data_ci.index.dayofyear, columns=data_ci.index.year, \n",
    "                         values='ci_lower99', dropna=False)\n",
    "ci_upper_yearly99 = pd.pivot_table(data_ci, index=data_ci.index.dayofyear, columns=data_ci.index.year, \n",
    "                         values='ci_upper99', dropna=False)"
   ]
  },
  {
   "cell_type": "code",
   "execution_count": 235,
   "metadata": {},
   "outputs": [
    {
     "data": {
      "application/vnd.jupyter.widget-view+json": {
       "model_id": "453546ea93cb42d38dfe92d79d958620",
       "version_major": 2,
       "version_minor": 0
      },
      "text/plain": [
       "Canvas(toolbar=Toolbar(toolitems=[('Home', 'Reset original view', 'home', 'home'), ('Back', 'Back to previous …"
      ]
     },
     "metadata": {},
     "output_type": "display_data"
    }
   ],
   "source": [
    "# Observed vs. simulated (corrected) stream temp for gauge, with CI\n",
    "years = streamtemp_obs_yearly.columns.get_level_values(0)\n",
    "fig, axes = plt.subplots(ncols=1, nrows=len(years), figsize=(6, 9))\n",
    "for col, year in enumerate(years):\n",
    "    streamtemp_obs_yearly.iloc[:, col].plot(ax=axes[col], label='Observed', color='tab:blue', linewidth=1)\n",
    "    corrected_piv.iloc[:, col].plot(ax=axes[col], label='Simulated corrected', color='orangered', linewidth=1)\n",
    "    axes[col].fill_between(ci_lower_yearly95.index, \n",
    "                           ci_lower_yearly95.iloc[:, col],\n",
    "                           ci_upper_yearly95.iloc[:, col], color='tab:orange', alpha=0.6, label='0.95 CI', edgecolor=None)\n",
    "    axes[col].fill_between(ci_lower_yearly99.index, \n",
    "                           ci_lower_yearly99.iloc[:, col],\n",
    "                           ci_upper_yearly99.iloc[:, col], color='tab:orange', alpha=0.4, label='0.99 CI', edgecolor=None)\n",
    "    axes[col].set_title(year)\n",
    "    axes[col].set_ylim([0, 20])\n",
    "axes[0].legend(loc='upper left', bbox_to_anchor=(0, 1.3), fancybox=True, ncol=4)\n",
    "axes[0].set_ylabel('Stream Temperature (C)')\n",
    "plt.suptitle('Corrected stream temperature with 95% confidence intervals')\n",
    "plt.tight_layout(rect=[0, 0, 1, 0.99])"
   ]
  },
  {
   "cell_type": "code",
   "execution_count": null,
   "metadata": {},
   "outputs": [],
   "source": []
  },
  {
   "cell_type": "markdown",
   "metadata": {},
   "source": [
    "## Stream temp and air temp"
   ]
  },
  {
   "cell_type": "code",
   "execution_count": 236,
   "metadata": {},
   "outputs": [
    {
     "data": {
      "application/vnd.jupyter.widget-view+json": {
       "model_id": "41d857a23195447bbe13598b1e21fc00",
       "version_major": 2,
       "version_minor": 0
      },
      "text/plain": [
       "Canvas(toolbar=Toolbar(toolitems=[('Home', 'Reset original view', 'home', 'home'), ('Back', 'Back to previous …"
      ]
     },
     "metadata": {},
     "output_type": "display_data"
    }
   ],
   "source": [
    "temp_yearly = pd.pivot_table(temp, index='doy', columns='year', values='temp', dropna=False)\n",
    "\n",
    "# Observed stream temp vs air temp\n",
    "years = streamtemp_obs_yearly.columns.get_level_values(0)\n",
    "fig, axes = plt.subplots(ncols=1, nrows=len(years), figsize=(6, 9))\n",
    "for col, year in enumerate(years):\n",
    "    streamtemp_obs_yearly.iloc[:, col].plot(ax=axes[col], label='Observed stream temp', linewidth=1)\n",
    "    corrected_piv.iloc[:, col].plot(ax=axes[col], label='Simulated corrected stream temp', linewidth=1)\n",
    "    temp_yearly.iloc[:, col].plot(ax=axes[col], label='Air temp', linewidth=0.5)\n",
    "    axes[col].set_title(year)\n",
    "    axes[col].set_ylim([-5, 25])\n",
    "axes[0].legend(loc='upper left', bbox_to_anchor=(0, 1.3), fancybox=True, ncol=3)\n",
    "axes[0].set_ylabel('Temperature (C)')\n",
    "plt.suptitle('Stream and air temperature')\n",
    "plt.tight_layout(rect=[0, 0, 1, 0.99])"
   ]
  },
  {
   "cell_type": "markdown",
   "metadata": {},
   "source": [
    "## Stream temp and quality flags"
   ]
  },
  {
   "cell_type": "code",
   "execution_count": 207,
   "metadata": {},
   "outputs": [
    {
     "data": {
      "application/vnd.jupyter.widget-view+json": {
       "model_id": "acc6b2a9dbad485f81cec6cfc6395da5",
       "version_major": 2,
       "version_minor": 0
      },
      "text/plain": [
       "Canvas(toolbar=Toolbar(toolitems=[('Home', 'Reset original view', 'home', 'home'), ('Back', 'Back to previous …"
      ]
     },
     "metadata": {},
     "output_type": "display_data"
    }
   ],
   "source": [
    "# Add quality scores below plot\n",
    "\n",
    "colors = sns.color_palette('tab10', 10)\n",
    "\n",
    "stream_temp_quality_yearly = pd.pivot_table(stream_temp_quality, index='doy', columns='year', values='quality', dropna=False)\n",
    "\n",
    "quality2 = stream_temp_quality_yearly.replace([2, 3, 140, 165, 255],\n",
    "                                        [-2, np.nan, np.nan, np.nan, np.nan])\n",
    "quality3 = stream_temp_quality_yearly.replace([2, 3, 140, 165, 255],\n",
    "                                        [np.nan, -2, np.nan, np.nan, np.nan])\n",
    "quality140 = stream_temp_quality_yearly.replace([2, 3, 140, 165, 255],\n",
    "                                        [np.nan, np.nan, -2, np.nan, np.nan])\n",
    "quality165 = stream_temp_quality_yearly.replace([2, 3, 140, 165, 255],\n",
    "                                         [np.nan, np.nan, np.nan, -2, np.nan])\n",
    "quality255 = stream_temp_quality_yearly.replace([2, 3, 140, 165, 255],\n",
    "                                        [np.nan, np.nan, np.nan, np.nan, -2])\n",
    "\n",
    "years = streamtemp_obs_yearly.columns.get_level_values(0)\n",
    "fig, axes = plt.subplots(ncols=1, nrows=len(years), figsize=(6, 9))\n",
    "\n",
    "for col, year in enumerate(years):\n",
    "#     ax2 = axes[col].twinx()\n",
    "#     precip_yearly.iloc[:, col].plot(ax=ax2, label='Precip', color='tab:green', linewidth=0.5)\n",
    "#     if col == 0:\n",
    "#         ax2.set_ylabel('Precipitation (mm/day)')\n",
    "#         ax2.legend(loc='upper right', bbox_to_anchor=(1, 1.3), fancybox=True, ncol=1)\n",
    "    quality2.iloc[:, col].plot(ax=axes[col], color=colors[0], linewidth=2, label='2: ?')\n",
    "    quality3.iloc[:, col].plot(ax=axes[col], color=colors[1], linewidth=2, label='3: ?')\n",
    "    quality140.iloc[:, col].plot(ax=axes[col], color=colors[2], linewidth=2, label='140: Data not yet checked')\n",
    "    quality165.iloc[:, col].plot(ax=axes[col], color=colors[3], linewidth=2, label='165: ?')\n",
    "    quality255.iloc[:, col].plot(ax=axes[col], color=colors[4], linewidth=2, label='255: Incomplete day')\n",
    "    streamtemp_obs_yearly.iloc[:, col].plot(ax=axes[col], label='Observed', linewidth=1)\n",
    "    corrected_piv.iloc[:, col].plot(ax=axes[col], label='Simulated (Penumbra)', linewidth=1)\n",
    "#     ax2.invert_yaxis()\n",
    "    axes[col].set_ylim([-3, 20])\n",
    "    axes[col].set_title(year)\n",
    "axes[0].legend(loc='upper left', bbox_to_anchor=(0, 1.9), fancybox=True, ncol=2)\n",
    "axes[0].set_ylabel('Runoff (mm/day)')\n",
    "fig.suptitle('Observed vs. Simulated (Penumbra) stream temp, corrected with quality flags')\n",
    "plt.tight_layout()\n",
    "# plt.savefig('baseline_runoffs_qaflags.png', dpi=300)\n",
    "\n"
   ]
  },
  {
   "cell_type": "markdown",
   "metadata": {},
   "source": [
    "140 - Data not yet checked\n",
    "255 - Incomplete day\n"
   ]
  }
 ],
 "metadata": {
  "kernelspec": {
   "display_name": "tnc_velma",
   "language": "python",
   "name": "tnc_velma"
  },
  "language_info": {
   "codemirror_mode": {
    "name": "ipython",
    "version": 3
   },
   "file_extension": ".py",
   "mimetype": "text/x-python",
   "name": "python",
   "nbconvert_exporter": "python",
   "pygments_lexer": "ipython3",
   "version": "3.7.8"
  }
 },
 "nbformat": 4,
 "nbformat_minor": 4
}
