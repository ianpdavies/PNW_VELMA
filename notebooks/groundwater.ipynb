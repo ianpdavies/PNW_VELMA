{
 "cells": [
  {
   "cell_type": "markdown",
   "metadata": {},
   "source": [
    "# Estimating groundwater storage"
   ]
  },
  {
   "cell_type": "code",
   "execution_count": 1,
   "metadata": {},
   "outputs": [],
   "source": [
    "%matplotlib widget\n",
    "\n",
    "import __init__\n",
    "import scripts.config as config\n",
    "import numpy as np\n",
    "import pandas as pd\n",
    "import tempfile\n",
    "import datetime\n",
    "from sklearn.svm import SVR\n",
    "import geopandas as gpd\n",
    "from sklearn.metrics import mean_squared_error, r2_score, mean_absolute_error\n",
    "from matplotlib.font_manager import FontProperties\n",
    "import seaborn as sns\n",
    "# import matplotlib as mpl\n",
    "import matplotlib.pyplot as plt\n",
    "import importlib\n",
    "import HydroErr as he"
   ]
  },
  {
   "cell_type": "code",
   "execution_count": 2,
   "metadata": {},
   "outputs": [],
   "source": [
    "# Plotting parameters\n",
    "\n",
    "XSMALL_SIZE = 6\n",
    "SMALL_SIZE = 7\n",
    "MEDIUM_SIZE = 9\n",
    "BIGGER_SIZE = 12\n",
    "\n",
    "plt.rc('font', size=SMALL_SIZE)          # controls default text sizes\n",
    "plt.rc('axes', titlesize=SMALL_SIZE)     # fontsize of the axes title\n",
    "plt.rc('axes', labelsize=SMALL_SIZE)    # fontsize of the x and y labels\n",
    "plt.rc('xtick', labelsize=SMALL_SIZE)    # fontsize of the tick labels\n",
    "plt.rc('ytick', labelsize=SMALL_SIZE)    # fontsize of the tick labels\n",
    "plt.rc('legend', fontsize=SMALL_SIZE)    # legend fontsize\n",
    "plt.rc('axes', titlesize=SMALL_SIZE)  # fontsize of the figure title\n",
    "plt.rcParams['figure.dpi'] = 140"
   ]
  },
  {
   "cell_type": "code",
   "execution_count": 3,
   "metadata": {},
   "outputs": [],
   "source": [
    "# Import and format observed data (2003-2007 runoff)\n",
    "\n",
    "input_dir = config.velma_data\n",
    "results_dir = config.data_path.parents[0] / 'results' / 'ellsworth_baseline_03_07_12'\n",
    "\n",
    "runoff_path = input_dir / 'runoff' / 'ellsworth_Q_2003_2007_dummy.csv'\n",
    "runoff_start = pd.to_datetime('01-01-2003')\n",
    "runoff_end = pd.to_datetime('12-31-2007')\n",
    "nse_start = pd.to_datetime('01-01-2004')\n",
    "nse_end = pd.to_datetime('12-31-2007')\n",
    "\n",
    "runoff_obs = pd.read_csv(runoff_path, names=['runoff_obs'])\n",
    "runoff_obs.index = pd.date_range(runoff_start, runoff_end)\n",
    "runoff_obs['doy'], runoff_obs['year'] = runoff_obs.index.dayofyear, runoff_obs.index.year\n",
    "runoff_obs = runoff_obs[(runoff_obs.index >= nse_start) & (runoff_obs.index <= nse_end)]\n",
    "\n",
    "flow_path = config.streamflow\n",
    "quality = pd.read_csv(flow_path, usecols=['Date', 'Quality'], parse_dates=True, index_col=0)\n",
    "quality = quality[(quality.index >= nse_start) & (quality.index <= nse_end)]\n",
    "\n",
    "precip_path = input_dir / 'precip' / 'PRISM_gauge_avg_ppt_2003_2019.csv'\n",
    "forcing_start = pd.to_datetime('01-01-2003')\n",
    "forcing_end = pd.to_datetime('12-31-2019')                     \n",
    "precip = pd.read_csv(precip_path, names=['precip'])\n",
    "precip.index = pd.date_range(forcing_start, forcing_end)\n",
    "precip['doy'], precip['year'] = precip.index.dayofyear, precip.index.year\n",
    "precip = precip[(precip.index >= nse_start) & (precip.index <= nse_end)]\n",
    "\n",
    "temp_path = input_dir / 'temp' / 'ellsworth_temp_2003_2019.csv'\n",
    "temp = pd.read_csv(temp_path, names=['temp'])\n",
    "temp.index = pd.date_range(forcing_start, forcing_end)\n",
    "temp['doy'], temp['year'] = temp.index.dayofyear, temp.index.year\n",
    "temp = temp[(temp.index >= nse_start) & (temp.index <= nse_end)]\n",
    "\n",
    "# Import VELMA outputs\n",
    "velma_results = pd.read_csv(results_dir / 'DailyResults.csv')\n",
    "\n",
    "# Format datetime of results\n",
    "jday_pad = velma_results['Day'].apply(lambda x: str(x).zfill(3))\n",
    "str_year = velma_results['Year'].apply(lambda x: str(x))\n",
    "velma_results['year_jday'] = str_year + jday_pad\n",
    "velma_results.index = pd.to_datetime(velma_results['year_jday'], format='%Y%j')\n",
    "velma_results = velma_results[(velma_results.index >= nse_start) & (velma_results.index <= nse_end)]"
   ]
  },
  {
   "cell_type": "markdown",
   "metadata": {},
   "source": [
    "## Calculating runoff ratio"
   ]
  },
  {
   "cell_type": "markdown",
   "metadata": {},
   "source": [
    "#### Removing quality flagged values"
   ]
  },
  {
   "cell_type": "code",
   "execution_count": 9,
   "metadata": {},
   "outputs": [],
   "source": [
    "runoff_sim = velma_results['Runoff_All(mm/day)_Delineated_Average']\n",
    "\n",
    "df = pd.concat([runoff_sim, runoff_obs, precip.loc[:, 'precip'], quality], axis=1)\n",
    "df_edited_precip = df.drop(df[(df['Quality'] == 160) | (df['Quality'] == 161) | (df['Quality'] == 179) | (df['Quality'] == 254)].index)\n",
    "\n",
    "obs_yearly = pd.pivot_table(df_edited_precip[['runoff_obs', 'doy', 'year']], \n",
    "                            index=['doy'], \n",
    "                            columns=['year'], \n",
    "                            values=['runoff_obs'])\n",
    "\n",
    "precip_yearly_edited = pd.pivot_table(df_edited_precip[['precip', 'doy', 'year']], \n",
    "                            index=['doy'], \n",
    "                            columns=['year'], \n",
    "                            values=['precip'])"
   ]
  },
  {
   "cell_type": "code",
   "execution_count": 10,
   "metadata": {},
   "outputs": [
    {
     "data": {
      "text/plain": [
       "'yearly runoff_ratios: '"
      ]
     },
     "metadata": {},
     "output_type": "display_data"
    },
    {
     "data": {
      "text/plain": [
       "array([0.98255467, 0.9183338 , 0.97763636, 1.05792431])"
      ]
     },
     "metadata": {},
     "output_type": "display_data"
    }
   ],
   "source": [
    "display('yearly runoff_ratios: ', \n",
    "        np.divide(obs_yearly.sum(skipna=True).tolist(), \n",
    "                  precip_yearly_edited.sum(skipna=True).tolist()))"
   ]
  },
  {
   "cell_type": "markdown",
   "metadata": {},
   "source": [
    "## Calculate groundwater storage\n",
    "GW storage = precip - (runoff + evapotranspiration)"
   ]
  },
  {
   "cell_type": "code",
   "execution_count": 41,
   "metadata": {},
   "outputs": [],
   "source": [
    "cig_data_dir = config.data_path / 'precip' / 'VIC_WRF_EllsworthCr'\n",
    "cig_file = 'flux_46.40625_-123.90625'\n",
    "cig_cols = [\"YEAR\",\"MONTH\",\"DAY\",\"HOUR\",\"OUT_PREC\",\"OUT_PET_SHORT\",\n",
    "            \"OUT_SWE\",\"OUT_EVAP\",\"OUT_RUNOFF\",\"OUT_BASEFLOW\",\n",
    "            \"OUT_SOIL_MOIST0\", \"OUT_SOIL_MOIST1\",\"OUT_SOIL_MOIST2\"]\n",
    "pnnl_hist = pd.read_csv(cig_data_dir / 'pnnl_historical' / 'sim0' / cig_file, \n",
    "                        names=cig_cols, delimiter='\\t', parse_dates={'DATE': ['YEAR', 'MONTH', 'DAY']},\n",
    "                       index_col=0)\n",
    "\n",
    "# Get daily sums\n",
    "pnnl_hist_sum = pnnl_hist.groupby(pnnl_hist.index).sum()\n",
    "\n",
    "pnnl_hist_sum_04_07 = pnnl_hist_sum[(pnnl_hist_sum.index >= nse_start) & (pnnl_hist_sum.index <= nse_end)]"
   ]
  },
  {
   "cell_type": "code",
   "execution_count": 69,
   "metadata": {},
   "outputs": [
    {
     "data": {
      "text/plain": [
       "count    1307.000000\n",
       "mean       -1.161710\n",
       "std         7.228315\n",
       "min       -33.185699\n",
       "25%        -4.369046\n",
       "50%        -2.601002\n",
       "75%         0.432998\n",
       "max        64.040287\n",
       "Name: gw, dtype: float64"
      ]
     },
     "execution_count": 69,
     "metadata": {},
     "output_type": "execute_result"
    }
   ],
   "source": [
    "df = pd.concat([runoff_sim, runoff_obs, precip.loc[:, 'precip'], pnnl_hist_sum_04_07.loc[:, 'OUT_EVAP'],\n",
    "                pnnl_hist_sum_04_07.loc[:, 'OUT_PREC'], quality], axis=1)\n",
    "df_edited = df.drop(df[(df['Quality'] == 160) | (df['Quality'] == 161) | (df['Quality'] == 179) | (df['Quality'] == 254)].index)\n",
    "\n",
    "df_edited['gw'] = df_edited['precip'] - (df_edited['runoff_obs'] + df['OUT_EVAP'])\n",
    "df_edited['gw'].describe()"
   ]
  },
  {
   "cell_type": "code",
   "execution_count": 70,
   "metadata": {},
   "outputs": [],
   "source": [
    "df_edited['doy'], df_edited['year'] = df_edited.index.dayofyear, df_edited.index.year\n",
    "precip_yearly = pd.pivot_table(df_edited, index=['doy'], columns=['year'], values=['precip'])\n",
    "gw_yearly = pd.pivot_table(df_edited, index=['doy'], columns=['year'], values=['gw'])\n",
    "runoff_obs_yearly = pd.pivot_table(df_edited, index=['doy'], columns=['year'], values=['runoff_obs'])\n",
    "et_yearly = pd.pivot_table(df_edited, index=['doy'], columns=['year'], values=['OUT_EVAP'])\n",
    "precip2_yearly = pd.pivot_table(df_edited, index=['doy'], columns=['year'], values=['OUT_PREC'])"
   ]
  },
  {
   "cell_type": "code",
   "execution_count": 72,
   "metadata": {},
   "outputs": [
    {
     "data": {
      "application/vnd.jupyter.widget-view+json": {
       "model_id": "b30d910320824412a49059532211d2b9",
       "version_major": 2,
       "version_minor": 0
      },
      "text/plain": [
       "Canvas(toolbar=Toolbar(toolitems=[('Home', 'Reset original view', 'home', 'home'), ('Back', 'Back to previous …"
      ]
     },
     "metadata": {},
     "output_type": "display_data"
    }
   ],
   "source": [
    "# Observed vs. simulated runoff\n",
    "years = precip_yearly.columns.get_level_values(1)\n",
    "fig, axes = plt.subplots(ncols=1, nrows=len(years), figsize=(6, 9))\n",
    "for col, year in enumerate(years):\n",
    "#     precip_yearly.iloc[:, col].plot(ax=axes[col], label='Precipitation', linewidth=1)\n",
    "    precip2_yearly.iloc[:, col].plot(ax=axes[col], label='Precipitation2', linewidth=1)\n",
    "#     gw_yearly.iloc[:, col].plot(ax=axes[col], label='Groundwater storage', linewidth=1)\n",
    "    runoff_obs_yearly.iloc[:, col].plot(ax=axes[col], label='Observed runoff', linewidth=1)\n",
    "#     et_yearly.iloc[:, col].plot(ax=axes[col], label='Evapotranspiration', linewidth=1)\n",
    "    axes[col].set_title(year)\n",
    "    axes[col].set_ylim([0, 80])\n",
    "axes[0].legend(loc='upper left', bbox_to_anchor=(0, 1.3), fancybox=True, ncol=2)\n",
    "axes[0].set_ylabel('mm/day')\n",
    "plt.tight_layout()"
   ]
  },
  {
   "cell_type": "code",
   "execution_count": 77,
   "metadata": {},
   "outputs": [],
   "source": [
    "# Export CIG precipitation\n",
    "pnnl_hist_sum_03_19 = pnnl_hist_sum[(pnnl_hist_sum.index >= pd.to_datetime('2003-01-01')) & \n",
    "                                    (pnnl_hist_sum.index <= pd.to_datetime('2019-12-31'))]\n",
    "precip2 = pnnl_hist_sum_03_19.loc[:, 'OUT_PREC']\n",
    "outfile = str(config.velma_data / 'precip' / 'ellsworth_VIC_WRF_precip_03_19.csv')\n",
    "precip2.to_csv(outfile, header=False, index=False)"
   ]
  },
  {
   "cell_type": "markdown",
   "metadata": {},
   "source": [
    "## Groundwater storage estimation using PML data"
   ]
  },
  {
   "cell_type": "code",
   "execution_count": 73,
   "metadata": {},
   "outputs": [],
   "source": [
    "# pd.read_csv(config.data_path / 'precip' / 'ellsworth' / 'pml_et_2002_2017_daily.csv')"
   ]
  }
 ],
 "metadata": {
  "kernelspec": {
   "display_name": "tnc_velma",
   "language": "python",
   "name": "tnc_velma"
  },
  "language_info": {
   "codemirror_mode": {
    "name": "ipython",
    "version": 3
   },
   "file_extension": ".py",
   "mimetype": "text/x-python",
   "name": "python",
   "nbconvert_exporter": "python",
   "pygments_lexer": "ipython3",
   "version": "3.7.8"
  }
 },
 "nbformat": 4,
 "nbformat_minor": 4
}
