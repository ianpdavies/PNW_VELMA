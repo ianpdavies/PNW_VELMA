{
 "cells": [
  {
   "cell_type": "markdown",
   "metadata": {},
   "source": [
    "# Scaling historical climate normals to 2100 using GCM projections"
   ]
  },
  {
   "cell_type": "code",
   "execution_count": 162,
   "metadata": {},
   "outputs": [],
   "source": [
    "%matplotlib widget\n",
    "\n",
    "import __init__\n",
    "import scripts.config as config\n",
    "import numpy as np\n",
    "import pandas as pd\n",
    "import tempfile\n",
    "import datetime\n",
    "from sklearn.svm import SVR\n",
    "from natsort import natsorted\n",
    "import geopandas as gpd\n",
    "from sklearn.metrics import mean_squared_error, r2_score, mean_absolute_error\n",
    "from sklearn.model_selection import train_test_split\n",
    "from matplotlib.font_manager import FontProperties\n",
    "import seaborn as sns\n",
    "# import matplotlib as mpl\n",
    "import matplotlib.pyplot as plt\n",
    "import importlib\n",
    "import HydroErr as he\n",
    "import os\n",
    "import statsmodels.api as sm"
   ]
  },
  {
   "cell_type": "code",
   "execution_count": 2,
   "metadata": {},
   "outputs": [],
   "source": [
    "# Plotting parameters\n",
    "\n",
    "XSMALL_SIZE = 6\n",
    "SMALL_SIZE = 7\n",
    "MEDIUM_SIZE = 9\n",
    "BIGGER_SIZE = 12\n",
    "\n",
    "plt.rc('font', size=SMALL_SIZE)          # controls default text sizes\n",
    "plt.rc('axes', titlesize=SMALL_SIZE)     # fontsize of the axes title\n",
    "plt.rc('axes', labelsize=SMALL_SIZE)    # fontsize of the x and y labels\n",
    "plt.rc('xtick', labelsize=SMALL_SIZE)    # fontsize of the tick labels\n",
    "plt.rc('ytick', labelsize=SMALL_SIZE)    # fontsize of the tick labels\n",
    "plt.rc('legend', fontsize=SMALL_SIZE)    # legend fontsize\n",
    "plt.rc('axes', titlesize=SMALL_SIZE)  # fontsize of the figure title\n",
    "plt.rcParams['figure.dpi'] = 140"
   ]
  },
  {
   "cell_type": "markdown",
   "metadata": {},
   "source": [
    "## Import data"
   ]
  },
  {
   "cell_type": "code",
   "execution_count": 3,
   "metadata": {},
   "outputs": [
    {
     "name": "stderr",
     "output_type": "stream",
     "text": [
      "C:\\Users\\ipdavies\\AppData\\Local\\Continuum\\anaconda3\\envs\\tnc_velma\\lib\\site-packages\\IPython\\core\\interactiveshell.py:3147: DtypeWarning: Columns (9,13,37,43,45) have mixed types.Specify dtype option on import or set low_memory=False.\n",
      "  interactivity=interactivity, compiler=compiler, result=result)\n"
     ]
    }
   ],
   "source": [
    "# Average PRISM and Naselle gauge precipitation\n",
    "gauge = pd.read_csv(config.daily_ppt.parents[0] / 'GHCND_USC00455774_1929_2020.csv', parse_dates=True, index_col=5)\n",
    "gauge['SNOW'].fillna(0, inplace=True)\n",
    "gauge['SNOW_SWE'] = gauge['SNOW'] / 13\n",
    "gauge['PRCP_TOT'] = gauge['PRCP'] + gauge['SNOW_SWE']\n",
    "gauge_precip = gauge[['PRCP_TOT']]\n",
    "\n",
    "prism_precip = pd.read_csv(str(config.daily_ppt.parents[0] / 'prism_ppt_1990_2020_daily.csv'), parse_dates=True, index_col=0)\n",
    "\n",
    "# Expand precip record to full date range in case some days are missing\n",
    "hist_start = pd.to_datetime('01-01-1990')\n",
    "hist_end = pd.to_datetime('12-31-2020')\n",
    "rng = pd.date_range(hist_start, hist_end)\n",
    "date_df = pd.DataFrame(index=rng)\n",
    "gauge_precip_velma = date_df.merge(gauge_precip, left_index=True, right_index=True, how='left')\n",
    "prism_precip_velma = date_df.merge(prism_precip, left_index=True, right_index=True, how='left')\n",
    "\n",
    "prism_precip_mean = pd.concat([gauge_precip_velma, prism_precip_velma], axis=1)\n",
    "prism_precip_mean['avg_precip'] = prism_precip_mean.mean(axis=1)\n",
    "\n",
    "# Air temperature\n",
    "temp_path = config.daily_temp_mean.parents[0] / 'prism_temp_1990_2020_daily.csv'\n",
    "temp = pd.read_csv(temp_path, parse_dates=True, index_col=0)"
   ]
  },
  {
   "cell_type": "markdown",
   "metadata": {},
   "source": [
    "#### Get GCM temperature and precipitation projections"
   ]
  },
  {
   "cell_type": "code",
   "execution_count": 103,
   "metadata": {},
   "outputs": [],
   "source": [
    "# # Get temperature\n",
    "# forc_dir = config.data_path / 'precip' / 'WRF_frcs_EllsworthCr_forcings'\n",
    "# forc_file = 'forc_46.40625_-123.90625'\n",
    "# forc_cols = ['Year', 'Month', 'Day', 'Hour', 'Precip(mm)', 'Temp(C)', \n",
    "#              'Wind(m/s)', 'SWrad(W/m2)', 'LWrad(W/m2)', 'pressure(kPa)', \n",
    "#              'VaporPress(kPa)']\n",
    "\n",
    "# cols = ['Temp(C)']\n",
    "# inds = [forc_cols.index(x) for x in cols]\n",
    "# arrs = []\n",
    "# sim_dirs = []\n",
    "# for sim_dir in os.listdir(forc_dir):\n",
    "#     if sim_dir == 'pnnl_historical':\n",
    "#         continue\n",
    "#     sim_dirs.append(sim_dir)\n",
    "#     arr = np.loadtxt(forc_dir / sim_dir / forc_file)\n",
    "#     arrs.append(arr[:, inds])\n",
    "# stack = np.column_stack(arrs)\n",
    "# proj_sims_temp = pd.DataFrame(stack, columns=sim_dirs)\n",
    "# date_arr = pd.DataFrame(arr, columns=forc_cols)\n",
    "# proj_sims_temp.index = pd.to_datetime(date_arr[['Year', 'Month', 'Day']])"
   ]
  },
  {
   "cell_type": "code",
   "execution_count": 112,
   "metadata": {},
   "outputs": [],
   "source": [
    "# # Get precipitation\n",
    "# wrf_dir = config.data_path / 'precip' / 'VIC_WRF_EllsworthCr'\n",
    "# wrf_file = 'flux_46.40625_-123.90625'\n",
    "# wrf_cols = [\"YEAR\",\"MONTH\",\"DAY\",\"HOUR\",\"OUT_PREC\",\"OUT_PET_SHORT\",\n",
    "#             \"OUT_SWE\",\"OUT_EVAP\",\"OUT_RUNOFF\",\"OUT_BASEFLOW\",\n",
    "#             \"OUT_SOIL_MOIST0\", \"OUT_SOIL_MOIST1\",\"OUT_SOIL_MOIST2\"]\n",
    "\n",
    "# cols = ['OUT_PREC']\n",
    "# inds = [wrf_cols.index(x) for x in cols]\n",
    "# arrs = []\n",
    "# sim_dirs = []\n",
    "# for sim_dir in os.listdir(wrf_dir):\n",
    "#     if sim_dir == 'pnnl_historical':\n",
    "#         continue\n",
    "#     sim_dirs.append(sim_dir)\n",
    "#     arr = np.loadtxt(wrf_dir / sim_dir / 'sim_avg' / '{}.gz'.format(wrf_file))\n",
    "#     arrs.append(arr[:, inds])\n",
    "# stack = np.column_stack(arrs)\n",
    "# proj_sims_ppt = pd.DataFrame(stack, columns=sim_dirs)\n",
    "# date_arr = pd.DataFrame(arr, columns=wrf_cols)\n",
    "# proj_sims_ppt.index = pd.to_datetime(date_arr[['YEAR', 'MONTH', 'DAY']])"
   ]
  },
  {
   "cell_type": "code",
   "execution_count": 145,
   "metadata": {},
   "outputs": [],
   "source": [
    "# Get precipitation\n",
    "wrf_dir = config.data_path / 'precip' / 'VIC_WRF_EllsworthCr'\n",
    "gcm_avg_dir = wrf_dir / 'sim_avg'\n",
    "cols = ['year', 'month', 'day', 'access1.0_RCP45', 'access1.0_RCP85', 'access1.3_RCP85',\n",
    "        'bcc-csm1.1_RCP85', 'canesm2_RCP85', 'ccsm4_RCP85', 'csiro-mk3.6.0_RCP85',\n",
    "        'fgoals-g2_RCP85', 'gfdl-cm3_RCP85', 'giss-e2-h_RCP85', 'miroc5_RCP85',\n",
    "        'mri-cgcm3_RCP85', 'noresm1-m_RCP85']\n",
    "\n",
    "arr = np.loadtxt(gcm_avg_dir / 'sim_avg_ppt.gz')\n",
    "proj_sims_ppt = pd.DataFrame(data=arr, columns=cols)\n",
    "proj_sims_ppt.index = pd.to_datetime(proj_sims_ppt[['year', 'month', 'day']])\n",
    "proj_sims_ppt = proj_sims_ppt.drop(['year', 'month', 'day'], axis=1)"
   ]
  },
  {
   "cell_type": "code",
   "execution_count": 146,
   "metadata": {},
   "outputs": [],
   "source": [
    "# Get temperature\n",
    "forc_dir = config.data_path / 'precip' / 'WRF_frcs_EllsworthCr_forcings'\n",
    "gcm_avg_forc_dir = forc_dir / 'sim_avg'\n",
    "cols = ['year', 'month', 'day', 'access1.0_RCP45', 'access1.0_RCP85', 'access1.3_RCP85',\n",
    "        'bcc-csm1.1_RCP85', 'canesm2_RCP85', 'ccsm4_RCP85', 'csiro-mk3.6.0_RCP85',\n",
    "        'fgoals-g2_RCP85', 'gfdl-cm3_RCP85', 'giss-e2-h_RCP85', 'miroc5_RCP85',\n",
    "        'mri-cgcm3_RCP85', 'noresm1-m_RCP85']\n",
    "\n",
    "arr = np.loadtxt(gcm_avg_forc_dir / 'sim_avg_temp.gz')\n",
    "proj_sims_temp = pd.DataFrame(data=arr, columns=cols)\n",
    "proj_sims_temp.index = pd.to_datetime(proj_sims_temp[['year', 'month', 'day']])\n",
    "proj_sims_temp = proj_sims_temp.drop(['year', 'month', 'day'], axis=1)"
   ]
  },
  {
   "cell_type": "code",
   "execution_count": 154,
   "metadata": {},
   "outputs": [
    {
     "data": {
      "application/vnd.jupyter.widget-view+json": {
       "model_id": "b8142aa1cd6844a3ac102cc65eeb46cb",
       "version_major": 2,
       "version_minor": 0
      },
      "text/plain": [
       "Canvas(toolbar=Toolbar(toolitems=[('Home', 'Reset original view', 'home', 'home'), ('Back', 'Back to previous …"
      ]
     },
     "metadata": {},
     "output_type": "display_data"
    }
   ],
   "source": [
    "plt.close('all')\n",
    "colors = sns.color_palette('Dark2', 13)\n",
    "sim_start = pd.to_datetime('01-01-2025')\n",
    "sim_end = pd.to_datetime('12-31-2099')\n",
    "fig = plt.figure(figsize=(9.5, 5))\n",
    "for i, sim in enumerate(proj_sims_temp):\n",
    "    sim_data = proj_sims_temp.loc[:, sim]\n",
    "    sim_subset = sim_data[(sim_data.index >= sim_start) & (sim_data.index <= sim_end)]\n",
    "    sim_group = sim_subset.groupby(pd.Grouper(freq='10Y')).mean()\n",
    "    sim_group.plot(label=sim, color=colors[i])\n",
    "    \n",
    "ensemble_data = proj_sims_temp.mean(axis=1)\n",
    "ensemble_subset = ensemble_data[(ensemble_data.index >= sim_start) & (ensemble_data.index <= sim_end)]\n",
    "ensemble_group = ensemble_subset.groupby(pd.Grouper(freq='10Y')).mean()\n",
    "ensemble_group.plot(label='Average', color='black', linewidth=2.5)\n",
    "plt.legend(loc='upper left', bbox_to_anchor=(0, 1.2), fancybox=True, ncol=5)\n",
    "plt.ylabel('Temperature (C)')\n",
    "fig.suptitle('Fig. 1: GCM air temperature projections')\n",
    "plt.tight_layout(rect=[0, 0, 1, 0.99])"
   ]
  },
  {
   "cell_type": "code",
   "execution_count": 177,
   "metadata": {},
   "outputs": [
    {
     "data": {
      "application/vnd.jupyter.widget-view+json": {
       "model_id": "f91d2dbcc203430d87e364594dc1e321",
       "version_major": 2,
       "version_minor": 0
      },
      "text/plain": [
       "Canvas(toolbar=Toolbar(toolitems=[('Home', 'Reset original view', 'home', 'home'), ('Back', 'Back to previous …"
      ]
     },
     "metadata": {},
     "output_type": "display_data"
    }
   ],
   "source": [
    "plt.close('all')\n",
    "colors = sns.color_palette('Dark2', 13)\n",
    "sim_start = pd.to_datetime('01-01-2025')\n",
    "sim_end = pd.to_datetime('12-31-2099')\n",
    "fig = plt.figure(figsize=(9.5, 5))\n",
    "for i, sim in enumerate(proj_sims_temp):\n",
    "    sim_data = proj_sims_temp.loc[:, sim]\n",
    "    sim_subset = sim_data[(sim_data.index >= sim_start) & (sim_data.index <= sim_end)]\n",
    "    sim_group = sim_subset.groupby(pd.Grouper(freq='10Y')).mean()\n",
    "    ((sim_group * 9/5)+32).plot(label=sim, color=colors[i])\n",
    "    \n",
    "ensemble_data = proj_sims_temp.mean(axis=1)\n",
    "ensemble_subset = ensemble_data[(ensemble_data.index >= sim_start) & (ensemble_data.index <= sim_end)]\n",
    "ensemble_group = ensemble_subset.groupby(pd.Grouper(freq='10Y')).mean()\n",
    "((ensemble_group*9/5)+32).plot(label='Average', color='black', linewidth=2.5)\n",
    "plt.legend(loc='upper left', bbox_to_anchor=(0, 1.2), fancybox=True, ncol=5)\n",
    "plt.ylabel('Temperature (F)')\n",
    "fig.suptitle('Fig. 1: GCM air temperature projections')\n",
    "plt.tight_layout(rect=[0, 0, 1, 0.99])"
   ]
  },
  {
   "cell_type": "code",
   "execution_count": 155,
   "metadata": {},
   "outputs": [
    {
     "data": {
      "application/vnd.jupyter.widget-view+json": {
       "model_id": "ad9d19f991824011bf59ab3de4714f4a",
       "version_major": 2,
       "version_minor": 0
      },
      "text/plain": [
       "Canvas(toolbar=Toolbar(toolitems=[('Home', 'Reset original view', 'home', 'home'), ('Back', 'Back to previous …"
      ]
     },
     "metadata": {},
     "output_type": "display_data"
    }
   ],
   "source": [
    "plt.close('all')\n",
    "colors = sns.color_palette('Dark2', 13)\n",
    "sim_start = pd.to_datetime('01-01-2021')\n",
    "sim_end = pd.to_datetime('12-31-2099')\n",
    "fig = plt.figure(figsize=(9.5, 5))\n",
    "for i, sim in enumerate(proj_sims_ppt):\n",
    "    sim_data = proj_sims_ppt.loc[:, sim]\n",
    "    sim_subset = sim_data[(sim_data.index >= sim_start) & (sim_data.index <= sim_end)]\n",
    "    sim_group = sim_subset.groupby(pd.Grouper(freq='Y')).sum()\n",
    "    sim_group.plot(label=sim, color=colors[i])\n",
    "    \n",
    "ensemble_data = proj_sims_ppt.mean(axis=1)\n",
    "ensemble_subset = ensemble_data[(ensemble_data.index >= sim_start) & (ensemble_data.index <= sim_end)]\n",
    "ensemble_group = ensemble_subset.groupby(pd.Grouper(freq='Y')).sum()\n",
    "ensemble_group.plot(label='Average', color='black', linewidth=2.5)\n",
    "plt.legend(loc='upper left', bbox_to_anchor=(0, 1.2), fancybox=True, ncol=5)\n",
    "plt.ylabel('Precipitation (mm)')\n",
    "fig.suptitle('Fig. 1: GCM precipitation projections')\n",
    "plt.tight_layout(rect=[0, 0, 1, 0.99])"
   ]
  },
  {
   "cell_type": "markdown",
   "metadata": {},
   "source": [
    "## Scaling historical temperature normals to GCM projections"
   ]
  },
  {
   "cell_type": "markdown",
   "metadata": {},
   "source": [
    "### Scaling temperature with simple regression"
   ]
  },
  {
   "cell_type": "code",
   "execution_count": 212,
   "metadata": {},
   "outputs": [],
   "source": [
    "proj_start = pd.to_datetime('01-01-2021')\n",
    "proj_end = pd.to_datetime('12-31-2099')\n",
    "\n",
    "# Get PRISM daily normals\n",
    "piv = pd.pivot_table(temp, columns=temp.index.year, index=temp.index.dayofyear, values='temp')\n",
    "normals_temp_d = piv.mean(axis=1)\n",
    "\n",
    "# Repeat historical daily normals for every year in projected range - these values will be scaled\n",
    "# Merging on day of year will take leap year into account by not merging Feb 29 on non-leap years\n",
    "proj_rng = pd.DataFrame(index=pd.date_range(proj_start, proj_end))\n",
    "proj_rng['doy'] = proj_rng.index.dayofyear\n",
    "proj_temp = proj_rng.merge(pd.DataFrame(normals_temp_d, columns=['normals_temp_d']), \n",
    "               left_on='doy', right_index=True, how='left').drop('doy', axis=1)\n",
    "\n",
    "# Get average GCM daily temps\n",
    "proj_sims_temp_edit = proj_sims_temp[(proj_sims_temp.index >= proj_start) & (proj_sims_temp.index <= proj_end)]\n",
    "gcm_temp_d_mean = pd.DataFrame(proj_sims_temp_edit.groupby(pd.Grouper(freq='d')).mean().mean(axis=1), columns=['gcm_temp_d_mean'])\n",
    "\n",
    "# Convert day of year to signal\n",
    "day = 24 * 60 * 60\n",
    "year = 365.2425 * day\n",
    "timestamp_secs = pd.to_datetime(gcm_temp_d_mean.index)\n",
    "timestamp_secs = timestamp_secs.map(datetime.datetime.timestamp)\n",
    "gcm_temp_d_mean['doy_cos'] = np.cos(timestamp_secs * (2 * np.pi / year))\n",
    "gcm_temp_d_mean['doy_sin'] = np.sin(timestamp_secs * (2 * np.pi / year))\n",
    "gcm_temp_d_mean['year'] = gcm_temp_d_mean.index.year"
   ]
  },
  {
   "cell_type": "code",
   "execution_count": 213,
   "metadata": {},
   "outputs": [
    {
     "name": "stdout",
     "output_type": "stream",
     "text": [
      "                            OLS Regression Results                            \n",
      "==============================================================================\n",
      "Dep. Variable:        gcm_temp_d_mean   R-squared:                       0.946\n",
      "Model:                            OLS   Adj. R-squared:                  0.946\n",
      "Method:                 Least Squares   F-statistic:                 8.528e+04\n",
      "Date:                Fri, 26 Feb 2021   Prob (F-statistic):               0.00\n",
      "Time:                        10:30:54   Log-Likelihood:                -27391.\n",
      "No. Observations:               19332   AIC:                         5.479e+04\n",
      "Df Residuals:                   19327   BIC:                         5.483e+04\n",
      "Df Model:                           4                                         \n",
      "Covariance Type:            nonrobust                                         \n",
      "=====================================================================================\n",
      "                        coef    std err          t      P>|t|      [0.025      0.975]\n",
      "-------------------------------------------------------------------------------------\n",
      "const               -76.6957      0.652   -117.586      0.000     -77.974     -75.417\n",
      "doy_cos              -3.0756      0.044    -69.889      0.000      -3.162      -2.989\n",
      "doy_sin               0.2763      0.021     13.248      0.000       0.235       0.317\n",
      "year                  0.0406      0.000    129.226      0.000       0.040       0.041\n",
      "prism_temp_d_mean     0.4759      0.008     61.110      0.000       0.461       0.491\n",
      "==============================================================================\n",
      "Omnibus:                       80.801   Durbin-Watson:                   1.983\n",
      "Prob(Omnibus):                  0.000   Jarque-Bera (JB):               97.587\n",
      "Skew:                          -0.089   Prob(JB):                     6.44e-22\n",
      "Kurtosis:                       3.299   Cond. No.                     1.87e+05\n",
      "==============================================================================\n",
      "\n",
      "Notes:\n",
      "[1] Standard Errors assume that the covariance matrix of the errors is correctly specified.\n",
      "[2] The condition number is large, 1.87e+05. This might indicate that there are\n",
      "strong multicollinearity or other numerical problems.\n"
     ]
    }
   ],
   "source": [
    "# Train regression model\n",
    "X = gcm_temp_d_mean.copy()\n",
    "y = X.pop('gcm_temp_d_mean')\n",
    "X = sm.add_constant(X)\n",
    "X['normals_temp_d'] = proj_temp['normals_temp_d']\n",
    "X_train, X_test, y_train, y_test = train_test_split(X, y, test_size=0.33, random_state=42)\n",
    "X_train = sm.add_constant(X_train)\n",
    "olsmodel = sm.OLS(y_train, X_train).fit()\n",
    "print(olsmodel.summary())"
   ]
  },
  {
   "cell_type": "code",
   "execution_count": 214,
   "metadata": {},
   "outputs": [],
   "source": [
    "y_pred = olsmodel.predict(X)"
   ]
  },
  {
   "cell_type": "code",
   "execution_count": 215,
   "metadata": {},
   "outputs": [
    {
     "data": {
      "application/vnd.jupyter.widget-view+json": {
       "model_id": "abef982a4cb84cf6b6848b056a327f80",
       "version_major": 2,
       "version_minor": 0
      },
      "text/plain": [
       "Canvas(toolbar=Toolbar(toolitems=[('Home', 'Reset original view', 'home', 'home'), ('Back', 'Back to previous …"
      ]
     },
     "metadata": {},
     "output_type": "display_data"
    },
    {
     "data": {
      "text/plain": [
       "<matplotlib.legend.Legend at 0x2b7184db948>"
      ]
     },
     "execution_count": 215,
     "metadata": {},
     "output_type": "execute_result"
    }
   ],
   "source": [
    "fig = plt.figure(figsize=(8, 3))\n",
    "((y.groupby(pd.Grouper(freq='m')).mean()*9/5)+32).plot(label='gcm')\n",
    "((X['normals_temp_d'].groupby(pd.Grouper(freq='m')).mean() * 9/5)+32).plot(label='normals')\n",
    "((y_pred.groupby(pd.Grouper(freq='m')).mean()*9/5)+32).plot(label='proj')\n",
    "plt.legend()"
   ]
  },
  {
   "cell_type": "markdown",
   "metadata": {},
   "source": [
    "## Scaling historical precipitation normals to GCM projections"
   ]
  },
  {
   "cell_type": "markdown",
   "metadata": {},
   "source": [
    "### Scaling using monthly means"
   ]
  },
  {
   "cell_type": "code",
   "execution_count": 223,
   "metadata": {},
   "outputs": [],
   "source": [
    "proj_start = pd.to_datetime('01-01-2021')\n",
    "proj_end = pd.to_datetime('12-31-2099')\n",
    "\n",
    "# Get PRISM daily normals\n",
    "piv_d = pd.pivot_table(prism_precip_mean, columns=prism_precip_mean.index.year, index=prism_precip_mean.index.dayofyear, values='avg_precip')\n",
    "normals_precip_d = piv_d.mean(axis=1)\n",
    "\n",
    "# Repeat daily normals for every year in projected range - these values will be scaled\n",
    "# Merging on day of year will take leap year into account by not merging Feb 29 on non-leap years\n",
    "proj_rng = pd.DataFrame(index=pd.date_range(proj_start, proj_end))\n",
    "proj_rng['doy'] = proj_rng.index.dayofyear\n",
    "proj_precip = proj_rng.merge(pd.DataFrame(normals_precip_d, columns=['normals_precip_d']), \n",
    "               left_on='doy', right_index=True, how='left').drop('doy', axis=1)\n",
    "\n",
    "# Get PRISM monthly normals\n",
    "proj_years = len(pd.date_range(proj_start, proj_end, freq='y'))\n",
    "piv_m = pd.pivot_table(prism_precip_mean, columns=prism_precip_mean.index.year, index=prism_precip_mean.index.month, values='avg_precip', aggfunc=np.sum)\n",
    "# normals_m = pd.DataFrame(piv_m.mean(axis=1), columns=['normals_m'])\n",
    "normals_m = np.tile(piv_m.mean(axis=1), proj_years)\n",
    "\n",
    "# # Join daily and monthly normals\n",
    "# proj_precip.index = proj_precip.index.strftime('%m')\n",
    "# proj_precip.join(normals_m, how='left')\n",
    "\n",
    "# Get GCM monthly means\n",
    "gcm_precip_m = proj_sims_ppt.groupby(pd.Grouper(freq='M')).sum()\n",
    "gcm_precip_m = gcm_precip_m[(gcm_precip_m.index >= proj_start) & (gcm_precip_m.index <= proj_end)]\n",
    "gcm_precip_m_mean = gcm_precip_m.mean(axis=1)\n",
    "\n",
    "# For each projected month, find the % increase from historical PRISM to projected GCM\n",
    "scale_m = (gcm_precip_m_mean- normals_m) / normals_m\n",
    "scale_m_precip = pd.DataFrame(scale_m, columns=['scale_m_precip'])\n",
    "\n",
    "# Apply scaling factor to historical daily normals to get projected values\n",
    "proj_precip.index = proj_precip.index.strftime('%Y-%m')\n",
    "scale_m_precip.index = scale_m_precip.index.strftime('%Y-%m')\n",
    "proj_precip_scaled = proj_precip.merge(scale_m_precip, left_index=True, right_index=True, how='left')\n",
    "proj_precip_scaled['proj_precip_scaled_m'] = proj_precip_scaled['normals_precip_d'] + (proj_precip_scaled['normals_precip_d'] * proj_precip_scaled['scale_m_precip'])\n",
    "proj_precip_scaled.index = proj_rng.index"
   ]
  },
  {
   "cell_type": "code",
   "execution_count": 224,
   "metadata": {},
   "outputs": [
    {
     "data": {
      "application/vnd.jupyter.widget-view+json": {
       "model_id": "978bd88e2db94f2e8d5af5724a59787c",
       "version_major": 2,
       "version_minor": 0
      },
      "text/plain": [
       "Canvas(toolbar=Toolbar(toolitems=[('Home', 'Reset original view', 'home', 'home'), ('Back', 'Back to previous …"
      ]
     },
     "metadata": {},
     "output_type": "display_data"
    },
    {
     "data": {
      "text/plain": [
       "Text(0.5, 0.98, 'Projected precipitation scaled using monthly means')"
      ]
     },
     "execution_count": 224,
     "metadata": {},
     "output_type": "execute_result"
    }
   ],
   "source": [
    "normals_m_df = pd.DataFrame(normals_m, index=gcm_precip_m_mean.index)\n",
    "fig = plt.figure(figsize=(8, 3))\n",
    "ax = proj_precip_scaled.groupby(pd.Grouper(freq='Y')).sum()['proj_precip_scaled_m'].plot()\n",
    "normals_m_df.groupby(pd.Grouper(freq='Y')).sum().plot(ax=ax)\n",
    "fig.suptitle('Projected precipitation scaled using monthly means')\n",
    "# Perhaps using monthly means instead of yearly means allows for too much variation"
   ]
  },
  {
   "cell_type": "markdown",
   "metadata": {},
   "source": [
    "### Scaling using yearly means"
   ]
  },
  {
   "cell_type": "code",
   "execution_count": 225,
   "metadata": {},
   "outputs": [],
   "source": [
    "proj_start = pd.to_datetime('01-01-2021')\n",
    "proj_end = pd.to_datetime('12-31-2099')\n",
    "\n",
    "# Get GCM yearly mean\n",
    "gcm_ppt_y_mean = proj_sims_ppt.groupby(pd.Grouper(freq='Y')).sum().mean(axis=1)\n",
    "gcm_ppt_y_mean = gcm_ppt_y_mean[(gcm_ppt_y_mean.index >= proj_start) & (gcm_ppt_y_mean.index <= proj_end)]\n",
    "\n",
    "# Get PRISM daily mean\n",
    "piv = pd.pivot_table(prism_precip_mean, columns=prism_precip_mean.index.year, index=prism_precip_mean.index.dayofyear, values='avg_precip')\n",
    "prism_precip_d_mean = piv.mean(axis=1)\n",
    "\n",
    "# Get PRISM yearly mean\n",
    "prism_precip_y_mean = prism_precip_mean.groupby(pd.Grouper(freq='Y')).sum()['avg_precip']"
   ]
  },
  {
   "cell_type": "code",
   "execution_count": 226,
   "metadata": {},
   "outputs": [],
   "source": [
    "# Get yearly mean of historical daily normals\n",
    "hist_precip_y_mean = proj_precip_scaled['normals_precip_d'].groupby(pd.Grouper(freq='Y')).mean()\n",
    "\n",
    "# For each projected month, find the % increase from historical PRISM to projected GCM\n",
    "scale_y = (gcm_ppt_y_mean- hist_precip_y_mean) / hist_precip_y_mean\n",
    "scale_y_precip = pd.DataFrame(scale_y, columns=['scale_y_precip'])\n",
    "\n",
    "# Apply scaling factor to historical daily normals to get projected values\n",
    "proj_precip_scaled.index = proj_precip_scaled.index.strftime('%Y')\n",
    "scale_y_precip.index = scale_y_precip.index.strftime('%Y')\n",
    "proj_precip_scaled = proj_precip_scaled.merge(scale_y_precip, left_index=True, right_index=True, how='left')\n",
    "proj_precip_scaled\n",
    "proj_precip_scaled['proj_precip_scaled_y'] = proj_precip_scaled['normals_precip_d'] + (proj_precip_scaled['normals_precip_d'] * proj_precip_scaled['scale_y_precip'])\n",
    "proj_precip_scaled.index = proj_rng.index"
   ]
  },
  {
   "cell_type": "code",
   "execution_count": 232,
   "metadata": {},
   "outputs": [
    {
     "data": {
      "text/plain": [
       "2021-12-31    2021\n",
       "2022-12-31    2022\n",
       "2023-12-31    2023\n",
       "2024-12-31    2024\n",
       "2025-12-31    2025\n",
       "              ... \n",
       "2095-12-31    2095\n",
       "2096-12-31    2096\n",
       "2097-12-31    2097\n",
       "2098-12-31    2098\n",
       "2099-12-31    2099\n",
       "Freq: A-DEC, Name: year, Length: 79, dtype: int64"
      ]
     },
     "execution_count": 232,
     "metadata": {},
     "output_type": "execute_result"
    }
   ],
   "source": [
    "x['year']"
   ]
  },
  {
   "cell_type": "code",
   "execution_count": 236,
   "metadata": {},
   "outputs": [
    {
     "data": {
      "text/plain": [
       "Float64Index([3407.4899808463933, 3410.1760224004984, 3412.8620639546034,\n",
       "              3415.5481055087084, 3418.2341470628135, 3420.9201886169194,\n",
       "              3423.6062301710244, 3426.2922717251295, 3428.9783132792345,\n",
       "              3431.6643548333395, 3434.3503963874446, 3437.0364379415496,\n",
       "              3439.7224794956546, 3442.4085210497597, 3445.0945626038647,\n",
       "              3447.7806041579697, 3450.4666457120748,   3453.15268726618,\n",
       "               3455.838728820285,   3458.52477037439,  3461.210811928496,\n",
       "               3463.896853482601,  3466.582895036706,  3469.268936590811,\n",
       "               3471.954978144916,  3474.641019699021,  3477.327061253126,\n",
       "               3480.013102807231,  3482.699144361336,  3485.385185915441,\n",
       "               3488.071227469546,  3490.757269023651,  3493.443310577756,\n",
       "               3496.129352131861, 3498.8153936859662,  3501.501435240072,\n",
       "               3504.187476794177, 3506.8735183482822, 3509.5595599023873,\n",
       "              3512.2456014564923, 3514.9316430105973, 3517.6176845647024,\n",
       "              3520.3037261188074, 3522.9897676729124, 3525.6758092270175,\n",
       "              3528.3618507811225, 3531.0478923352275, 3533.7339338893325,\n",
       "              3536.4199754434376, 3539.1060169975426, 3541.7920585516486,\n",
       "              3544.4781001057536, 3547.1641416598586, 3549.8501832139636,\n",
       "              3552.5362247680687, 3555.2222663221737, 3557.9083078762787,\n",
       "              3560.5943494303838,  3563.280390984489,  3565.966432538594,\n",
       "               3568.652474092699,  3571.338515646804,  3574.024557200909,\n",
       "               3576.710598755014,   3579.39664030912,  3582.082681863225,\n",
       "                3584.76872341733,  3587.454764971435,   3590.14080652554,\n",
       "               3592.826848079645,   3595.51288963375,  3598.198931187855,\n",
       "                3600.88497274196,  3603.571014296065,   3606.25705585017,\n",
       "              3608.9430974042752, 3611.6291389583803, 3614.3151805124853,\n",
       "              3617.0012220665903],\n",
       "             dtype='float64')"
      ]
     },
     "execution_count": 236,
     "metadata": {},
     "output_type": "execute_result"
    }
   ],
   "source": []
  },
  {
   "cell_type": "code",
   "execution_count": 259,
   "metadata": {},
   "outputs": [
    {
     "data": {
      "application/vnd.jupyter.widget-view+json": {
       "model_id": "eb278b3b8f9e4aaf96723b6a56d8b99d",
       "version_major": 2,
       "version_minor": 0
      },
      "text/plain": [
       "Canvas(toolbar=Toolbar(toolitems=[('Home', 'Reset original view', 'home', 'home'), ('Back', 'Back to previous …"
      ]
     },
     "metadata": {},
     "output_type": "display_data"
    },
    {
     "data": {
      "text/plain": [
       "<matplotlib.legend.Legend at 0x2b722babb08>"
      ]
     },
     "execution_count": 259,
     "metadata": {},
     "output_type": "execute_result"
    }
   ],
   "source": [
    "x = proj_precip_scaled.groupby(pd.Grouper(freq='Y')).sum()\n",
    "x['year'] = x.index.year\n",
    "m, b = np.polyfit(x['year'], x['proj_precip_scaled_m'], 1)\n",
    "z = m*x['year']+b\n",
    "\n",
    "fig = plt.figure(figsize=(8, 3))\n",
    "proj_precip_scaled['proj_precip_scaled_y'].groupby(pd.Grouper(freq='Y')).mean().plot(label='Proj yearly mean (scaled with yearly)')\n",
    "proj_precip_scaled.groupby(pd.Grouper(freq='Y')).sum()['proj_precip_scaled_m'].plot(label='Proj yearly mean (scaled with monthly)')\n",
    "z.plot(label='Projected trend')\n",
    "proj_precip_scaled['normals_precip_d'].groupby(pd.Grouper(freq='Y')).sum().plot(label='Normals yearly mean')\n",
    "fig.suptitle('Projected precipitation scaled with monthly and yearly means')\n",
    "plt.legend()"
   ]
  },
  {
   "cell_type": "markdown",
   "metadata": {},
   "source": [
    "These are still very naive scaled projections. Want some way to capture (1) seasonal variation of temperature, which is projected to rise higher in summer than in winter, and (2) seasonal variation of precipitation which is projected to lower for summer and rise for winter."
   ]
  }
 ],
 "metadata": {
  "kernelspec": {
   "display_name": "tnc_velma",
   "language": "python",
   "name": "tnc_velma"
  },
  "language_info": {
   "codemirror_mode": {
    "name": "ipython",
    "version": 3
   },
   "file_extension": ".py",
   "mimetype": "text/x-python",
   "name": "python",
   "nbconvert_exporter": "python",
   "pygments_lexer": "ipython3",
   "version": "3.7.8"
  }
 },
 "nbformat": 4,
 "nbformat_minor": 4
}
