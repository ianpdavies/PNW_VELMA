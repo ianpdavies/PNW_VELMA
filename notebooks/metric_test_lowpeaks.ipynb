{
 "cells": [
  {
   "cell_type": "markdown",
   "metadata": {},
   "source": [
    "# Comparing efficiency metrics for model runoff calibration"
   ]
  },
  {
   "cell_type": "code",
   "execution_count": 26,
   "metadata": {},
   "outputs": [],
   "source": [
    "%matplotlib widget\n",
    "\n",
    "import __init__\n",
    "import scripts.config as config\n",
    "import numpy as np\n",
    "import pandas as pd\n",
    "import tempfile\n",
    "import datetime\n",
    "from sklearn.svm import SVR\n",
    "import geopandas as gpd\n",
    "from sklearn.metrics import mean_squared_error, r2_score, mean_absolute_error\n",
    "from matplotlib.font_manager import FontProperties\n",
    "import seaborn as sns\n",
    "# import matplotlib as mpl\n",
    "import matplotlib.pyplot as plt\n",
    "import importlib\n",
    "import HydroErr as he"
   ]
  },
  {
   "cell_type": "code",
   "execution_count": 2,
   "metadata": {},
   "outputs": [],
   "source": [
    "# Plotting parameters\n",
    "\n",
    "XSMALL_SIZE = 6\n",
    "SMALL_SIZE = 7\n",
    "MEDIUM_SIZE = 9\n",
    "BIGGER_SIZE = 12\n",
    "\n",
    "plt.rc('font', size=SMALL_SIZE)          # controls default text sizes\n",
    "plt.rc('axes', titlesize=SMALL_SIZE)     # fontsize of the axes title\n",
    "plt.rc('axes', labelsize=SMALL_SIZE)    # fontsize of the x and y labels\n",
    "plt.rc('xtick', labelsize=SMALL_SIZE)    # fontsize of the tick labels\n",
    "plt.rc('ytick', labelsize=SMALL_SIZE)    # fontsize of the tick labels\n",
    "plt.rc('legend', fontsize=SMALL_SIZE)    # legend fontsize\n",
    "plt.rc('axes', titlesize=SMALL_SIZE)  # fontsize of the figure title\n",
    "plt.rcParams['figure.dpi'] = 140"
   ]
  },
  {
   "cell_type": "code",
   "execution_count": 3,
   "metadata": {},
   "outputs": [],
   "source": [
    "# Import and format observed data (2003-2007 runoff)\n",
    "\n",
    "input_dir = config.velma_data\n",
    "results_dir = config.data_path.parents[0] / 'results' / 'ellsworth_baseline_03_07_11'\n",
    "\n",
    "runoff_path = input_dir / 'runoff' / 'ellsworth_Q_2003_2007_dummy.csv'\n",
    "runoff_start = pd.to_datetime('01-01-2003')\n",
    "runoff_end = pd.to_datetime('12-31-2007')\n",
    "nse_start = pd.to_datetime('01-01-2004')\n",
    "nse_end = pd.to_datetime('12-31-2007')\n",
    "\n",
    "runoff_obs = pd.read_csv(runoff_path, names=['runoff_obs'])\n",
    "runoff_obs.index = pd.date_range(runoff_start, runoff_end)\n",
    "runoff_obs['doy'], runoff_obs['year'] = runoff_obs.index.dayofyear, runoff_obs.index.year\n",
    "runoff_obs = runoff_obs[(runoff_obs.index >= nse_start) & (runoff_obs.index <= nse_end)]\n",
    "\n",
    "flow_path = config.streamflow\n",
    "quality = pd.read_csv(flow_path, usecols=['Date', 'Quality'], parse_dates=True, index_col=0)\n",
    "quality = quality[(quality.index >= nse_start) & (quality.index <= nse_end)]\n",
    "\n",
    "precip_path = input_dir / 'precip' / 'PRISM_gauge_avg_ppt_2003_2019.csv'\n",
    "forcing_start = pd.to_datetime('01-01-2003')\n",
    "forcing_end = pd.to_datetime('12-31-2019')                     \n",
    "precip = pd.read_csv(precip_path, names=['precip'])\n",
    "precip.index = pd.date_range(forcing_start, forcing_end)\n",
    "precip['doy'], precip['year'] = precip.index.dayofyear, precip.index.year\n",
    "precip = precip[(precip.index >= nse_start) & (precip.index <= nse_end)]\n",
    "\n",
    "temp_path = input_dir / 'temp' / 'ellsworth_temp_2003_2019.csv'\n",
    "temp = pd.read_csv(temp_path, names=['temp'])\n",
    "temp.index = pd.date_range(forcing_start, forcing_end)\n",
    "temp['doy'], temp['year'] = temp.index.dayofyear, temp.index.year\n",
    "temp = temp[(temp.index >= nse_start) & (temp.index <= nse_end)]\n",
    "\n",
    "# Import VELMA outputs\n",
    "velma_results = pd.read_csv(results_dir / 'DailyResults.csv')\n",
    "\n",
    "# Format datetime of results\n",
    "jday_pad = velma_results['Day'].apply(lambda x: str(x).zfill(3))\n",
    "str_year = velma_results['Year'].apply(lambda x: str(x))\n",
    "velma_results['year_jday'] = str_year + jday_pad\n",
    "velma_results.index = pd.to_datetime(velma_results['year_jday'], format='%Y%j')\n",
    "velma_results = velma_results[(velma_results.index >= nse_start) & (velma_results.index <= nse_end)]"
   ]
  },
  {
   "cell_type": "markdown",
   "metadata": {},
   "source": [
    "## Plotting"
   ]
  },
  {
   "cell_type": "code",
   "execution_count": 4,
   "metadata": {},
   "outputs": [],
   "source": [
    "# Group measurements by year\n",
    "runoff_sim_yearly = pd.pivot_table(velma_results, index=['Day'], columns=['Year'],\n",
    "                                   values=['Runoff_All(mm/day)_Delineated_Average'])\n",
    "runoff_obs_yearly = pd.pivot_table(runoff_obs, index=['doy'], columns=['year'], values=['runoff_obs'])\n",
    "precip_yearly = pd.pivot_table(precip, index=['doy'], columns=['year'], values=['precip'])"
   ]
  },
  {
   "cell_type": "code",
   "execution_count": 24,
   "metadata": {},
   "outputs": [
    {
     "data": {
      "application/vnd.jupyter.widget-view+json": {
       "model_id": "ba1a624451114819a734a1cfeec27126",
       "version_major": 2,
       "version_minor": 0
      },
      "text/plain": [
       "Canvas(toolbar=Toolbar(toolitems=[('Home', 'Reset original view', 'home', 'home'), ('Back', 'Back to previous …"
      ]
     },
     "metadata": {},
     "output_type": "display_data"
    }
   ],
   "source": [
    "# # Observed vs. simulated runoff\n",
    "# years = runoff_obs_yearly.columns.get_level_values(1)\n",
    "# fig, axes = plt.subplots(ncols=1, nrows=len(years), figsize=(6, 9))\n",
    "# for col, year in enumerate(years):\n",
    "#     runoff_obs_yearly.iloc[:, col].plot(ax=axes[col], label='Observed', linewidth=1)\n",
    "#     runoff_sim_yearly.iloc[:, col].plot(ax=axes[col], label='Simulated', linewidth=1)\n",
    "#     axes[col].set_title(year)\n",
    "#     axes[col].set_ylim([0, 80])\n",
    "# axes[0].legend(loc='upper left', bbox_to_anchor=(0, 1.3), fancybox=True, ncol=2)\n",
    "# axes[0].set_ylabel('Runoff (mm/day)')\n",
    "# plt.tight_layout()\n",
    "\n",
    "\n",
    "# Runoff and precip\n",
    "years = runoff_obs_yearly.columns.get_level_values(1)\n",
    "fig, axes = plt.subplots(ncols=1, nrows=len(years), figsize=(6, 9))\n",
    "\n",
    "for col, year in enumerate(years):\n",
    "    ax2 = axes[col].twinx()\n",
    "    precip_yearly.iloc[:, col].plot(ax=ax2, label='Precip', linewidth=0.5, color='tab:green')\n",
    "    if col == 0:\n",
    "        ax2.set_ylabel('Precipitation (mm/day)')\n",
    "        ax2.legend(loc='upper right', bbox_to_anchor=(1, 1.3), fancybox=True, ncol=1)\n",
    "    runoff_obs_yearly.iloc[:, col].plot(ax=axes[col], label='Observed', linewidth=1)\n",
    "    runoff_sim_yearly.iloc[:, col].plot(ax=axes[col], label='Simulated', linewidth=1)\n",
    "    ax2.invert_yaxis()\n",
    "    axes[col].set_ylim([0, 80])\n",
    "    axes[col].set_title(year)\n",
    "axes[0].legend(loc='upper left', bbox_to_anchor=(0, 1.3))\n",
    "axes[0].set_ylabel('Runoff (mm/day)')\n",
    "fig.suptitle('Fig. 2: Observed vs. VELMA simulated runoff (with precipitation)')\n",
    "plt.tight_layout()"
   ]
  },
  {
   "cell_type": "code",
   "execution_count": 6,
   "metadata": {},
   "outputs": [],
   "source": [
    "# Nash-Sutcliffe Efficiency (NSE) \n",
    "\n",
    "def NSE_individ(s, o):\n",
    "    # s,o = filter_nan(s,o)\n",
    "#     return 1 - (o - s)**2/(o - np.mean(o))**2\n",
    "    mean_obs = np.mean(o)\n",
    "    numerator = (o - s)**2\n",
    "    denominator = (o - mean_obs)**2\n",
    "    return 1 - (numerator/denominator)\n",
    "\n",
    "years = runoff_obs_yearly.columns.get_level_values(1)\n",
    "runoff_nse = pd.DataFrame(columns=years)\n",
    "for i, year in enumerate(years):\n",
    "    runoff_nse.iloc[:, i] = NSE_individ(runoff_sim_yearly.iloc[:, i], runoff_obs_yearly.iloc[:, i])\n",
    "\n",
    "def NSE_rel_individ(s, o):\n",
    "    # s,o = filter_nan(s,o)\n",
    "    return 1 - ((s-o)/o)**2/((o-np.mean(o))/np.mean(o))**2\n",
    "\n",
    "years = runoff_obs_yearly.columns.get_level_values(1)\n",
    "runoff_nse_rel = pd.DataFrame(columns=years)\n",
    "for i, year in enumerate(years):\n",
    "    runoff_nse_rel.iloc[:, i] = NSE_rel_individ(runoff_sim_yearly.iloc[:, i], runoff_obs_yearly.iloc[:, i])\n"
   ]
  },
  {
   "cell_type": "markdown",
   "metadata": {},
   "source": [
    "## Cumulative NSE"
   ]
  },
  {
   "cell_type": "code",
   "execution_count": 7,
   "metadata": {},
   "outputs": [],
   "source": [
    "def NSE(s, o):\n",
    "    obs_mean = np.nanmean(o)\n",
    "    numerator = np.nansum((o - s)**2)\n",
    "    denominator = np.nansum((o - obs_mean)**2)\n",
    "    return 1 - numerator/denominator"
   ]
  },
  {
   "cell_type": "code",
   "execution_count": 8,
   "metadata": {},
   "outputs": [
    {
     "data": {
      "text/plain": [
       "'NS (2004): '"
      ]
     },
     "metadata": {},
     "output_type": "display_data"
    },
    {
     "data": {
      "text/plain": [
       "0.46087694325077233"
      ]
     },
     "metadata": {},
     "output_type": "display_data"
    },
    {
     "data": {
      "text/plain": [
       "'NS (2005): '"
      ]
     },
     "metadata": {},
     "output_type": "display_data"
    },
    {
     "data": {
      "text/plain": [
       "0.7635741846141573"
      ]
     },
     "metadata": {},
     "output_type": "display_data"
    },
    {
     "data": {
      "text/plain": [
       "'NS (2006): '"
      ]
     },
     "metadata": {},
     "output_type": "display_data"
    },
    {
     "data": {
      "text/plain": [
       "0.6054328903017663"
      ]
     },
     "metadata": {},
     "output_type": "display_data"
    },
    {
     "data": {
      "text/plain": [
       "'NS (2007): '"
      ]
     },
     "metadata": {},
     "output_type": "display_data"
    },
    {
     "data": {
      "text/plain": [
       "0.6877684133323086"
      ]
     },
     "metadata": {},
     "output_type": "display_data"
    }
   ],
   "source": [
    "# Actual NSE values for the entire years\n",
    "display('NS (2004): ', NSE(runoff_sim_yearly.iloc[:, 0], runoff_obs_yearly.iloc[:, 0]))\n",
    "display('NS (2005): ', NSE(runoff_sim_yearly.iloc[:, 1], runoff_obs_yearly.iloc[:, 1]))\n",
    "display('NS (2006): ', NSE(runoff_sim_yearly.iloc[:, 2], runoff_obs_yearly.iloc[:, 2]))\n",
    "display('NS (2007): ', NSE(runoff_sim_yearly.iloc[:, 3], runoff_obs_yearly.iloc[:, 3]))"
   ]
  },
  {
   "cell_type": "markdown",
   "metadata": {},
   "source": [
    "#### Calculate NSE each day using runoff values from the preceding days of the year so far"
   ]
  },
  {
   "cell_type": "code",
   "execution_count": 9,
   "metadata": {},
   "outputs": [
    {
     "name": "stderr",
     "output_type": "stream",
     "text": [
      "C:\\Users\\ipdavies\\AppData\\Local\\Continuum\\anaconda3\\envs\\tnc_velma\\lib\\site-packages\\ipykernel_launcher.py:5: RuntimeWarning: divide by zero encountered in double_scalars\n",
      "  \"\"\"\n"
     ]
    },
    {
     "data": {
      "text/html": [
       "<div>\n",
       "<style scoped>\n",
       "    .dataframe tbody tr th:only-of-type {\n",
       "        vertical-align: middle;\n",
       "    }\n",
       "\n",
       "    .dataframe tbody tr th {\n",
       "        vertical-align: top;\n",
       "    }\n",
       "\n",
       "    .dataframe thead th {\n",
       "        text-align: right;\n",
       "    }\n",
       "</style>\n",
       "<table border=\"1\" class=\"dataframe\">\n",
       "  <thead>\n",
       "    <tr style=\"text-align: right;\">\n",
       "      <th>year</th>\n",
       "      <th>2004</th>\n",
       "      <th>2005</th>\n",
       "      <th>2006</th>\n",
       "      <th>2007</th>\n",
       "    </tr>\n",
       "  </thead>\n",
       "  <tbody>\n",
       "    <tr>\n",
       "      <th>0</th>\n",
       "      <td>0.000000</td>\n",
       "      <td>0.000000</td>\n",
       "      <td>0.000000</td>\n",
       "      <td>0.000000</td>\n",
       "    </tr>\n",
       "    <tr>\n",
       "      <th>1</th>\n",
       "      <td>-296.561481</td>\n",
       "      <td>-58.046535</td>\n",
       "      <td>-13.667338</td>\n",
       "      <td>0.340024</td>\n",
       "    </tr>\n",
       "    <tr>\n",
       "      <th>2</th>\n",
       "      <td>-333.509977</td>\n",
       "      <td>-13.155915</td>\n",
       "      <td>-8.284538</td>\n",
       "      <td>0.390773</td>\n",
       "    </tr>\n",
       "    <tr>\n",
       "      <th>3</th>\n",
       "      <td>-195.022296</td>\n",
       "      <td>-6.236488</td>\n",
       "      <td>-7.335483</td>\n",
       "      <td>0.378736</td>\n",
       "    </tr>\n",
       "    <tr>\n",
       "      <th>4</th>\n",
       "      <td>-31.364336</td>\n",
       "      <td>-3.171274</td>\n",
       "      <td>-0.678186</td>\n",
       "      <td>0.417137</td>\n",
       "    </tr>\n",
       "  </tbody>\n",
       "</table>\n",
       "</div>"
      ],
      "text/plain": [
       "year        2004       2005       2006      2007\n",
       "0       0.000000   0.000000   0.000000  0.000000\n",
       "1    -296.561481 -58.046535 -13.667338  0.340024\n",
       "2    -333.509977 -13.155915  -8.284538  0.390773\n",
       "3    -195.022296  -6.236488  -7.335483  0.378736\n",
       "4     -31.364336  -3.171274  -0.678186  0.417137"
      ]
     },
     "execution_count": 9,
     "metadata": {},
     "output_type": "execute_result"
    }
   ],
   "source": [
    "years = runoff_obs_yearly.columns.get_level_values(1)\n",
    "all_nses = []\n",
    "for i, year in enumerate(years):\n",
    "    obs = []\n",
    "    sims = []\n",
    "    yearly_nses = []\n",
    "    for j in range(runoff_sim_yearly.shape[0]):\n",
    "        obs.append(runoff_obs_yearly.iloc[j, i])\n",
    "        sims.append(runoff_sim_yearly.iloc[j, i])\n",
    "        arr = np.column_stack([sims, obs])\n",
    "        result = NSE(arr[:, 0], arr[:, 1])\n",
    "        if np.isneginf(result):\n",
    "            result = 0\n",
    "        yearly_nses.append(result)\n",
    "    all_nses.append(yearly_nses)\n",
    "\n",
    "for x in all_nses:\n",
    "    if len(x) == 365:\n",
    "        x.append(0)\n",
    "df = pd.DataFrame(all_nses)\n",
    "cum_nses = df.transpose()\n",
    "cum_nses.columns = years\n",
    "cum_nses.head()"
   ]
  },
  {
   "cell_type": "code",
   "execution_count": 10,
   "metadata": {},
   "outputs": [
    {
     "data": {
      "application/vnd.jupyter.widget-view+json": {
       "model_id": "b36dc86f8a84475a97dd4555e1c07942",
       "version_major": 2,
       "version_minor": 0
      },
      "text/plain": [
       "Canvas(toolbar=Toolbar(toolitems=[('Home', 'Reset original view', 'home', 'home'), ('Back', 'Back to previous …"
      ]
     },
     "metadata": {},
     "output_type": "display_data"
    }
   ],
   "source": [
    "# Observed vs. simulated runoff\n",
    "years = runoff_obs_yearly.columns.get_level_values(1)\n",
    "fig, axes = plt.subplots(ncols=1, nrows=len(years), figsize=(6, 9))\n",
    "\n",
    "for col, year in enumerate(years):\n",
    "    ax2 = axes[col].twinx()\n",
    "    cum_nses.iloc[:, col].plot(ax=ax2, label='NSE', linewidth=0.5, color='tab:green')\n",
    "    if col == 0:\n",
    "        ax2.set_ylabel('NSE')\n",
    "        ax2.legend(loc='upper right', bbox_to_anchor=(1, 1.3), fancybox=True, ncol=1)\n",
    "    runoff_obs_yearly.iloc[:, col].plot(ax=axes[col], label='Observed', linewidth=1)\n",
    "    runoff_sim_yearly.iloc[:, col].plot(ax=axes[col], label='Simulated', linewidth=1)\n",
    "    ax2.invert_yaxis()\n",
    "    axes[col].set_ylim([0, 80])\n",
    "    ax2.set_ylim([0, 1])\n",
    "    axes[col].set_title(year)\n",
    "axes[0].legend(loc='upper left', bbox_to_anchor=(0, 1.3))\n",
    "axes[0].set_ylabel('Runoff (mm/day)')\n",
    "fig.suptitle('Fig. 2: Observed vs. VELMA simulated runoff (with cumulative NSEs)')\n",
    "plt.tight_layout()"
   ]
  },
  {
   "cell_type": "markdown",
   "metadata": {},
   "source": [
    "## Cumulative NSE after removing extreme values"
   ]
  },
  {
   "cell_type": "markdown",
   "metadata": {},
   "source": [
    "#### Remove less reliable values based on quality flags\n",
    "\"Exceeded rating table (>2x)\" (160), \"Below rating table (<1/2x)\" (161), \"Estimated - unreliable\" (179)."
   ]
  },
  {
   "cell_type": "code",
   "execution_count": 47,
   "metadata": {},
   "outputs": [],
   "source": [
    "runoff_sim = velma_results['Runoff_All(mm/day)_Delineated_Average']\n",
    "df = pd.concat([runoff_sim, runoff_obs, quality], axis=1)\n",
    "df_edited = df.drop(df[(df['Quality'] == 50) | (df['Quality'] == 160) | (df['Quality'] == 161) | (df['Quality'] == 179)].index)\n",
    "df_edited = df.drop(df[(df['Quality'] == 160) | (df['Quality'] == 161) | (df['Quality'] == 179)].index)\n",
    "df_edited = df.drop(df[(df['Quality'] == 160) | (df['Quality'] == 161) | (df['Quality'] == 179) | (df['Quality'] == 254)].index)"
   ]
  },
  {
   "cell_type": "code",
   "execution_count": 48,
   "metadata": {},
   "outputs": [
    {
     "data": {
      "text/plain": [
       "'NSE after removing extreme flagged values'"
      ]
     },
     "metadata": {},
     "output_type": "display_data"
    },
    {
     "data": {
      "text/plain": [
       "'NS (2004): '"
      ]
     },
     "metadata": {},
     "output_type": "display_data"
    },
    {
     "data": {
      "text/plain": [
       "0.7382254253265633"
      ]
     },
     "metadata": {},
     "output_type": "display_data"
    },
    {
     "data": {
      "text/plain": [
       "'NS (2005): '"
      ]
     },
     "metadata": {},
     "output_type": "display_data"
    },
    {
     "data": {
      "text/plain": [
       "0.7726812217255147"
      ]
     },
     "metadata": {},
     "output_type": "display_data"
    },
    {
     "data": {
      "text/plain": [
       "'NS (2006): '"
      ]
     },
     "metadata": {},
     "output_type": "display_data"
    },
    {
     "data": {
      "text/plain": [
       "0.7971166107686073"
      ]
     },
     "metadata": {},
     "output_type": "display_data"
    },
    {
     "data": {
      "text/plain": [
       "'NS (2007): '"
      ]
     },
     "metadata": {},
     "output_type": "display_data"
    },
    {
     "data": {
      "text/plain": [
       "0.6976924025725066"
      ]
     },
     "metadata": {},
     "output_type": "display_data"
    },
    {
     "data": {
      "text/plain": [
       "'NS (2004-2007): '"
      ]
     },
     "metadata": {},
     "output_type": "display_data"
    },
    {
     "data": {
      "text/plain": [
       "0.7620938567039414"
      ]
     },
     "metadata": {},
     "output_type": "display_data"
    },
    {
     "data": {
      "text/plain": [
       "'RMSE (2004-2007): '"
      ]
     },
     "metadata": {},
     "output_type": "display_data"
    },
    {
     "data": {
      "text/plain": [
       "3.526107869295901"
      ]
     },
     "metadata": {},
     "output_type": "display_data"
    },
    {
     "data": {
      "text/plain": [
       "'MAE (2004-2007): '"
      ]
     },
     "metadata": {},
     "output_type": "display_data"
    },
    {
     "data": {
      "text/plain": [
       "1.8123009951973372"
      ]
     },
     "metadata": {},
     "output_type": "display_data"
    }
   ],
   "source": [
    "# 2003-2007 runoff\n",
    "sim_yearly = pd.pivot_table(df_edited[['Runoff_All(mm/day)_Delineated_Average', 'doy', 'year']], \n",
    "                            index=['doy'], \n",
    "                            columns=['year'], \n",
    "                            values=['Runoff_All(mm/day)_Delineated_Average'])\n",
    "\n",
    "obs_yearly = pd.pivot_table(df_edited[['runoff_obs', 'doy', 'year']], \n",
    "                            index=['doy'], \n",
    "                            columns=['year'], \n",
    "                            values=['runoff_obs'])\n",
    "\n",
    "display('NSE after removing extreme flagged values')\n",
    "display('NS (2004): ', NSE(sim_yearly.iloc[:, 0], obs_yearly.iloc[:, 0]))\n",
    "display('NS (2005): ', NSE(sim_yearly.iloc[:, 1], obs_yearly.iloc[:, 1]))\n",
    "display('NS (2006): ', NSE(sim_yearly.iloc[:, 2], obs_yearly.iloc[:, 2]))\n",
    "display('NS (2007): ', NSE(sim_yearly.iloc[:, 3], obs_yearly.iloc[:, 3]))\n",
    "\n",
    "df_edited_04_07 = df_edited[(df_edited.index >= pd.to_datetime('2004-01-01'))]\n",
    "display('NS (2004-2007): ', NSE(df_edited_04_07['Runoff_All(mm/day)_Delineated_Average'], df_edited_04_07['runoff_obs']))\n",
    "display('RMSE (2004-2007): ', np.sqrt(mean_squared_error(df_edited_04_07['Runoff_All(mm/day)_Delineated_Average'], df_edited_04_07['runoff_obs'])))\n",
    "display('MAE (2004-2007): ', mean_absolute_error(df_edited_04_07['Runoff_All(mm/day)_Delineated_Average'], df_edited_04_07['runoff_obs']))"
   ]
  },
  {
   "cell_type": "markdown",
   "metadata": {},
   "source": [
    "#### Calculate NSE each day using runoff values from the preceding days of the year so far"
   ]
  },
  {
   "cell_type": "code",
   "execution_count": 49,
   "metadata": {},
   "outputs": [
    {
     "name": "stderr",
     "output_type": "stream",
     "text": [
      "C:\\Users\\ipdavies\\AppData\\Local\\Continuum\\anaconda3\\envs\\tnc_velma\\lib\\site-packages\\ipykernel_launcher.py:5: RuntimeWarning: divide by zero encountered in double_scalars\n",
      "  \"\"\"\n"
     ]
    },
    {
     "data": {
      "text/html": [
       "<div>\n",
       "<style scoped>\n",
       "    .dataframe tbody tr th:only-of-type {\n",
       "        vertical-align: middle;\n",
       "    }\n",
       "\n",
       "    .dataframe tbody tr th {\n",
       "        vertical-align: top;\n",
       "    }\n",
       "\n",
       "    .dataframe thead th {\n",
       "        text-align: right;\n",
       "    }\n",
       "</style>\n",
       "<table border=\"1\" class=\"dataframe\">\n",
       "  <thead>\n",
       "    <tr style=\"text-align: right;\">\n",
       "      <th>year</th>\n",
       "      <th>2004</th>\n",
       "      <th>2005</th>\n",
       "      <th>2006</th>\n",
       "      <th>2007</th>\n",
       "    </tr>\n",
       "  </thead>\n",
       "  <tbody>\n",
       "    <tr>\n",
       "      <th>361</th>\n",
       "      <td>0.738562</td>\n",
       "      <td>0.747050</td>\n",
       "      <td>0.798087</td>\n",
       "      <td>0.694948</td>\n",
       "    </tr>\n",
       "    <tr>\n",
       "      <th>362</th>\n",
       "      <td>0.738525</td>\n",
       "      <td>0.750092</td>\n",
       "      <td>0.798225</td>\n",
       "      <td>0.696164</td>\n",
       "    </tr>\n",
       "    <tr>\n",
       "      <th>363</th>\n",
       "      <td>0.738463</td>\n",
       "      <td>0.765982</td>\n",
       "      <td>0.797776</td>\n",
       "      <td>0.697161</td>\n",
       "    </tr>\n",
       "    <tr>\n",
       "      <th>364</th>\n",
       "      <td>0.738358</td>\n",
       "      <td>0.772681</td>\n",
       "      <td>0.797117</td>\n",
       "      <td>0.697692</td>\n",
       "    </tr>\n",
       "    <tr>\n",
       "      <th>365</th>\n",
       "      <td>0.738225</td>\n",
       "      <td>0.772681</td>\n",
       "      <td>0.797117</td>\n",
       "      <td>0.697692</td>\n",
       "    </tr>\n",
       "  </tbody>\n",
       "</table>\n",
       "</div>"
      ],
      "text/plain": [
       "year      2004      2005      2006      2007\n",
       "361   0.738562  0.747050  0.798087  0.694948\n",
       "362   0.738525  0.750092  0.798225  0.696164\n",
       "363   0.738463  0.765982  0.797776  0.697161\n",
       "364   0.738358  0.772681  0.797117  0.697692\n",
       "365   0.738225  0.772681  0.797117  0.697692"
      ]
     },
     "execution_count": 49,
     "metadata": {},
     "output_type": "execute_result"
    }
   ],
   "source": [
    "years = obs_yearly.columns.get_level_values(1)\n",
    "all_nses = []\n",
    "for i, year in enumerate(years):\n",
    "    obs = []\n",
    "    sims = []\n",
    "    yearly_nses = []\n",
    "    for j in range(obs_yearly.shape[0]):\n",
    "        obs.append(obs_yearly.iloc[j, i])\n",
    "        sims.append(sim_yearly.iloc[j, i])\n",
    "        arr = np.column_stack([sims, obs])\n",
    "        result = NSE(arr[:, 0], arr[:, 1])\n",
    "        if np.isneginf(result):\n",
    "            result = 0\n",
    "        yearly_nses.append(result)\n",
    "    all_nses.append(yearly_nses)\n",
    "\n",
    "for x in all_nses:\n",
    "    if len(x) == 365:\n",
    "        x.append(0)\n",
    "df = pd.DataFrame(all_nses)\n",
    "edited_cum_nses = df.transpose()\n",
    "edited_cum_nses.columns = years\n",
    "edited_cum_nses.tail()"
   ]
  },
  {
   "cell_type": "code",
   "execution_count": 50,
   "metadata": {},
   "outputs": [
    {
     "data": {
      "application/vnd.jupyter.widget-view+json": {
       "model_id": "5a168acb64e44d07852fda6b7bef1dc1",
       "version_major": 2,
       "version_minor": 0
      },
      "text/plain": [
       "Canvas(toolbar=Toolbar(toolitems=[('Home', 'Reset original view', 'home', 'home'), ('Back', 'Back to previous …"
      ]
     },
     "metadata": {},
     "output_type": "display_data"
    }
   ],
   "source": [
    "years = runoff_obs_yearly.columns.get_level_values(1)\n",
    "fig, axes = plt.subplots(ncols=1, nrows=len(years), figsize=(6, 9))\n",
    "\n",
    "for col, year in enumerate(years):\n",
    "    ax2 = axes[col].twinx()\n",
    "    edited_cum_nses.iloc[:, col].plot(ax=ax2, label='NSE', linewidth=0.5, color='tab:green')\n",
    "    if col == 0:\n",
    "        ax2.set_ylabel('NSE')\n",
    "        ax2.legend(loc='upper right', bbox_to_anchor=(1, 1.3), fancybox=True, ncol=1)\n",
    "    obs_yearly.iloc[:, col].plot(ax=axes[col], label='Observed', linewidth=1)\n",
    "    sim_yearly.iloc[:, col].plot(ax=axes[col], label='Simulated', linewidth=1)\n",
    "    ax2.invert_yaxis()\n",
    "    axes[col].set_ylim([0, 80])\n",
    "    ax2.set_ylim([0, 1])\n",
    "    axes[col].set_title(year)\n",
    "axes[0].legend(loc='upper left', bbox_to_anchor=(0, 1.3))\n",
    "axes[0].set_ylabel('Runoff (mm/day)')\n",
    "fig.suptitle('Fig. 2: Observed vs. VELMA simulated runoff (unreliable values removed)')\n",
    "fig.tight_layout(rect=[0, 0.03, 1, 0.95])"
   ]
  },
  {
   "cell_type": "markdown",
   "metadata": {},
   "source": [
    "## Cumulative relative NSE"
   ]
  },
  {
   "cell_type": "code",
   "execution_count": 51,
   "metadata": {},
   "outputs": [],
   "source": [
    "def rel_NSE(s, o):\n",
    "    obs_mean = np.nanmean(o)\n",
    "    numerator = np.nansum(((o - s)**2) / o)\n",
    "    denominator = np.nansum(((o - obs_mean)**2) / o )\n",
    "    return 1 - numerator/denominator"
   ]
  },
  {
   "cell_type": "code",
   "execution_count": 52,
   "metadata": {},
   "outputs": [
    {
     "name": "stderr",
     "output_type": "stream",
     "text": [
      "C:\\Users\\ipdavies\\AppData\\Local\\Continuum\\anaconda3\\envs\\tnc_velma\\lib\\site-packages\\ipykernel_launcher.py:5: RuntimeWarning: divide by zero encountered in double_scalars\n",
      "  \"\"\"\n"
     ]
    },
    {
     "data": {
      "text/html": [
       "<div>\n",
       "<style scoped>\n",
       "    .dataframe tbody tr th:only-of-type {\n",
       "        vertical-align: middle;\n",
       "    }\n",
       "\n",
       "    .dataframe tbody tr th {\n",
       "        vertical-align: top;\n",
       "    }\n",
       "\n",
       "    .dataframe thead th {\n",
       "        text-align: right;\n",
       "    }\n",
       "</style>\n",
       "<table border=\"1\" class=\"dataframe\">\n",
       "  <thead>\n",
       "    <tr style=\"text-align: right;\">\n",
       "      <th>year</th>\n",
       "      <th>2004</th>\n",
       "      <th>2005</th>\n",
       "      <th>2006</th>\n",
       "      <th>2007</th>\n",
       "    </tr>\n",
       "  </thead>\n",
       "  <tbody>\n",
       "    <tr>\n",
       "      <th>361</th>\n",
       "      <td>0.907392</td>\n",
       "      <td>0.894557</td>\n",
       "      <td>0.905284</td>\n",
       "      <td>0.920873</td>\n",
       "    </tr>\n",
       "    <tr>\n",
       "      <th>362</th>\n",
       "      <td>0.907438</td>\n",
       "      <td>0.896861</td>\n",
       "      <td>0.905860</td>\n",
       "      <td>0.921633</td>\n",
       "    </tr>\n",
       "    <tr>\n",
       "      <th>363</th>\n",
       "      <td>0.907433</td>\n",
       "      <td>0.901936</td>\n",
       "      <td>0.905886</td>\n",
       "      <td>0.922284</td>\n",
       "    </tr>\n",
       "    <tr>\n",
       "      <th>364</th>\n",
       "      <td>0.907350</td>\n",
       "      <td>0.905180</td>\n",
       "      <td>0.905569</td>\n",
       "      <td>0.922743</td>\n",
       "    </tr>\n",
       "    <tr>\n",
       "      <th>365</th>\n",
       "      <td>0.907237</td>\n",
       "      <td>0.905180</td>\n",
       "      <td>0.905569</td>\n",
       "      <td>0.922743</td>\n",
       "    </tr>\n",
       "  </tbody>\n",
       "</table>\n",
       "</div>"
      ],
      "text/plain": [
       "year      2004      2005      2006      2007\n",
       "361   0.907392  0.894557  0.905284  0.920873\n",
       "362   0.907438  0.896861  0.905860  0.921633\n",
       "363   0.907433  0.901936  0.905886  0.922284\n",
       "364   0.907350  0.905180  0.905569  0.922743\n",
       "365   0.907237  0.905180  0.905569  0.922743"
      ]
     },
     "execution_count": 52,
     "metadata": {},
     "output_type": "execute_result"
    }
   ],
   "source": [
    "years = obs_yearly.columns.get_level_values(1)\n",
    "all_nses = []\n",
    "for i, year in enumerate(years):\n",
    "    obs = []\n",
    "    sims = []\n",
    "    yearly_nses = []\n",
    "    for j in range(obs_yearly.shape[0]):\n",
    "        obs.append(obs_yearly.iloc[j, i])\n",
    "        sims.append(sim_yearly.iloc[j, i])\n",
    "        arr = np.column_stack([sims, obs])\n",
    "        result = rel_NSE(arr[:, 0], arr[:, 1])\n",
    "        if np.isneginf(result):\n",
    "            result = 0\n",
    "        yearly_nses.append(result)\n",
    "    all_nses.append(yearly_nses)\n",
    "\n",
    "for x in all_nses:\n",
    "    if len(x) == 365:\n",
    "        x.append(0)\n",
    "df = pd.DataFrame(all_nses)\n",
    "edited_cum_rel_nses = df.transpose()\n",
    "edited_cum_rel_nses.columns = years\n",
    "edited_cum_rel_nses.tail()"
   ]
  },
  {
   "cell_type": "code",
   "execution_count": 53,
   "metadata": {},
   "outputs": [
    {
     "data": {
      "application/vnd.jupyter.widget-view+json": {
       "model_id": "cf71a4bc36e64ec99b8837f998548a69",
       "version_major": 2,
       "version_minor": 0
      },
      "text/plain": [
       "Canvas(toolbar=Toolbar(toolitems=[('Home', 'Reset original view', 'home', 'home'), ('Back', 'Back to previous …"
      ]
     },
     "metadata": {},
     "output_type": "display_data"
    }
   ],
   "source": [
    "years = runoff_obs_yearly.columns.get_level_values(1)\n",
    "fig, axes = plt.subplots(ncols=1, nrows=len(years), figsize=(6, 9))\n",
    "\n",
    "for col, year in enumerate(years):\n",
    "    ax2 = axes[col].twinx()\n",
    "    edited_cum_nses.iloc[:, col].plot(ax=ax2, label='NSE', linewidth=0.5, color='tab:green')\n",
    "    edited_cum_rel_nses.iloc[:, col].plot(ax=ax2, label='Relative NSE', linewidth=0.5, color='tab:red')\n",
    "    if col == 0:\n",
    "        ax2.set_ylabel('rel NSE')\n",
    "        ax2.legend(loc='upper right', bbox_to_anchor=(1, 1.3), fancybox=True, ncol=1)\n",
    "    obs_yearly.iloc[:, col].plot(ax=axes[col], label='Observed', linewidth=1)\n",
    "    sim_yearly.iloc[:, col].plot(ax=axes[col], label='Simulated', linewidth=1)\n",
    "    ax2.invert_yaxis()\n",
    "    axes[col].set_ylim([0, 80])\n",
    "    ax2.set_ylim([0, 1])\n",
    "    axes[col].set_title(year)\n",
    "axes[0].legend(loc='upper left', bbox_to_anchor=(0, 1.3))\n",
    "axes[0].set_ylabel('Runoff (mm/day)')\n",
    "fig.suptitle('Fig. 2: Observed vs. VELMA simulated runoff (unreliable values removed)')\n",
    "fig.tight_layout(rect=[0, 0.03, 1, 0.95])"
   ]
  },
  {
   "cell_type": "markdown",
   "metadata": {},
   "source": [
    "#### Relative NSE always outperforms NSE, and doesn't seem sensitive to any of the errors which suggests it is not a very informative metric"
   ]
  },
  {
   "cell_type": "markdown",
   "metadata": {},
   "source": [
    "## Cumulative log NSE"
   ]
  },
  {
   "cell_type": "code",
   "execution_count": 54,
   "metadata": {},
   "outputs": [],
   "source": [
    "def log_NSE(s, o):\n",
    "    s = np.log(s)\n",
    "    o = np.log(o)\n",
    "    obs_mean = np.nanmean(o)\n",
    "    numerator = np.nansum(((o - s)**2) / o)\n",
    "    denominator = np.nansum(((o - obs_mean)**2) / o )\n",
    "    return 1 - numerator/denominator\n"
   ]
  },
  {
   "cell_type": "code",
   "execution_count": 55,
   "metadata": {},
   "outputs": [
    {
     "name": "stderr",
     "output_type": "stream",
     "text": [
      "C:\\Users\\ipdavies\\AppData\\Local\\Continuum\\anaconda3\\envs\\tnc_velma\\lib\\site-packages\\ipykernel_launcher.py:7: RuntimeWarning: divide by zero encountered in double_scalars\n",
      "  import sys\n"
     ]
    },
    {
     "data": {
      "text/html": [
       "<div>\n",
       "<style scoped>\n",
       "    .dataframe tbody tr th:only-of-type {\n",
       "        vertical-align: middle;\n",
       "    }\n",
       "\n",
       "    .dataframe tbody tr th {\n",
       "        vertical-align: top;\n",
       "    }\n",
       "\n",
       "    .dataframe thead th {\n",
       "        text-align: right;\n",
       "    }\n",
       "</style>\n",
       "<table border=\"1\" class=\"dataframe\">\n",
       "  <thead>\n",
       "    <tr style=\"text-align: right;\">\n",
       "      <th>year</th>\n",
       "      <th>2004</th>\n",
       "      <th>2005</th>\n",
       "      <th>2006</th>\n",
       "      <th>2007</th>\n",
       "    </tr>\n",
       "  </thead>\n",
       "  <tbody>\n",
       "    <tr>\n",
       "      <th>361</th>\n",
       "      <td>0.999323</td>\n",
       "      <td>2.440466</td>\n",
       "      <td>1.011327</td>\n",
       "      <td>0.918521</td>\n",
       "    </tr>\n",
       "    <tr>\n",
       "      <th>362</th>\n",
       "      <td>0.999357</td>\n",
       "      <td>2.492962</td>\n",
       "      <td>1.011228</td>\n",
       "      <td>0.919134</td>\n",
       "    </tr>\n",
       "    <tr>\n",
       "      <th>363</th>\n",
       "      <td>0.999405</td>\n",
       "      <td>2.571261</td>\n",
       "      <td>1.011193</td>\n",
       "      <td>0.919633</td>\n",
       "    </tr>\n",
       "    <tr>\n",
       "      <th>364</th>\n",
       "      <td>0.999502</td>\n",
       "      <td>2.637843</td>\n",
       "      <td>1.011228</td>\n",
       "      <td>0.920054</td>\n",
       "    </tr>\n",
       "    <tr>\n",
       "      <th>365</th>\n",
       "      <td>0.999632</td>\n",
       "      <td>2.637843</td>\n",
       "      <td>1.011228</td>\n",
       "      <td>0.920054</td>\n",
       "    </tr>\n",
       "  </tbody>\n",
       "</table>\n",
       "</div>"
      ],
      "text/plain": [
       "year      2004      2005      2006      2007\n",
       "361   0.999323  2.440466  1.011327  0.918521\n",
       "362   0.999357  2.492962  1.011228  0.919134\n",
       "363   0.999405  2.571261  1.011193  0.919633\n",
       "364   0.999502  2.637843  1.011228  0.920054\n",
       "365   0.999632  2.637843  1.011228  0.920054"
      ]
     },
     "execution_count": 55,
     "metadata": {},
     "output_type": "execute_result"
    }
   ],
   "source": [
    "years = obs_yearly.columns.get_level_values(1)\n",
    "all_nses = []\n",
    "for i, year in enumerate(years):\n",
    "    obs = []\n",
    "    sims = []\n",
    "    yearly_nses = []\n",
    "    for j in range(obs_yearly.shape[0]):\n",
    "        obs.append(obs_yearly.iloc[j, i])\n",
    "        sims.append(sim_yearly.iloc[j, i])\n",
    "        arr = np.column_stack([sims, obs])\n",
    "        result = log_NSE(arr[:, 0], arr[:, 1])\n",
    "        if np.isneginf(result):\n",
    "            result = 0\n",
    "        yearly_nses.append(result)\n",
    "    all_nses.append(yearly_nses)\n",
    "\n",
    "for x in all_nses:\n",
    "    if len(x) == 365:\n",
    "        x.append(0)\n",
    "df = pd.DataFrame(all_nses)\n",
    "edited_cum_log_nses = df.transpose()\n",
    "edited_cum_log_nses.columns = years\n",
    "edited_cum_log_nses.tail()"
   ]
  },
  {
   "cell_type": "code",
   "execution_count": 56,
   "metadata": {},
   "outputs": [
    {
     "data": {
      "application/vnd.jupyter.widget-view+json": {
       "model_id": "e37b2ff932014249a5042faa2b2cdbd9",
       "version_major": 2,
       "version_minor": 0
      },
      "text/plain": [
       "Canvas(toolbar=Toolbar(toolitems=[('Home', 'Reset original view', 'home', 'home'), ('Back', 'Back to previous …"
      ]
     },
     "metadata": {},
     "output_type": "display_data"
    }
   ],
   "source": [
    "years = runoff_obs_yearly.columns.get_level_values(1)\n",
    "fig, axes = plt.subplots(ncols=1, nrows=len(years), figsize=(6, 9))\n",
    "\n",
    "for col, year in enumerate(years):\n",
    "    ax2 = axes[col].twinx()\n",
    "#     edited_cum_nses.iloc[:, col].plot(ax=ax2, label='NSE', linewidth=0.5, color='tab:green')\n",
    "#     edited_cum_rel_nses.iloc[:, col].plot(ax=ax2, label='Relative NSE', linewidth=0.5, color='tab:red')\n",
    "    edited_cum_log_nses.iloc[:, col].plot(ax=ax2, label='ln NSE', linewidth=0.8, color='tab:purple')\n",
    "    if col == 0:\n",
    "        ax2.set_ylabel('rel NSE')\n",
    "        ax2.legend(loc='upper right', bbox_to_anchor=(1, 1.3), fancybox=True, ncol=1)\n",
    "    np.log(obs_yearly.iloc[:, col]).plot(ax=axes[col], label='Observed', linewidth=1)\n",
    "    np.log(sim_yearly.iloc[:, col]).plot(ax=axes[col], label='Simulated', linewidth=1)\n",
    "    ax2.invert_yaxis()\n",
    "#     axes[col].set_ylim([0, 80])\n",
    "#     axes[col].set_yscale('log')\n",
    "    ax2.set_ylim([0, 1])\n",
    "    axes[col].set_title(year)\n",
    "axes[0].legend(loc='upper left', bbox_to_anchor=(0, 1.3))\n",
    "axes[0].set_ylabel('Runoff (mm/day)')\n",
    "fig.suptitle('Fig. 2: Observed vs. VELMA simulated runoff (unreliable values removed)')\n",
    "fig.tight_layout(rect=[0, 0.03, 1, 0.95])"
   ]
  },
  {
   "cell_type": "markdown",
   "metadata": {},
   "source": [
    "#### Log NSE too sensitive to low flows, very erratic"
   ]
  },
  {
   "cell_type": "code",
   "execution_count": null,
   "metadata": {},
   "outputs": [],
   "source": []
  }
 ],
 "metadata": {
  "kernelspec": {
   "display_name": "tnc_velma",
   "language": "python",
   "name": "tnc_velma"
  },
  "language_info": {
   "codemirror_mode": {
    "name": "ipython",
    "version": 3
   },
   "file_extension": ".py",
   "mimetype": "text/x-python",
   "name": "python",
   "nbconvert_exporter": "python",
   "pygments_lexer": "ipython3",
   "version": "3.7.8"
  }
 },
 "nbformat": 4,
 "nbformat_minor": 4
}
